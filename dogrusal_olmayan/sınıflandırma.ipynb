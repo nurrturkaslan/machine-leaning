{
 "cells": [
  {
   "cell_type": "code",
   "execution_count": 1,
   "metadata": {},
   "outputs": [],
   "source": [
    "import numpy as np\n",
    "import pandas as pd\n",
    "import statsmodels.api as sm\n",
    "import seaborn as sns\n",
    "import matplotlib.pyplot as plt\n",
    "from sklearn.preprocessing import scale, StandardScaler\n",
    "from sklearn.model_selection import train_test_split, GridSearchCV, cross_val_score\n",
    "from sklearn.metrics import confusion_matrix, accuracy_score, mean_squared_error, r2_score, roc_auc_score, roc_curve, classification_report\n",
    "from sklearn.linear_model import LinearRegression\n",
    "from sklearn.linear_model import LogisticRegression\n",
    "from sklearn.neighbors import KNeighborsClassifier\n",
    "from sklearn.svm import SVC\n",
    "from sklearn.neural_network import MLPClassifier\n",
    "from sklearn.tree import DecisionTreeClassifier\n",
    "from sklearn.ensemble import RandomForestClassifier\n",
    "from sklearn.ensemble import GradientBoostingClassifier"
   ]
  },
  {
   "cell_type": "code",
   "execution_count": 2,
   "metadata": {},
   "outputs": [],
   "source": [
    "import warnings\n",
    "warnings.filterwarnings(\"ignore\", category=DeprecationWarning)\n",
    "warnings.filterwarnings(\"ignore\", category=FutureWarning)"
   ]
  },
  {
   "cell_type": "markdown",
   "metadata": {},
   "source": [
    "# Veri seti hikayesi ve problem : Şeker hastalığı tahmini"
   ]
  },
  {
   "cell_type": "code",
   "execution_count": 3,
   "metadata": {},
   "outputs": [
    {
     "data": {
      "text/html": [
       "<div>\n",
       "<style scoped>\n",
       "    .dataframe tbody tr th:only-of-type {\n",
       "        vertical-align: middle;\n",
       "    }\n",
       "\n",
       "    .dataframe tbody tr th {\n",
       "        vertical-align: top;\n",
       "    }\n",
       "\n",
       "    .dataframe thead th {\n",
       "        text-align: right;\n",
       "    }\n",
       "</style>\n",
       "<table border=\"1\" class=\"dataframe\">\n",
       "  <thead>\n",
       "    <tr style=\"text-align: right;\">\n",
       "      <th></th>\n",
       "      <th>Pregnancies</th>\n",
       "      <th>Glucose</th>\n",
       "      <th>BloodPressure</th>\n",
       "      <th>SkinThickness</th>\n",
       "      <th>Insulin</th>\n",
       "      <th>BMI</th>\n",
       "      <th>DiabetesPedigreeFunction</th>\n",
       "      <th>Age</th>\n",
       "      <th>Outcome</th>\n",
       "    </tr>\n",
       "  </thead>\n",
       "  <tbody>\n",
       "    <tr>\n",
       "      <th>0</th>\n",
       "      <td>6</td>\n",
       "      <td>148</td>\n",
       "      <td>72</td>\n",
       "      <td>35</td>\n",
       "      <td>0</td>\n",
       "      <td>33.6</td>\n",
       "      <td>0.627</td>\n",
       "      <td>50</td>\n",
       "      <td>1</td>\n",
       "    </tr>\n",
       "    <tr>\n",
       "      <th>1</th>\n",
       "      <td>1</td>\n",
       "      <td>85</td>\n",
       "      <td>66</td>\n",
       "      <td>29</td>\n",
       "      <td>0</td>\n",
       "      <td>26.6</td>\n",
       "      <td>0.351</td>\n",
       "      <td>31</td>\n",
       "      <td>0</td>\n",
       "    </tr>\n",
       "    <tr>\n",
       "      <th>2</th>\n",
       "      <td>8</td>\n",
       "      <td>183</td>\n",
       "      <td>64</td>\n",
       "      <td>0</td>\n",
       "      <td>0</td>\n",
       "      <td>23.3</td>\n",
       "      <td>0.672</td>\n",
       "      <td>32</td>\n",
       "      <td>1</td>\n",
       "    </tr>\n",
       "    <tr>\n",
       "      <th>3</th>\n",
       "      <td>1</td>\n",
       "      <td>89</td>\n",
       "      <td>66</td>\n",
       "      <td>23</td>\n",
       "      <td>94</td>\n",
       "      <td>28.1</td>\n",
       "      <td>0.167</td>\n",
       "      <td>21</td>\n",
       "      <td>0</td>\n",
       "    </tr>\n",
       "    <tr>\n",
       "      <th>4</th>\n",
       "      <td>0</td>\n",
       "      <td>137</td>\n",
       "      <td>40</td>\n",
       "      <td>35</td>\n",
       "      <td>168</td>\n",
       "      <td>43.1</td>\n",
       "      <td>2.288</td>\n",
       "      <td>33</td>\n",
       "      <td>1</td>\n",
       "    </tr>\n",
       "    <tr>\n",
       "      <th>5</th>\n",
       "      <td>5</td>\n",
       "      <td>116</td>\n",
       "      <td>74</td>\n",
       "      <td>0</td>\n",
       "      <td>0</td>\n",
       "      <td>25.6</td>\n",
       "      <td>0.201</td>\n",
       "      <td>30</td>\n",
       "      <td>0</td>\n",
       "    </tr>\n",
       "    <tr>\n",
       "      <th>6</th>\n",
       "      <td>3</td>\n",
       "      <td>78</td>\n",
       "      <td>50</td>\n",
       "      <td>32</td>\n",
       "      <td>88</td>\n",
       "      <td>31.0</td>\n",
       "      <td>0.248</td>\n",
       "      <td>26</td>\n",
       "      <td>1</td>\n",
       "    </tr>\n",
       "    <tr>\n",
       "      <th>7</th>\n",
       "      <td>10</td>\n",
       "      <td>115</td>\n",
       "      <td>0</td>\n",
       "      <td>0</td>\n",
       "      <td>0</td>\n",
       "      <td>35.3</td>\n",
       "      <td>0.134</td>\n",
       "      <td>29</td>\n",
       "      <td>0</td>\n",
       "    </tr>\n",
       "    <tr>\n",
       "      <th>8</th>\n",
       "      <td>2</td>\n",
       "      <td>197</td>\n",
       "      <td>70</td>\n",
       "      <td>45</td>\n",
       "      <td>543</td>\n",
       "      <td>30.5</td>\n",
       "      <td>0.158</td>\n",
       "      <td>53</td>\n",
       "      <td>1</td>\n",
       "    </tr>\n",
       "    <tr>\n",
       "      <th>9</th>\n",
       "      <td>8</td>\n",
       "      <td>125</td>\n",
       "      <td>96</td>\n",
       "      <td>0</td>\n",
       "      <td>0</td>\n",
       "      <td>0.0</td>\n",
       "      <td>0.232</td>\n",
       "      <td>54</td>\n",
       "      <td>1</td>\n",
       "    </tr>\n",
       "    <tr>\n",
       "      <th>10</th>\n",
       "      <td>4</td>\n",
       "      <td>110</td>\n",
       "      <td>92</td>\n",
       "      <td>0</td>\n",
       "      <td>0</td>\n",
       "      <td>37.6</td>\n",
       "      <td>0.191</td>\n",
       "      <td>30</td>\n",
       "      <td>0</td>\n",
       "    </tr>\n",
       "    <tr>\n",
       "      <th>11</th>\n",
       "      <td>10</td>\n",
       "      <td>168</td>\n",
       "      <td>74</td>\n",
       "      <td>0</td>\n",
       "      <td>0</td>\n",
       "      <td>38.0</td>\n",
       "      <td>0.537</td>\n",
       "      <td>34</td>\n",
       "      <td>1</td>\n",
       "    </tr>\n",
       "    <tr>\n",
       "      <th>12</th>\n",
       "      <td>10</td>\n",
       "      <td>139</td>\n",
       "      <td>80</td>\n",
       "      <td>0</td>\n",
       "      <td>0</td>\n",
       "      <td>27.1</td>\n",
       "      <td>1.441</td>\n",
       "      <td>57</td>\n",
       "      <td>0</td>\n",
       "    </tr>\n",
       "    <tr>\n",
       "      <th>13</th>\n",
       "      <td>1</td>\n",
       "      <td>189</td>\n",
       "      <td>60</td>\n",
       "      <td>23</td>\n",
       "      <td>846</td>\n",
       "      <td>30.1</td>\n",
       "      <td>0.398</td>\n",
       "      <td>59</td>\n",
       "      <td>1</td>\n",
       "    </tr>\n",
       "    <tr>\n",
       "      <th>14</th>\n",
       "      <td>5</td>\n",
       "      <td>166</td>\n",
       "      <td>72</td>\n",
       "      <td>19</td>\n",
       "      <td>175</td>\n",
       "      <td>25.8</td>\n",
       "      <td>0.587</td>\n",
       "      <td>51</td>\n",
       "      <td>1</td>\n",
       "    </tr>\n",
       "    <tr>\n",
       "      <th>15</th>\n",
       "      <td>7</td>\n",
       "      <td>100</td>\n",
       "      <td>0</td>\n",
       "      <td>0</td>\n",
       "      <td>0</td>\n",
       "      <td>30.0</td>\n",
       "      <td>0.484</td>\n",
       "      <td>32</td>\n",
       "      <td>1</td>\n",
       "    </tr>\n",
       "    <tr>\n",
       "      <th>16</th>\n",
       "      <td>0</td>\n",
       "      <td>118</td>\n",
       "      <td>84</td>\n",
       "      <td>47</td>\n",
       "      <td>230</td>\n",
       "      <td>45.8</td>\n",
       "      <td>0.551</td>\n",
       "      <td>31</td>\n",
       "      <td>1</td>\n",
       "    </tr>\n",
       "    <tr>\n",
       "      <th>17</th>\n",
       "      <td>7</td>\n",
       "      <td>107</td>\n",
       "      <td>74</td>\n",
       "      <td>0</td>\n",
       "      <td>0</td>\n",
       "      <td>29.6</td>\n",
       "      <td>0.254</td>\n",
       "      <td>31</td>\n",
       "      <td>1</td>\n",
       "    </tr>\n",
       "    <tr>\n",
       "      <th>18</th>\n",
       "      <td>1</td>\n",
       "      <td>103</td>\n",
       "      <td>30</td>\n",
       "      <td>38</td>\n",
       "      <td>83</td>\n",
       "      <td>43.3</td>\n",
       "      <td>0.183</td>\n",
       "      <td>33</td>\n",
       "      <td>0</td>\n",
       "    </tr>\n",
       "    <tr>\n",
       "      <th>19</th>\n",
       "      <td>1</td>\n",
       "      <td>115</td>\n",
       "      <td>70</td>\n",
       "      <td>30</td>\n",
       "      <td>96</td>\n",
       "      <td>34.6</td>\n",
       "      <td>0.529</td>\n",
       "      <td>32</td>\n",
       "      <td>1</td>\n",
       "    </tr>\n",
       "    <tr>\n",
       "      <th>20</th>\n",
       "      <td>3</td>\n",
       "      <td>126</td>\n",
       "      <td>88</td>\n",
       "      <td>41</td>\n",
       "      <td>235</td>\n",
       "      <td>39.3</td>\n",
       "      <td>0.704</td>\n",
       "      <td>27</td>\n",
       "      <td>0</td>\n",
       "    </tr>\n",
       "    <tr>\n",
       "      <th>21</th>\n",
       "      <td>8</td>\n",
       "      <td>99</td>\n",
       "      <td>84</td>\n",
       "      <td>0</td>\n",
       "      <td>0</td>\n",
       "      <td>35.4</td>\n",
       "      <td>0.388</td>\n",
       "      <td>50</td>\n",
       "      <td>0</td>\n",
       "    </tr>\n",
       "    <tr>\n",
       "      <th>22</th>\n",
       "      <td>7</td>\n",
       "      <td>196</td>\n",
       "      <td>90</td>\n",
       "      <td>0</td>\n",
       "      <td>0</td>\n",
       "      <td>39.8</td>\n",
       "      <td>0.451</td>\n",
       "      <td>41</td>\n",
       "      <td>1</td>\n",
       "    </tr>\n",
       "    <tr>\n",
       "      <th>23</th>\n",
       "      <td>9</td>\n",
       "      <td>119</td>\n",
       "      <td>80</td>\n",
       "      <td>35</td>\n",
       "      <td>0</td>\n",
       "      <td>29.0</td>\n",
       "      <td>0.263</td>\n",
       "      <td>29</td>\n",
       "      <td>1</td>\n",
       "    </tr>\n",
       "    <tr>\n",
       "      <th>24</th>\n",
       "      <td>11</td>\n",
       "      <td>143</td>\n",
       "      <td>94</td>\n",
       "      <td>33</td>\n",
       "      <td>146</td>\n",
       "      <td>36.6</td>\n",
       "      <td>0.254</td>\n",
       "      <td>51</td>\n",
       "      <td>1</td>\n",
       "    </tr>\n",
       "    <tr>\n",
       "      <th>25</th>\n",
       "      <td>10</td>\n",
       "      <td>125</td>\n",
       "      <td>70</td>\n",
       "      <td>26</td>\n",
       "      <td>115</td>\n",
       "      <td>31.1</td>\n",
       "      <td>0.205</td>\n",
       "      <td>41</td>\n",
       "      <td>1</td>\n",
       "    </tr>\n",
       "    <tr>\n",
       "      <th>26</th>\n",
       "      <td>7</td>\n",
       "      <td>147</td>\n",
       "      <td>76</td>\n",
       "      <td>0</td>\n",
       "      <td>0</td>\n",
       "      <td>39.4</td>\n",
       "      <td>0.257</td>\n",
       "      <td>43</td>\n",
       "      <td>1</td>\n",
       "    </tr>\n",
       "    <tr>\n",
       "      <th>27</th>\n",
       "      <td>1</td>\n",
       "      <td>97</td>\n",
       "      <td>66</td>\n",
       "      <td>15</td>\n",
       "      <td>140</td>\n",
       "      <td>23.2</td>\n",
       "      <td>0.487</td>\n",
       "      <td>22</td>\n",
       "      <td>0</td>\n",
       "    </tr>\n",
       "    <tr>\n",
       "      <th>28</th>\n",
       "      <td>13</td>\n",
       "      <td>145</td>\n",
       "      <td>82</td>\n",
       "      <td>19</td>\n",
       "      <td>110</td>\n",
       "      <td>22.2</td>\n",
       "      <td>0.245</td>\n",
       "      <td>57</td>\n",
       "      <td>0</td>\n",
       "    </tr>\n",
       "    <tr>\n",
       "      <th>29</th>\n",
       "      <td>5</td>\n",
       "      <td>117</td>\n",
       "      <td>92</td>\n",
       "      <td>0</td>\n",
       "      <td>0</td>\n",
       "      <td>34.1</td>\n",
       "      <td>0.337</td>\n",
       "      <td>38</td>\n",
       "      <td>0</td>\n",
       "    </tr>\n",
       "    <tr>\n",
       "      <th>30</th>\n",
       "      <td>5</td>\n",
       "      <td>109</td>\n",
       "      <td>75</td>\n",
       "      <td>26</td>\n",
       "      <td>0</td>\n",
       "      <td>36.0</td>\n",
       "      <td>0.546</td>\n",
       "      <td>60</td>\n",
       "      <td>0</td>\n",
       "    </tr>\n",
       "    <tr>\n",
       "      <th>31</th>\n",
       "      <td>3</td>\n",
       "      <td>158</td>\n",
       "      <td>76</td>\n",
       "      <td>36</td>\n",
       "      <td>245</td>\n",
       "      <td>31.6</td>\n",
       "      <td>0.851</td>\n",
       "      <td>28</td>\n",
       "      <td>1</td>\n",
       "    </tr>\n",
       "    <tr>\n",
       "      <th>32</th>\n",
       "      <td>3</td>\n",
       "      <td>88</td>\n",
       "      <td>58</td>\n",
       "      <td>11</td>\n",
       "      <td>54</td>\n",
       "      <td>24.8</td>\n",
       "      <td>0.267</td>\n",
       "      <td>22</td>\n",
       "      <td>0</td>\n",
       "    </tr>\n",
       "    <tr>\n",
       "      <th>33</th>\n",
       "      <td>6</td>\n",
       "      <td>92</td>\n",
       "      <td>92</td>\n",
       "      <td>0</td>\n",
       "      <td>0</td>\n",
       "      <td>19.9</td>\n",
       "      <td>0.188</td>\n",
       "      <td>28</td>\n",
       "      <td>0</td>\n",
       "    </tr>\n",
       "    <tr>\n",
       "      <th>34</th>\n",
       "      <td>10</td>\n",
       "      <td>122</td>\n",
       "      <td>78</td>\n",
       "      <td>31</td>\n",
       "      <td>0</td>\n",
       "      <td>27.6</td>\n",
       "      <td>0.512</td>\n",
       "      <td>45</td>\n",
       "      <td>0</td>\n",
       "    </tr>\n",
       "    <tr>\n",
       "      <th>35</th>\n",
       "      <td>4</td>\n",
       "      <td>103</td>\n",
       "      <td>60</td>\n",
       "      <td>33</td>\n",
       "      <td>192</td>\n",
       "      <td>24.0</td>\n",
       "      <td>0.966</td>\n",
       "      <td>33</td>\n",
       "      <td>0</td>\n",
       "    </tr>\n",
       "    <tr>\n",
       "      <th>36</th>\n",
       "      <td>11</td>\n",
       "      <td>138</td>\n",
       "      <td>76</td>\n",
       "      <td>0</td>\n",
       "      <td>0</td>\n",
       "      <td>33.2</td>\n",
       "      <td>0.420</td>\n",
       "      <td>35</td>\n",
       "      <td>0</td>\n",
       "    </tr>\n",
       "    <tr>\n",
       "      <th>37</th>\n",
       "      <td>9</td>\n",
       "      <td>102</td>\n",
       "      <td>76</td>\n",
       "      <td>37</td>\n",
       "      <td>0</td>\n",
       "      <td>32.9</td>\n",
       "      <td>0.665</td>\n",
       "      <td>46</td>\n",
       "      <td>1</td>\n",
       "    </tr>\n",
       "    <tr>\n",
       "      <th>38</th>\n",
       "      <td>2</td>\n",
       "      <td>90</td>\n",
       "      <td>68</td>\n",
       "      <td>42</td>\n",
       "      <td>0</td>\n",
       "      <td>38.2</td>\n",
       "      <td>0.503</td>\n",
       "      <td>27</td>\n",
       "      <td>1</td>\n",
       "    </tr>\n",
       "    <tr>\n",
       "      <th>39</th>\n",
       "      <td>4</td>\n",
       "      <td>111</td>\n",
       "      <td>72</td>\n",
       "      <td>47</td>\n",
       "      <td>207</td>\n",
       "      <td>37.1</td>\n",
       "      <td>1.390</td>\n",
       "      <td>56</td>\n",
       "      <td>1</td>\n",
       "    </tr>\n",
       "    <tr>\n",
       "      <th>40</th>\n",
       "      <td>3</td>\n",
       "      <td>180</td>\n",
       "      <td>64</td>\n",
       "      <td>25</td>\n",
       "      <td>70</td>\n",
       "      <td>34.0</td>\n",
       "      <td>0.271</td>\n",
       "      <td>26</td>\n",
       "      <td>0</td>\n",
       "    </tr>\n",
       "    <tr>\n",
       "      <th>41</th>\n",
       "      <td>7</td>\n",
       "      <td>133</td>\n",
       "      <td>84</td>\n",
       "      <td>0</td>\n",
       "      <td>0</td>\n",
       "      <td>40.2</td>\n",
       "      <td>0.696</td>\n",
       "      <td>37</td>\n",
       "      <td>0</td>\n",
       "    </tr>\n",
       "    <tr>\n",
       "      <th>42</th>\n",
       "      <td>7</td>\n",
       "      <td>106</td>\n",
       "      <td>92</td>\n",
       "      <td>18</td>\n",
       "      <td>0</td>\n",
       "      <td>22.7</td>\n",
       "      <td>0.235</td>\n",
       "      <td>48</td>\n",
       "      <td>0</td>\n",
       "    </tr>\n",
       "    <tr>\n",
       "      <th>43</th>\n",
       "      <td>9</td>\n",
       "      <td>171</td>\n",
       "      <td>110</td>\n",
       "      <td>24</td>\n",
       "      <td>240</td>\n",
       "      <td>45.4</td>\n",
       "      <td>0.721</td>\n",
       "      <td>54</td>\n",
       "      <td>1</td>\n",
       "    </tr>\n",
       "    <tr>\n",
       "      <th>44</th>\n",
       "      <td>7</td>\n",
       "      <td>159</td>\n",
       "      <td>64</td>\n",
       "      <td>0</td>\n",
       "      <td>0</td>\n",
       "      <td>27.4</td>\n",
       "      <td>0.294</td>\n",
       "      <td>40</td>\n",
       "      <td>0</td>\n",
       "    </tr>\n",
       "    <tr>\n",
       "      <th>45</th>\n",
       "      <td>0</td>\n",
       "      <td>180</td>\n",
       "      <td>66</td>\n",
       "      <td>39</td>\n",
       "      <td>0</td>\n",
       "      <td>42.0</td>\n",
       "      <td>1.893</td>\n",
       "      <td>25</td>\n",
       "      <td>1</td>\n",
       "    </tr>\n",
       "    <tr>\n",
       "      <th>46</th>\n",
       "      <td>1</td>\n",
       "      <td>146</td>\n",
       "      <td>56</td>\n",
       "      <td>0</td>\n",
       "      <td>0</td>\n",
       "      <td>29.7</td>\n",
       "      <td>0.564</td>\n",
       "      <td>29</td>\n",
       "      <td>0</td>\n",
       "    </tr>\n",
       "    <tr>\n",
       "      <th>47</th>\n",
       "      <td>2</td>\n",
       "      <td>71</td>\n",
       "      <td>70</td>\n",
       "      <td>27</td>\n",
       "      <td>0</td>\n",
       "      <td>28.0</td>\n",
       "      <td>0.586</td>\n",
       "      <td>22</td>\n",
       "      <td>0</td>\n",
       "    </tr>\n",
       "    <tr>\n",
       "      <th>48</th>\n",
       "      <td>7</td>\n",
       "      <td>103</td>\n",
       "      <td>66</td>\n",
       "      <td>32</td>\n",
       "      <td>0</td>\n",
       "      <td>39.1</td>\n",
       "      <td>0.344</td>\n",
       "      <td>31</td>\n",
       "      <td>1</td>\n",
       "    </tr>\n",
       "    <tr>\n",
       "      <th>49</th>\n",
       "      <td>7</td>\n",
       "      <td>105</td>\n",
       "      <td>0</td>\n",
       "      <td>0</td>\n",
       "      <td>0</td>\n",
       "      <td>0.0</td>\n",
       "      <td>0.305</td>\n",
       "      <td>24</td>\n",
       "      <td>0</td>\n",
       "    </tr>\n",
       "  </tbody>\n",
       "</table>\n",
       "</div>"
      ],
      "text/plain": [
       "    Pregnancies  Glucose  BloodPressure  SkinThickness  Insulin   BMI  \\\n",
       "0             6      148             72             35        0  33.6   \n",
       "1             1       85             66             29        0  26.6   \n",
       "2             8      183             64              0        0  23.3   \n",
       "3             1       89             66             23       94  28.1   \n",
       "4             0      137             40             35      168  43.1   \n",
       "5             5      116             74              0        0  25.6   \n",
       "6             3       78             50             32       88  31.0   \n",
       "7            10      115              0              0        0  35.3   \n",
       "8             2      197             70             45      543  30.5   \n",
       "9             8      125             96              0        0   0.0   \n",
       "10            4      110             92              0        0  37.6   \n",
       "11           10      168             74              0        0  38.0   \n",
       "12           10      139             80              0        0  27.1   \n",
       "13            1      189             60             23      846  30.1   \n",
       "14            5      166             72             19      175  25.8   \n",
       "15            7      100              0              0        0  30.0   \n",
       "16            0      118             84             47      230  45.8   \n",
       "17            7      107             74              0        0  29.6   \n",
       "18            1      103             30             38       83  43.3   \n",
       "19            1      115             70             30       96  34.6   \n",
       "20            3      126             88             41      235  39.3   \n",
       "21            8       99             84              0        0  35.4   \n",
       "22            7      196             90              0        0  39.8   \n",
       "23            9      119             80             35        0  29.0   \n",
       "24           11      143             94             33      146  36.6   \n",
       "25           10      125             70             26      115  31.1   \n",
       "26            7      147             76              0        0  39.4   \n",
       "27            1       97             66             15      140  23.2   \n",
       "28           13      145             82             19      110  22.2   \n",
       "29            5      117             92              0        0  34.1   \n",
       "30            5      109             75             26        0  36.0   \n",
       "31            3      158             76             36      245  31.6   \n",
       "32            3       88             58             11       54  24.8   \n",
       "33            6       92             92              0        0  19.9   \n",
       "34           10      122             78             31        0  27.6   \n",
       "35            4      103             60             33      192  24.0   \n",
       "36           11      138             76              0        0  33.2   \n",
       "37            9      102             76             37        0  32.9   \n",
       "38            2       90             68             42        0  38.2   \n",
       "39            4      111             72             47      207  37.1   \n",
       "40            3      180             64             25       70  34.0   \n",
       "41            7      133             84              0        0  40.2   \n",
       "42            7      106             92             18        0  22.7   \n",
       "43            9      171            110             24      240  45.4   \n",
       "44            7      159             64              0        0  27.4   \n",
       "45            0      180             66             39        0  42.0   \n",
       "46            1      146             56              0        0  29.7   \n",
       "47            2       71             70             27        0  28.0   \n",
       "48            7      103             66             32        0  39.1   \n",
       "49            7      105              0              0        0   0.0   \n",
       "\n",
       "    DiabetesPedigreeFunction  Age  Outcome  \n",
       "0                      0.627   50        1  \n",
       "1                      0.351   31        0  \n",
       "2                      0.672   32        1  \n",
       "3                      0.167   21        0  \n",
       "4                      2.288   33        1  \n",
       "5                      0.201   30        0  \n",
       "6                      0.248   26        1  \n",
       "7                      0.134   29        0  \n",
       "8                      0.158   53        1  \n",
       "9                      0.232   54        1  \n",
       "10                     0.191   30        0  \n",
       "11                     0.537   34        1  \n",
       "12                     1.441   57        0  \n",
       "13                     0.398   59        1  \n",
       "14                     0.587   51        1  \n",
       "15                     0.484   32        1  \n",
       "16                     0.551   31        1  \n",
       "17                     0.254   31        1  \n",
       "18                     0.183   33        0  \n",
       "19                     0.529   32        1  \n",
       "20                     0.704   27        0  \n",
       "21                     0.388   50        0  \n",
       "22                     0.451   41        1  \n",
       "23                     0.263   29        1  \n",
       "24                     0.254   51        1  \n",
       "25                     0.205   41        1  \n",
       "26                     0.257   43        1  \n",
       "27                     0.487   22        0  \n",
       "28                     0.245   57        0  \n",
       "29                     0.337   38        0  \n",
       "30                     0.546   60        0  \n",
       "31                     0.851   28        1  \n",
       "32                     0.267   22        0  \n",
       "33                     0.188   28        0  \n",
       "34                     0.512   45        0  \n",
       "35                     0.966   33        0  \n",
       "36                     0.420   35        0  \n",
       "37                     0.665   46        1  \n",
       "38                     0.503   27        1  \n",
       "39                     1.390   56        1  \n",
       "40                     0.271   26        0  \n",
       "41                     0.696   37        0  \n",
       "42                     0.235   48        0  \n",
       "43                     0.721   54        1  \n",
       "44                     0.294   40        0  \n",
       "45                     1.893   25        1  \n",
       "46                     0.564   29        0  \n",
       "47                     0.586   22        0  \n",
       "48                     0.344   31        1  \n",
       "49                     0.305   24        0  "
      ]
     },
     "execution_count": 3,
     "metadata": {},
     "output_type": "execute_result"
    }
   ],
   "source": [
    "df=pd.read_csv(\"diabetes/diabetes.csv\")\n",
    "df.head(50)"
   ]
  },
  {
   "cell_type": "code",
   "execution_count": 4,
   "metadata": {},
   "outputs": [
    {
     "data": {
      "text/plain": [
       "Pregnancies                 0\n",
       "Glucose                     0\n",
       "BloodPressure               0\n",
       "SkinThickness               0\n",
       "Insulin                     0\n",
       "BMI                         0\n",
       "DiabetesPedigreeFunction    0\n",
       "Age                         0\n",
       "Outcome                     0\n",
       "dtype: int64"
      ]
     },
     "execution_count": 4,
     "metadata": {},
     "output_type": "execute_result"
    }
   ],
   "source": [
    "df.isnull().sum()"
   ]
  },
  {
   "cell_type": "code",
   "execution_count": 6,
   "metadata": {},
   "outputs": [
    {
     "data": {
      "text/plain": [
       "(768, 9)"
      ]
     },
     "execution_count": 6,
     "metadata": {},
     "output_type": "execute_result"
    }
   ],
   "source": [
    "df.shape"
   ]
  },
  {
   "cell_type": "markdown",
   "metadata": {},
   "source": [
    "# Logistic Regression"
   ]
  },
  {
   "cell_type": "markdown",
   "metadata": {},
   "source": [
    "# Model & Tahmin"
   ]
  },
  {
   "cell_type": "code",
   "execution_count": 7,
   "metadata": {},
   "outputs": [
    {
     "data": {
      "text/plain": [
       "0    500\n",
       "1    268\n",
       "Name: Outcome, dtype: int64"
      ]
     },
     "execution_count": 7,
     "metadata": {},
     "output_type": "execute_result"
    }
   ],
   "source": [
    "df[\"Outcome\"].value_counts()"
   ]
  },
  {
   "cell_type": "code",
   "execution_count": 8,
   "metadata": {},
   "outputs": [
    {
     "data": {
      "text/html": [
       "<div>\n",
       "<style scoped>\n",
       "    .dataframe tbody tr th:only-of-type {\n",
       "        vertical-align: middle;\n",
       "    }\n",
       "\n",
       "    .dataframe tbody tr th {\n",
       "        vertical-align: top;\n",
       "    }\n",
       "\n",
       "    .dataframe thead th {\n",
       "        text-align: right;\n",
       "    }\n",
       "</style>\n",
       "<table border=\"1\" class=\"dataframe\">\n",
       "  <thead>\n",
       "    <tr style=\"text-align: right;\">\n",
       "      <th></th>\n",
       "      <th>count</th>\n",
       "      <th>mean</th>\n",
       "      <th>std</th>\n",
       "      <th>min</th>\n",
       "      <th>25%</th>\n",
       "      <th>50%</th>\n",
       "      <th>75%</th>\n",
       "      <th>max</th>\n",
       "    </tr>\n",
       "  </thead>\n",
       "  <tbody>\n",
       "    <tr>\n",
       "      <th>Pregnancies</th>\n",
       "      <td>768.0</td>\n",
       "      <td>3.845052</td>\n",
       "      <td>3.369578</td>\n",
       "      <td>0.000</td>\n",
       "      <td>1.00000</td>\n",
       "      <td>3.0000</td>\n",
       "      <td>6.00000</td>\n",
       "      <td>17.00</td>\n",
       "    </tr>\n",
       "    <tr>\n",
       "      <th>Glucose</th>\n",
       "      <td>768.0</td>\n",
       "      <td>120.894531</td>\n",
       "      <td>31.972618</td>\n",
       "      <td>0.000</td>\n",
       "      <td>99.00000</td>\n",
       "      <td>117.0000</td>\n",
       "      <td>140.25000</td>\n",
       "      <td>199.00</td>\n",
       "    </tr>\n",
       "    <tr>\n",
       "      <th>BloodPressure</th>\n",
       "      <td>768.0</td>\n",
       "      <td>69.105469</td>\n",
       "      <td>19.355807</td>\n",
       "      <td>0.000</td>\n",
       "      <td>62.00000</td>\n",
       "      <td>72.0000</td>\n",
       "      <td>80.00000</td>\n",
       "      <td>122.00</td>\n",
       "    </tr>\n",
       "    <tr>\n",
       "      <th>SkinThickness</th>\n",
       "      <td>768.0</td>\n",
       "      <td>20.536458</td>\n",
       "      <td>15.952218</td>\n",
       "      <td>0.000</td>\n",
       "      <td>0.00000</td>\n",
       "      <td>23.0000</td>\n",
       "      <td>32.00000</td>\n",
       "      <td>99.00</td>\n",
       "    </tr>\n",
       "    <tr>\n",
       "      <th>Insulin</th>\n",
       "      <td>768.0</td>\n",
       "      <td>79.799479</td>\n",
       "      <td>115.244002</td>\n",
       "      <td>0.000</td>\n",
       "      <td>0.00000</td>\n",
       "      <td>30.5000</td>\n",
       "      <td>127.25000</td>\n",
       "      <td>846.00</td>\n",
       "    </tr>\n",
       "    <tr>\n",
       "      <th>BMI</th>\n",
       "      <td>768.0</td>\n",
       "      <td>31.992578</td>\n",
       "      <td>7.884160</td>\n",
       "      <td>0.000</td>\n",
       "      <td>27.30000</td>\n",
       "      <td>32.0000</td>\n",
       "      <td>36.60000</td>\n",
       "      <td>67.10</td>\n",
       "    </tr>\n",
       "    <tr>\n",
       "      <th>DiabetesPedigreeFunction</th>\n",
       "      <td>768.0</td>\n",
       "      <td>0.471876</td>\n",
       "      <td>0.331329</td>\n",
       "      <td>0.078</td>\n",
       "      <td>0.24375</td>\n",
       "      <td>0.3725</td>\n",
       "      <td>0.62625</td>\n",
       "      <td>2.42</td>\n",
       "    </tr>\n",
       "    <tr>\n",
       "      <th>Age</th>\n",
       "      <td>768.0</td>\n",
       "      <td>33.240885</td>\n",
       "      <td>11.760232</td>\n",
       "      <td>21.000</td>\n",
       "      <td>24.00000</td>\n",
       "      <td>29.0000</td>\n",
       "      <td>41.00000</td>\n",
       "      <td>81.00</td>\n",
       "    </tr>\n",
       "    <tr>\n",
       "      <th>Outcome</th>\n",
       "      <td>768.0</td>\n",
       "      <td>0.348958</td>\n",
       "      <td>0.476951</td>\n",
       "      <td>0.000</td>\n",
       "      <td>0.00000</td>\n",
       "      <td>0.0000</td>\n",
       "      <td>1.00000</td>\n",
       "      <td>1.00</td>\n",
       "    </tr>\n",
       "  </tbody>\n",
       "</table>\n",
       "</div>"
      ],
      "text/plain": [
       "                          count        mean         std     min       25%  \\\n",
       "Pregnancies               768.0    3.845052    3.369578   0.000   1.00000   \n",
       "Glucose                   768.0  120.894531   31.972618   0.000  99.00000   \n",
       "BloodPressure             768.0   69.105469   19.355807   0.000  62.00000   \n",
       "SkinThickness             768.0   20.536458   15.952218   0.000   0.00000   \n",
       "Insulin                   768.0   79.799479  115.244002   0.000   0.00000   \n",
       "BMI                       768.0   31.992578    7.884160   0.000  27.30000   \n",
       "DiabetesPedigreeFunction  768.0    0.471876    0.331329   0.078   0.24375   \n",
       "Age                       768.0   33.240885   11.760232  21.000  24.00000   \n",
       "Outcome                   768.0    0.348958    0.476951   0.000   0.00000   \n",
       "\n",
       "                               50%        75%     max  \n",
       "Pregnancies                 3.0000    6.00000   17.00  \n",
       "Glucose                   117.0000  140.25000  199.00  \n",
       "BloodPressure              72.0000   80.00000  122.00  \n",
       "SkinThickness              23.0000   32.00000   99.00  \n",
       "Insulin                    30.5000  127.25000  846.00  \n",
       "BMI                        32.0000   36.60000   67.10  \n",
       "DiabetesPedigreeFunction    0.3725    0.62625    2.42  \n",
       "Age                        29.0000   41.00000   81.00  \n",
       "Outcome                     0.0000    1.00000    1.00  "
      ]
     },
     "execution_count": 8,
     "metadata": {},
     "output_type": "execute_result"
    }
   ],
   "source": [
    "df.describe().T"
   ]
  },
  {
   "cell_type": "code",
   "execution_count": 9,
   "metadata": {},
   "outputs": [],
   "source": [
    "y = df[\"Outcome\"]\n",
    "X = df.drop([\"Outcome\"], axis=1)"
   ]
  },
  {
   "cell_type": "code",
   "execution_count": 10,
   "metadata": {},
   "outputs": [
    {
     "data": {
      "text/plain": [
       "0    1\n",
       "1    0\n",
       "2    1\n",
       "3    0\n",
       "4    1\n",
       "Name: Outcome, dtype: int64"
      ]
     },
     "execution_count": 10,
     "metadata": {},
     "output_type": "execute_result"
    }
   ],
   "source": [
    "y.head()"
   ]
  },
  {
   "cell_type": "code",
   "execution_count": 11,
   "metadata": {},
   "outputs": [
    {
     "data": {
      "text/html": [
       "<div>\n",
       "<style scoped>\n",
       "    .dataframe tbody tr th:only-of-type {\n",
       "        vertical-align: middle;\n",
       "    }\n",
       "\n",
       "    .dataframe tbody tr th {\n",
       "        vertical-align: top;\n",
       "    }\n",
       "\n",
       "    .dataframe thead th {\n",
       "        text-align: right;\n",
       "    }\n",
       "</style>\n",
       "<table border=\"1\" class=\"dataframe\">\n",
       "  <thead>\n",
       "    <tr style=\"text-align: right;\">\n",
       "      <th></th>\n",
       "      <th>Pregnancies</th>\n",
       "      <th>Glucose</th>\n",
       "      <th>BloodPressure</th>\n",
       "      <th>SkinThickness</th>\n",
       "      <th>Insulin</th>\n",
       "      <th>BMI</th>\n",
       "      <th>DiabetesPedigreeFunction</th>\n",
       "      <th>Age</th>\n",
       "    </tr>\n",
       "  </thead>\n",
       "  <tbody>\n",
       "    <tr>\n",
       "      <th>0</th>\n",
       "      <td>6</td>\n",
       "      <td>148</td>\n",
       "      <td>72</td>\n",
       "      <td>35</td>\n",
       "      <td>0</td>\n",
       "      <td>33.6</td>\n",
       "      <td>0.627</td>\n",
       "      <td>50</td>\n",
       "    </tr>\n",
       "    <tr>\n",
       "      <th>1</th>\n",
       "      <td>1</td>\n",
       "      <td>85</td>\n",
       "      <td>66</td>\n",
       "      <td>29</td>\n",
       "      <td>0</td>\n",
       "      <td>26.6</td>\n",
       "      <td>0.351</td>\n",
       "      <td>31</td>\n",
       "    </tr>\n",
       "    <tr>\n",
       "      <th>2</th>\n",
       "      <td>8</td>\n",
       "      <td>183</td>\n",
       "      <td>64</td>\n",
       "      <td>0</td>\n",
       "      <td>0</td>\n",
       "      <td>23.3</td>\n",
       "      <td>0.672</td>\n",
       "      <td>32</td>\n",
       "    </tr>\n",
       "    <tr>\n",
       "      <th>3</th>\n",
       "      <td>1</td>\n",
       "      <td>89</td>\n",
       "      <td>66</td>\n",
       "      <td>23</td>\n",
       "      <td>94</td>\n",
       "      <td>28.1</td>\n",
       "      <td>0.167</td>\n",
       "      <td>21</td>\n",
       "    </tr>\n",
       "    <tr>\n",
       "      <th>4</th>\n",
       "      <td>0</td>\n",
       "      <td>137</td>\n",
       "      <td>40</td>\n",
       "      <td>35</td>\n",
       "      <td>168</td>\n",
       "      <td>43.1</td>\n",
       "      <td>2.288</td>\n",
       "      <td>33</td>\n",
       "    </tr>\n",
       "  </tbody>\n",
       "</table>\n",
       "</div>"
      ],
      "text/plain": [
       "   Pregnancies  Glucose  BloodPressure  SkinThickness  Insulin   BMI  \\\n",
       "0            6      148             72             35        0  33.6   \n",
       "1            1       85             66             29        0  26.6   \n",
       "2            8      183             64              0        0  23.3   \n",
       "3            1       89             66             23       94  28.1   \n",
       "4            0      137             40             35      168  43.1   \n",
       "\n",
       "   DiabetesPedigreeFunction  Age  \n",
       "0                     0.627   50  \n",
       "1                     0.351   31  \n",
       "2                     0.672   32  \n",
       "3                     0.167   21  \n",
       "4                     2.288   33  "
      ]
     },
     "execution_count": 11,
     "metadata": {},
     "output_type": "execute_result"
    }
   ],
   "source": [
    "X.head()"
   ]
  },
  {
   "cell_type": "code",
   "execution_count": 12,
   "metadata": {},
   "outputs": [],
   "source": [
    "loj_model = LogisticRegression(solver = \"liblinear\").fit(X,y)"
   ]
  },
  {
   "cell_type": "code",
   "execution_count": 13,
   "metadata": {},
   "outputs": [
    {
     "data": {
      "text/plain": [
       "array([-5.89159518])"
      ]
     },
     "execution_count": 13,
     "metadata": {},
     "output_type": "execute_result"
    }
   ],
   "source": [
    "loj_model.intercept_"
   ]
  },
  {
   "cell_type": "code",
   "execution_count": 14,
   "metadata": {},
   "outputs": [
    {
     "data": {
      "text/plain": [
       "array([[ 1.17052230e-01,  2.83873955e-02, -1.68897224e-02,\n",
       "         7.55274087e-04, -6.42755924e-04,  5.97603789e-02,\n",
       "         6.77671880e-01,  7.23947807e-03]])"
      ]
     },
     "execution_count": 14,
     "metadata": {},
     "output_type": "execute_result"
    }
   ],
   "source": [
    "loj_model.coef_"
   ]
  },
  {
   "cell_type": "code",
   "execution_count": 15,
   "metadata": {},
   "outputs": [
    {
     "data": {
      "text/plain": [
       "array([1, 0, 1, 0, 1, 0, 0, 1, 1, 0], dtype=int64)"
      ]
     },
     "execution_count": 15,
     "metadata": {},
     "output_type": "execute_result"
    }
   ],
   "source": [
    "loj_model.predict(X)[0:10]"
   ]
  },
  {
   "cell_type": "code",
   "execution_count": 16,
   "metadata": {},
   "outputs": [
    {
     "data": {
      "text/plain": [
       "0    1\n",
       "1    0\n",
       "2    1\n",
       "3    0\n",
       "4    1\n",
       "5    0\n",
       "6    1\n",
       "7    0\n",
       "8    1\n",
       "9    1\n",
       "Name: Outcome, dtype: int64"
      ]
     },
     "execution_count": 16,
     "metadata": {},
     "output_type": "execute_result"
    }
   ],
   "source": [
    "y[0:10]"
   ]
  },
  {
   "cell_type": "code",
   "execution_count": 17,
   "metadata": {},
   "outputs": [],
   "source": [
    "y_pred = loj_model.predict(X)"
   ]
  },
  {
   "cell_type": "code",
   "execution_count": 18,
   "metadata": {},
   "outputs": [
    {
     "data": {
      "text/plain": [
       "array([[448,  52],\n",
       "       [121, 147]], dtype=int64)"
      ]
     },
     "execution_count": 18,
     "metadata": {},
     "output_type": "execute_result"
    }
   ],
   "source": [
    "confusion_matrix(y, y_pred)"
   ]
  },
  {
   "cell_type": "code",
   "execution_count": 19,
   "metadata": {},
   "outputs": [
    {
     "data": {
      "text/plain": [
       "0.7747395833333334"
      ]
     },
     "execution_count": 19,
     "metadata": {},
     "output_type": "execute_result"
    }
   ],
   "source": [
    "accuracy_score(y, y_pred)"
   ]
  },
  {
   "cell_type": "code",
   "execution_count": 20,
   "metadata": {},
   "outputs": [
    {
     "name": "stdout",
     "output_type": "stream",
     "text": [
      "              precision    recall  f1-score   support\n",
      "\n",
      "           0       0.79      0.90      0.84       500\n",
      "           1       0.74      0.55      0.63       268\n",
      "\n",
      "    accuracy                           0.77       768\n",
      "   macro avg       0.76      0.72      0.73       768\n",
      "weighted avg       0.77      0.77      0.77       768\n",
      "\n"
     ]
    }
   ],
   "source": [
    "print(classification_report(y, y_pred)) #daha detaylı sınıflandırma raporu"
   ]
  },
  {
   "cell_type": "code",
   "execution_count": 21,
   "metadata": {},
   "outputs": [
    {
     "data": {
      "text/plain": [
       "array([[0.35040711, 0.64959289],\n",
       "       [0.91701929, 0.08298071],\n",
       "       [0.22474085, 0.77525915],\n",
       "       [0.92138876, 0.07861124],\n",
       "       [0.1672242 , 0.8327758 ],\n",
       "       [0.79898675, 0.20101325],\n",
       "       [0.88019106, 0.11980894],\n",
       "       [0.2781269 , 0.7218731 ],\n",
       "       [0.32060943, 0.67939057],\n",
       "       [0.92272884, 0.07727116]])"
      ]
     },
     "execution_count": 21,
     "metadata": {},
     "output_type": "execute_result"
    }
   ],
   "source": [
    "loj_model.predict_proba(X)[0:10] # sınıf olasılık değerlerine erişmek istersek"
   ]
  },
  {
   "cell_type": "markdown",
   "metadata": {},
   "source": [
    "# Model Tuning( Model Doğrulama)"
   ]
  },
  {
   "cell_type": "code",
   "execution_count": 22,
   "metadata": {},
   "outputs": [],
   "source": [
    "X_train, X_test, y_train, y_test = train_test_split(X,\n",
    "                                                    y,\n",
    "                                                    test_size = 0.30,\n",
    "                                                    random_state = 42)"
   ]
  },
  {
   "cell_type": "code",
   "execution_count": 23,
   "metadata": {},
   "outputs": [],
   "source": [
    "loj_model = LogisticRegression(solver = \"liblinear\").fit(X_train,y_train)"
   ]
  },
  {
   "cell_type": "code",
   "execution_count": 24,
   "metadata": {},
   "outputs": [],
   "source": [
    "y_pred = loj_model.predict(X_test)"
   ]
  },
  {
   "cell_type": "code",
   "execution_count": 25,
   "metadata": {},
   "outputs": [
    {
     "name": "stdout",
     "output_type": "stream",
     "text": [
      "0.7532467532467533\n"
     ]
    }
   ],
   "source": [
    "print(accuracy_score(y_test, y_pred)) #test hatası değeri erişmek için #bu score ne kadar büyükse o kadar başarılı"
   ]
  },
  {
   "cell_type": "code",
   "execution_count": 26,
   "metadata": {},
   "outputs": [
    {
     "data": {
      "text/plain": [
       "0.7704710144927536"
      ]
     },
     "execution_count": 26,
     "metadata": {},
     "output_type": "execute_result"
    }
   ],
   "source": [
    "cross_val_score(loj_model, X_test, y_test, cv=10).mean()"
   ]
  },
  {
   "cell_type": "markdown",
   "metadata": {},
   "source": [
    "# K-En Yakın Komşu (KNN)"
   ]
  },
  {
   "cell_type": "code",
   "execution_count": 27,
   "metadata": {},
   "outputs": [
    {
     "data": {
      "text/html": [
       "<div>\n",
       "<style scoped>\n",
       "    .dataframe tbody tr th:only-of-type {\n",
       "        vertical-align: middle;\n",
       "    }\n",
       "\n",
       "    .dataframe tbody tr th {\n",
       "        vertical-align: top;\n",
       "    }\n",
       "\n",
       "    .dataframe thead th {\n",
       "        text-align: right;\n",
       "    }\n",
       "</style>\n",
       "<table border=\"1\" class=\"dataframe\">\n",
       "  <thead>\n",
       "    <tr style=\"text-align: right;\">\n",
       "      <th></th>\n",
       "      <th>Pregnancies</th>\n",
       "      <th>Glucose</th>\n",
       "      <th>BloodPressure</th>\n",
       "      <th>SkinThickness</th>\n",
       "      <th>Insulin</th>\n",
       "      <th>BMI</th>\n",
       "      <th>DiabetesPedigreeFunction</th>\n",
       "      <th>Age</th>\n",
       "      <th>Outcome</th>\n",
       "    </tr>\n",
       "  </thead>\n",
       "  <tbody>\n",
       "    <tr>\n",
       "      <th>0</th>\n",
       "      <td>6</td>\n",
       "      <td>148</td>\n",
       "      <td>72</td>\n",
       "      <td>35</td>\n",
       "      <td>0</td>\n",
       "      <td>33.6</td>\n",
       "      <td>0.627</td>\n",
       "      <td>50</td>\n",
       "      <td>1</td>\n",
       "    </tr>\n",
       "    <tr>\n",
       "      <th>1</th>\n",
       "      <td>1</td>\n",
       "      <td>85</td>\n",
       "      <td>66</td>\n",
       "      <td>29</td>\n",
       "      <td>0</td>\n",
       "      <td>26.6</td>\n",
       "      <td>0.351</td>\n",
       "      <td>31</td>\n",
       "      <td>0</td>\n",
       "    </tr>\n",
       "    <tr>\n",
       "      <th>2</th>\n",
       "      <td>8</td>\n",
       "      <td>183</td>\n",
       "      <td>64</td>\n",
       "      <td>0</td>\n",
       "      <td>0</td>\n",
       "      <td>23.3</td>\n",
       "      <td>0.672</td>\n",
       "      <td>32</td>\n",
       "      <td>1</td>\n",
       "    </tr>\n",
       "    <tr>\n",
       "      <th>3</th>\n",
       "      <td>1</td>\n",
       "      <td>89</td>\n",
       "      <td>66</td>\n",
       "      <td>23</td>\n",
       "      <td>94</td>\n",
       "      <td>28.1</td>\n",
       "      <td>0.167</td>\n",
       "      <td>21</td>\n",
       "      <td>0</td>\n",
       "    </tr>\n",
       "    <tr>\n",
       "      <th>4</th>\n",
       "      <td>0</td>\n",
       "      <td>137</td>\n",
       "      <td>40</td>\n",
       "      <td>35</td>\n",
       "      <td>168</td>\n",
       "      <td>43.1</td>\n",
       "      <td>2.288</td>\n",
       "      <td>33</td>\n",
       "      <td>1</td>\n",
       "    </tr>\n",
       "  </tbody>\n",
       "</table>\n",
       "</div>"
      ],
      "text/plain": [
       "   Pregnancies  Glucose  BloodPressure  SkinThickness  Insulin   BMI  \\\n",
       "0            6      148             72             35        0  33.6   \n",
       "1            1       85             66             29        0  26.6   \n",
       "2            8      183             64              0        0  23.3   \n",
       "3            1       89             66             23       94  28.1   \n",
       "4            0      137             40             35      168  43.1   \n",
       "\n",
       "   DiabetesPedigreeFunction  Age  Outcome  \n",
       "0                     0.627   50        1  \n",
       "1                     0.351   31        0  \n",
       "2                     0.672   32        1  \n",
       "3                     0.167   21        0  \n",
       "4                     2.288   33        1  "
      ]
     },
     "execution_count": 27,
     "metadata": {},
     "output_type": "execute_result"
    }
   ],
   "source": [
    "df.head()"
   ]
  },
  {
   "cell_type": "code",
   "execution_count": 28,
   "metadata": {},
   "outputs": [],
   "source": [
    "X_train, X_test, y_train, y_test = train_test_split(X,\n",
    "                                                    y,\n",
    "                                                    test_size = 0.30,\n",
    "                                                    random_state = 42)"
   ]
  },
  {
   "cell_type": "markdown",
   "metadata": {},
   "source": [
    "# Model & Tahmin"
   ]
  },
  {
   "cell_type": "code",
   "execution_count": 29,
   "metadata": {},
   "outputs": [
    {
     "data": {
      "text/plain": [
       "KNeighborsClassifier()"
      ]
     },
     "execution_count": 29,
     "metadata": {},
     "output_type": "execute_result"
    }
   ],
   "source": [
    "knn_model = KNeighborsClassifier().fit(X_train, y_train)\n",
    "knn_model"
   ]
  },
  {
   "cell_type": "code",
   "execution_count": 30,
   "metadata": {},
   "outputs": [],
   "source": [
    "y_pred = knn_model.predict(X_test)"
   ]
  },
  {
   "cell_type": "code",
   "execution_count": 31,
   "metadata": {},
   "outputs": [
    {
     "data": {
      "text/plain": [
       "0.6883116883116883"
      ]
     },
     "execution_count": 31,
     "metadata": {},
     "output_type": "execute_result"
    }
   ],
   "source": [
    "accuracy_score(y_test, y_pred)"
   ]
  },
  {
   "cell_type": "code",
   "execution_count": 32,
   "metadata": {},
   "outputs": [
    {
     "name": "stdout",
     "output_type": "stream",
     "text": [
      "              precision    recall  f1-score   support\n",
      "\n",
      "           0       0.77      0.75      0.76       151\n",
      "           1       0.55      0.56      0.56        80\n",
      "\n",
      "    accuracy                           0.69       231\n",
      "   macro avg       0.66      0.66      0.66       231\n",
      "weighted avg       0.69      0.69      0.69       231\n",
      "\n"
     ]
    }
   ],
   "source": [
    "print(classification_report(y_test, y_pred))"
   ]
  },
  {
   "cell_type": "markdown",
   "metadata": {},
   "source": [
    "# Model Tuning ( Model Doğrulama)"
   ]
  },
  {
   "cell_type": "code",
   "execution_count": 33,
   "metadata": {},
   "outputs": [],
   "source": [
    "knn = KNeighborsClassifier()"
   ]
  },
  {
   "cell_type": "code",
   "execution_count": 34,
   "metadata": {},
   "outputs": [],
   "source": [
    "knn_params = {\"n_neighbors\": np.arange(1,50)}"
   ]
  },
  {
   "cell_type": "code",
   "execution_count": 35,
   "metadata": {},
   "outputs": [],
   "source": [
    "knn_cv_model = GridSearchCV(knn, knn_params, cv=10).fit(X_train, y_train)"
   ]
  },
  {
   "cell_type": "code",
   "execution_count": 36,
   "metadata": {},
   "outputs": [
    {
     "data": {
      "text/plain": [
       "0.748637316561845"
      ]
     },
     "execution_count": 36,
     "metadata": {},
     "output_type": "execute_result"
    }
   ],
   "source": [
    "knn_cv_model.best_score_"
   ]
  },
  {
   "cell_type": "code",
   "execution_count": 37,
   "metadata": {},
   "outputs": [
    {
     "data": {
      "text/plain": [
       "{'n_neighbors': 11}"
      ]
     },
     "execution_count": 37,
     "metadata": {},
     "output_type": "execute_result"
    }
   ],
   "source": [
    "knn_cv_model.best_params_"
   ]
  },
  {
   "cell_type": "markdown",
   "metadata": {},
   "source": [
    "# Final model"
   ]
  },
  {
   "cell_type": "code",
   "execution_count": 38,
   "metadata": {},
   "outputs": [],
   "source": [
    "knn_tuned = KNeighborsClassifier(n_neighbors = 11).fit(X_train, y_train)"
   ]
  },
  {
   "cell_type": "code",
   "execution_count": 39,
   "metadata": {},
   "outputs": [],
   "source": [
    "y_pred  = knn_tuned.predict(X_test)"
   ]
  },
  {
   "cell_type": "code",
   "execution_count": 40,
   "metadata": {},
   "outputs": [
    {
     "data": {
      "text/plain": [
       "0.7316017316017316"
      ]
     },
     "execution_count": 40,
     "metadata": {},
     "output_type": "execute_result"
    }
   ],
   "source": [
    "accuracy_score(y_test, y_pred)"
   ]
  },
  {
   "cell_type": "code",
   "execution_count": 41,
   "metadata": {},
   "outputs": [
    {
     "data": {
      "text/plain": [
       "0.7316017316017316"
      ]
     },
     "execution_count": 41,
     "metadata": {},
     "output_type": "execute_result"
    }
   ],
   "source": [
    "knn_tuned.score(X_test, y_test) # yada pred kullanmadan pratik bir şekilde score hesaplanabilir"
   ]
  },
  {
   "cell_type": "markdown",
   "metadata": {},
   "source": [
    "# Support Vector Machines"
   ]
  },
  {
   "cell_type": "markdown",
   "metadata": {},
   "source": [
    "# Model & Tahnin"
   ]
  },
  {
   "cell_type": "code",
   "execution_count": 43,
   "metadata": {},
   "outputs": [
    {
     "data": {
      "text/html": [
       "<div>\n",
       "<style scoped>\n",
       "    .dataframe tbody tr th:only-of-type {\n",
       "        vertical-align: middle;\n",
       "    }\n",
       "\n",
       "    .dataframe tbody tr th {\n",
       "        vertical-align: top;\n",
       "    }\n",
       "\n",
       "    .dataframe thead th {\n",
       "        text-align: right;\n",
       "    }\n",
       "</style>\n",
       "<table border=\"1\" class=\"dataframe\">\n",
       "  <thead>\n",
       "    <tr style=\"text-align: right;\">\n",
       "      <th></th>\n",
       "      <th>Pregnancies</th>\n",
       "      <th>Glucose</th>\n",
       "      <th>BloodPressure</th>\n",
       "      <th>SkinThickness</th>\n",
       "      <th>Insulin</th>\n",
       "      <th>BMI</th>\n",
       "      <th>DiabetesPedigreeFunction</th>\n",
       "      <th>Age</th>\n",
       "      <th>Outcome</th>\n",
       "    </tr>\n",
       "  </thead>\n",
       "  <tbody>\n",
       "    <tr>\n",
       "      <th>0</th>\n",
       "      <td>6</td>\n",
       "      <td>148</td>\n",
       "      <td>72</td>\n",
       "      <td>35</td>\n",
       "      <td>0</td>\n",
       "      <td>33.6</td>\n",
       "      <td>0.627</td>\n",
       "      <td>50</td>\n",
       "      <td>1</td>\n",
       "    </tr>\n",
       "    <tr>\n",
       "      <th>1</th>\n",
       "      <td>1</td>\n",
       "      <td>85</td>\n",
       "      <td>66</td>\n",
       "      <td>29</td>\n",
       "      <td>0</td>\n",
       "      <td>26.6</td>\n",
       "      <td>0.351</td>\n",
       "      <td>31</td>\n",
       "      <td>0</td>\n",
       "    </tr>\n",
       "    <tr>\n",
       "      <th>2</th>\n",
       "      <td>8</td>\n",
       "      <td>183</td>\n",
       "      <td>64</td>\n",
       "      <td>0</td>\n",
       "      <td>0</td>\n",
       "      <td>23.3</td>\n",
       "      <td>0.672</td>\n",
       "      <td>32</td>\n",
       "      <td>1</td>\n",
       "    </tr>\n",
       "    <tr>\n",
       "      <th>3</th>\n",
       "      <td>1</td>\n",
       "      <td>89</td>\n",
       "      <td>66</td>\n",
       "      <td>23</td>\n",
       "      <td>94</td>\n",
       "      <td>28.1</td>\n",
       "      <td>0.167</td>\n",
       "      <td>21</td>\n",
       "      <td>0</td>\n",
       "    </tr>\n",
       "    <tr>\n",
       "      <th>4</th>\n",
       "      <td>0</td>\n",
       "      <td>137</td>\n",
       "      <td>40</td>\n",
       "      <td>35</td>\n",
       "      <td>168</td>\n",
       "      <td>43.1</td>\n",
       "      <td>2.288</td>\n",
       "      <td>33</td>\n",
       "      <td>1</td>\n",
       "    </tr>\n",
       "  </tbody>\n",
       "</table>\n",
       "</div>"
      ],
      "text/plain": [
       "   Pregnancies  Glucose  BloodPressure  SkinThickness  Insulin   BMI  \\\n",
       "0            6      148             72             35        0  33.6   \n",
       "1            1       85             66             29        0  26.6   \n",
       "2            8      183             64              0        0  23.3   \n",
       "3            1       89             66             23       94  28.1   \n",
       "4            0      137             40             35      168  43.1   \n",
       "\n",
       "   DiabetesPedigreeFunction  Age  Outcome  \n",
       "0                     0.627   50        1  \n",
       "1                     0.351   31        0  \n",
       "2                     0.672   32        1  \n",
       "3                     0.167   21        0  \n",
       "4                     2.288   33        1  "
      ]
     },
     "execution_count": 43,
     "metadata": {},
     "output_type": "execute_result"
    }
   ],
   "source": [
    "df.head()"
   ]
  },
  {
   "cell_type": "code",
   "execution_count": 44,
   "metadata": {},
   "outputs": [],
   "source": [
    "X_train, X_test, y_train, y_test = train_test_split(X,\n",
    "                                                    y,\n",
    "                                                    test_size = 0.30,\n",
    "                                                    random_state = 42)"
   ]
  },
  {
   "cell_type": "code",
   "execution_count": 45,
   "metadata": {},
   "outputs": [],
   "source": [
    "svm_model = SVC(kernel = \"linear\").fit(X_train, y_train)"
   ]
  },
  {
   "cell_type": "code",
   "execution_count": 46,
   "metadata": {},
   "outputs": [
    {
     "data": {
      "text/plain": [
       "SVC(kernel='linear')"
      ]
     },
     "execution_count": 46,
     "metadata": {},
     "output_type": "execute_result"
    }
   ],
   "source": [
    "svm_model"
   ]
  },
  {
   "cell_type": "code",
   "execution_count": 47,
   "metadata": {},
   "outputs": [],
   "source": [
    "y_pred = svm_model.predict(X_test)"
   ]
  },
  {
   "cell_type": "code",
   "execution_count": 48,
   "metadata": {},
   "outputs": [
    {
     "data": {
      "text/plain": [
       "0.7445887445887446"
      ]
     },
     "execution_count": 48,
     "metadata": {},
     "output_type": "execute_result"
    }
   ],
   "source": [
    "accuracy_score(y_test, y_pred)"
   ]
  },
  {
   "cell_type": "markdown",
   "metadata": {},
   "source": [
    "# Model Tuning"
   ]
  },
  {
   "cell_type": "code",
   "execution_count": 49,
   "metadata": {},
   "outputs": [],
   "source": [
    "svm = SVC()"
   ]
  },
  {
   "cell_type": "code",
   "execution_count": 50,
   "metadata": {},
   "outputs": [],
   "source": [
    "svm_params={\"C\": np.arange(1,3), \"kernel\": [\"linear\",\"rbf\"]}"
   ]
  },
  {
   "cell_type": "code",
   "execution_count": 51,
   "metadata": {},
   "outputs": [
    {
     "name": "stdout",
     "output_type": "stream",
     "text": [
      "Fitting 5 folds for each of 4 candidates, totalling 20 fits\n"
     ]
    },
    {
     "name": "stderr",
     "output_type": "stream",
     "text": [
      "[Parallel(n_jobs=-1)]: Using backend LokyBackend with 4 concurrent workers.\n",
      "[Parallel(n_jobs=-1)]: Done  20 out of  20 | elapsed:   19.7s finished\n"
     ]
    }
   ],
   "source": [
    "svm_cv_model = GridSearchCV(svm, svm_params, cv=5, n_jobs=-1, verbose=2).fit(X_train, y_train)"
   ]
  },
  {
   "cell_type": "code",
   "execution_count": 52,
   "metadata": {},
   "outputs": [
    {
     "data": {
      "text/plain": [
       "0.7839044652128765"
      ]
     },
     "execution_count": 52,
     "metadata": {},
     "output_type": "execute_result"
    }
   ],
   "source": [
    "svm_cv_model.best_score_"
   ]
  },
  {
   "cell_type": "code",
   "execution_count": 53,
   "metadata": {},
   "outputs": [
    {
     "data": {
      "text/plain": [
       "{'C': 2, 'kernel': 'linear'}"
      ]
     },
     "execution_count": 53,
     "metadata": {},
     "output_type": "execute_result"
    }
   ],
   "source": [
    "svm_cv_model.best_params_"
   ]
  },
  {
   "cell_type": "markdown",
   "metadata": {},
   "source": [
    "# Final model"
   ]
  },
  {
   "cell_type": "code",
   "execution_count": 54,
   "metadata": {},
   "outputs": [],
   "source": [
    "svm_tuned = SVC(C=2, kernel = \"linear\").fit(X_train, y_train)"
   ]
  },
  {
   "cell_type": "code",
   "execution_count": 55,
   "metadata": {},
   "outputs": [],
   "source": [
    "y_pred = svm_model.predict(X_test)"
   ]
  },
  {
   "cell_type": "code",
   "execution_count": 56,
   "metadata": {},
   "outputs": [
    {
     "data": {
      "text/plain": [
       "0.7445887445887446"
      ]
     },
     "execution_count": 56,
     "metadata": {},
     "output_type": "execute_result"
    }
   ],
   "source": [
    "accuracy_score(y_test, y_pred)"
   ]
  },
  {
   "cell_type": "code",
   "execution_count": 57,
   "metadata": {},
   "outputs": [
    {
     "data": {
      "text/plain": [
       "0.7445887445887446"
      ]
     },
     "execution_count": 57,
     "metadata": {},
     "output_type": "execute_result"
    }
   ],
   "source": [
    "svm_tuned.score(X_test, y_test)"
   ]
  },
  {
   "cell_type": "markdown",
   "metadata": {},
   "source": [
    "# Yapay Sinir Ağları"
   ]
  },
  {
   "cell_type": "code",
   "execution_count": 58,
   "metadata": {},
   "outputs": [
    {
     "data": {
      "text/html": [
       "<div>\n",
       "<style scoped>\n",
       "    .dataframe tbody tr th:only-of-type {\n",
       "        vertical-align: middle;\n",
       "    }\n",
       "\n",
       "    .dataframe tbody tr th {\n",
       "        vertical-align: top;\n",
       "    }\n",
       "\n",
       "    .dataframe thead th {\n",
       "        text-align: right;\n",
       "    }\n",
       "</style>\n",
       "<table border=\"1\" class=\"dataframe\">\n",
       "  <thead>\n",
       "    <tr style=\"text-align: right;\">\n",
       "      <th></th>\n",
       "      <th>Pregnancies</th>\n",
       "      <th>Glucose</th>\n",
       "      <th>BloodPressure</th>\n",
       "      <th>SkinThickness</th>\n",
       "      <th>Insulin</th>\n",
       "      <th>BMI</th>\n",
       "      <th>DiabetesPedigreeFunction</th>\n",
       "      <th>Age</th>\n",
       "      <th>Outcome</th>\n",
       "    </tr>\n",
       "  </thead>\n",
       "  <tbody>\n",
       "    <tr>\n",
       "      <th>0</th>\n",
       "      <td>6</td>\n",
       "      <td>148</td>\n",
       "      <td>72</td>\n",
       "      <td>35</td>\n",
       "      <td>0</td>\n",
       "      <td>33.6</td>\n",
       "      <td>0.627</td>\n",
       "      <td>50</td>\n",
       "      <td>1</td>\n",
       "    </tr>\n",
       "    <tr>\n",
       "      <th>1</th>\n",
       "      <td>1</td>\n",
       "      <td>85</td>\n",
       "      <td>66</td>\n",
       "      <td>29</td>\n",
       "      <td>0</td>\n",
       "      <td>26.6</td>\n",
       "      <td>0.351</td>\n",
       "      <td>31</td>\n",
       "      <td>0</td>\n",
       "    </tr>\n",
       "    <tr>\n",
       "      <th>2</th>\n",
       "      <td>8</td>\n",
       "      <td>183</td>\n",
       "      <td>64</td>\n",
       "      <td>0</td>\n",
       "      <td>0</td>\n",
       "      <td>23.3</td>\n",
       "      <td>0.672</td>\n",
       "      <td>32</td>\n",
       "      <td>1</td>\n",
       "    </tr>\n",
       "    <tr>\n",
       "      <th>3</th>\n",
       "      <td>1</td>\n",
       "      <td>89</td>\n",
       "      <td>66</td>\n",
       "      <td>23</td>\n",
       "      <td>94</td>\n",
       "      <td>28.1</td>\n",
       "      <td>0.167</td>\n",
       "      <td>21</td>\n",
       "      <td>0</td>\n",
       "    </tr>\n",
       "    <tr>\n",
       "      <th>4</th>\n",
       "      <td>0</td>\n",
       "      <td>137</td>\n",
       "      <td>40</td>\n",
       "      <td>35</td>\n",
       "      <td>168</td>\n",
       "      <td>43.1</td>\n",
       "      <td>2.288</td>\n",
       "      <td>33</td>\n",
       "      <td>1</td>\n",
       "    </tr>\n",
       "  </tbody>\n",
       "</table>\n",
       "</div>"
      ],
      "text/plain": [
       "   Pregnancies  Glucose  BloodPressure  SkinThickness  Insulin   BMI  \\\n",
       "0            6      148             72             35        0  33.6   \n",
       "1            1       85             66             29        0  26.6   \n",
       "2            8      183             64              0        0  23.3   \n",
       "3            1       89             66             23       94  28.1   \n",
       "4            0      137             40             35      168  43.1   \n",
       "\n",
       "   DiabetesPedigreeFunction  Age  Outcome  \n",
       "0                     0.627   50        1  \n",
       "1                     0.351   31        0  \n",
       "2                     0.672   32        1  \n",
       "3                     0.167   21        0  \n",
       "4                     2.288   33        1  "
      ]
     },
     "execution_count": 58,
     "metadata": {},
     "output_type": "execute_result"
    }
   ],
   "source": [
    "df.head()"
   ]
  },
  {
   "cell_type": "code",
   "execution_count": 59,
   "metadata": {},
   "outputs": [],
   "source": [
    "X_train, X_test, y_train, y_test = train_test_split(X,\n",
    "                                                    y,\n",
    "                                                    test_size = 0.30,\n",
    "                                                    random_state = 42)"
   ]
  },
  {
   "cell_type": "markdown",
   "metadata": {},
   "source": [
    "# model & tahmin"
   ]
  },
  {
   "cell_type": "code",
   "execution_count": 60,
   "metadata": {},
   "outputs": [],
   "source": [
    "mlpc_model = MLPClassifier().fit(X_train, y_train)"
   ]
  },
  {
   "cell_type": "code",
   "execution_count": 61,
   "metadata": {},
   "outputs": [
    {
     "data": {
      "text/plain": [
       "MLPClassifier()"
      ]
     },
     "execution_count": 61,
     "metadata": {},
     "output_type": "execute_result"
    }
   ],
   "source": [
    "mlpc_model"
   ]
  },
  {
   "cell_type": "code",
   "execution_count": 62,
   "metadata": {},
   "outputs": [
    {
     "data": {
      "text/plain": [
       "[array([[ 1.66831609e-01,  1.96236189e-02,  1.19639172e-01,\n",
       "         -8.47547177e-03, -1.78266969e-01, -1.85302155e-01,\n",
       "         -9.54689423e-02, -2.00837435e-01, -6.99437965e-02,\n",
       "          8.75797768e-02, -9.80368886e-02,  1.95129539e-01,\n",
       "         -1.27694165e-01, -1.62299362e-01, -2.53547703e-01,\n",
       "         -7.50757104e-02,  1.43694883e-01,  1.67849808e-01,\n",
       "          7.55693845e-02, -1.58878279e-01,  7.43395243e-07,\n",
       "          6.95046436e-02, -5.28423341e-05,  1.68467191e-01,\n",
       "          1.70764884e-01,  1.88482650e-01,  4.05884045e-02,\n",
       "         -2.28570925e-03,  1.62183259e-01, -5.13452844e-02,\n",
       "         -1.21326194e-01, -5.67917986e-02, -2.09314753e-01,\n",
       "         -7.16677987e-02,  2.40917107e-01, -6.48807236e-02,\n",
       "         -1.90182355e-02, -9.21971690e-03, -1.39166402e-01,\n",
       "          7.33496052e-02,  4.97793791e-02, -1.56173848e-01,\n",
       "         -1.36427924e-01,  8.20297604e-02, -2.46844552e-01,\n",
       "          1.51509376e-01,  8.12735955e-03,  8.25536024e-02,\n",
       "         -4.95590960e-02,  3.11298636e-02, -1.05990883e-01,\n",
       "         -1.76625463e-01,  2.32379211e-01, -1.46524500e-01,\n",
       "         -1.54661409e-01, -2.38943313e-01, -8.30739429e-02,\n",
       "         -1.07197561e-02,  8.34203131e-02, -1.17397766e-01,\n",
       "          5.74726387e-02,  1.48594219e-01,  2.60448362e-01,\n",
       "          4.07251165e-03, -1.91574275e-01,  1.64039028e-02,\n",
       "          3.73037142e-02,  1.79836868e-01, -2.23699089e-01,\n",
       "          1.92777148e-01, -1.10473097e-01,  1.46068991e-01,\n",
       "          6.08872277e-02, -3.63827509e-02,  8.62613562e-02,\n",
       "          5.63220815e-02,  6.25101880e-02, -2.48739355e-01,\n",
       "         -2.08573492e-01,  1.90441582e-01,  1.21300916e-02,\n",
       "          1.81935687e-01,  1.75064301e-01,  1.89462419e-01,\n",
       "          1.31017016e-01, -5.05823623e-02,  1.08089068e-01,\n",
       "          9.40373113e-02, -1.73805074e-01, -2.39246150e-01,\n",
       "          1.17642399e-01, -6.73018262e-02, -3.41162810e-02,\n",
       "         -1.76807069e-01, -1.83849329e-01,  1.45203016e-01,\n",
       "         -1.31289816e-01,  2.05698829e-01,  2.85441948e-01,\n",
       "         -5.88614761e-02],\n",
       "        [ 8.33985701e-03, -3.76736126e-03, -5.30811021e-02,\n",
       "          1.13533571e-01,  2.00550159e-01,  1.28377801e-01,\n",
       "          7.43904190e-03,  7.04203216e-02,  1.80222763e-01,\n",
       "          1.97932166e-01, -8.52385864e-02,  1.22796484e-01,\n",
       "         -7.59191220e-02, -1.05174315e-02, -1.29011830e-01,\n",
       "         -7.53980200e-04,  3.20759252e-03,  1.60952070e-01,\n",
       "          1.72683915e-01, -1.32566455e-02, -8.78723153e-02,\n",
       "          3.88200155e-02, -9.42767418e-03,  6.01434618e-02,\n",
       "          1.81611901e-01,  1.25971494e-02, -1.07338423e-01,\n",
       "          7.27525388e-04,  1.86806717e-01, -1.50457936e-01,\n",
       "         -4.39805544e-02, -1.80168134e-02, -1.30205161e-02,\n",
       "          2.34372643e-01, -3.98365237e-02,  1.64335704e-01,\n",
       "          1.00958960e-01,  4.06034046e-05,  7.60928758e-02,\n",
       "         -2.18400881e-02, -8.51082250e-03,  1.10295988e-01,\n",
       "         -8.69947101e-02, -7.03896508e-02,  1.93472639e-01,\n",
       "         -1.36421000e-01,  2.21982564e-01,  2.66848185e-02,\n",
       "         -1.31636313e-01, -1.44474310e-01,  1.15171662e-01,\n",
       "          2.18632651e-01,  1.65921911e-01,  7.10518815e-02,\n",
       "         -1.81832900e-01, -4.56110019e-02, -6.61893700e-02,\n",
       "         -5.13394644e-02,  6.93396483e-02, -2.30310495e-01,\n",
       "          1.09284686e-01, -1.20506508e-01, -1.84991516e-01,\n",
       "         -8.26201070e-02,  6.75998833e-02, -6.33373488e-02,\n",
       "         -6.92807637e-02,  1.41434428e-02, -1.02314476e-01,\n",
       "          1.97152007e-01,  9.82834136e-02, -5.39938988e-02,\n",
       "         -1.55035660e-01, -4.30697673e-02, -5.71455397e-03,\n",
       "          7.01714302e-02,  1.54452702e-01,  1.16288577e-01,\n",
       "         -3.02726043e-02,  1.62414913e-01, -1.24676119e-01,\n",
       "          2.16962456e-01,  1.61701258e-01, -1.94696292e-01,\n",
       "         -1.29358122e-01,  2.01069466e-01, -4.91166578e-03,\n",
       "         -7.62717577e-02,  1.26129705e-01, -5.10492828e-02,\n",
       "         -1.84998797e-02, -8.74107651e-02, -6.08124570e-02,\n",
       "          1.69362873e-01,  1.40052041e-01,  1.20346268e-01,\n",
       "          1.55764650e-01, -5.93178675e-02,  1.32816710e-02,\n",
       "          7.48264947e-02],\n",
       "        [-1.50700560e-01, -8.33347686e-02, -1.27542030e-01,\n",
       "         -1.54237738e-01, -1.94118584e-01, -2.47749751e-01,\n",
       "          2.01223931e-01,  2.12503891e-01,  1.93192685e-01,\n",
       "          1.69893091e-01, -1.11991870e-01,  1.86805782e-01,\n",
       "          4.00025078e-02, -1.12026410e-01,  1.35232657e-01,\n",
       "         -4.31235359e-02,  1.11438672e-01, -2.01388187e-01,\n",
       "         -1.15679662e-01, -7.40090554e-02,  5.57670206e-03,\n",
       "         -9.28490136e-02, -6.55066153e-02,  1.24338565e-01,\n",
       "         -6.36150979e-02, -1.27779376e-01,  7.08807143e-02,\n",
       "         -4.22893452e-02, -2.21023722e-01,  1.21592590e-01,\n",
       "         -5.47894906e-02,  2.15987560e-01,  1.76065022e-01,\n",
       "          1.06489058e-01,  1.38119496e-01, -2.12884854e-01,\n",
       "          2.29003510e-01, -1.31311417e-01, -4.24078059e-03,\n",
       "          2.63367460e-03,  4.88723841e-03, -2.10842683e-01,\n",
       "          1.36384601e-01, -1.70337897e-02, -1.53144936e-01,\n",
       "         -7.70303504e-02,  2.40234616e-01, -1.69235750e-01,\n",
       "          1.76809772e-01,  9.09765290e-02,  1.41325445e-01,\n",
       "          2.03353909e-01, -1.31794083e-01, -1.44423018e-01,\n",
       "          9.11794720e-02,  1.28836994e-01,  4.96488732e-02,\n",
       "         -3.20284009e-02, -1.07013062e-01,  8.15833319e-02,\n",
       "         -1.52289112e-01, -1.16256668e-01, -1.61247252e-02,\n",
       "         -5.59421002e-02,  1.31290475e-01,  2.17970703e-01,\n",
       "         -2.29795839e-02, -1.54133027e-01,  6.42535539e-02,\n",
       "          1.08344445e-01,  9.12001710e-02, -2.07803936e-02,\n",
       "          1.75885213e-01, -1.13319090e-01,  1.03045954e-01,\n",
       "         -1.00121398e-01, -1.04099785e-01,  1.98992497e-01,\n",
       "         -1.12152151e-01, -5.83438354e-02,  2.11022285e-01,\n",
       "         -1.50495296e-01,  1.89196989e-01,  2.44198263e-01,\n",
       "         -3.14400203e-02, -9.72495577e-02, -4.67111161e-02,\n",
       "         -1.38881058e-01,  7.04890264e-02,  1.36848459e-02,\n",
       "         -6.83204410e-02, -2.08230371e-02, -8.30773707e-03,\n",
       "          7.10874445e-02, -2.19225647e-01, -7.24463604e-02,\n",
       "         -7.51682499e-02,  5.74956699e-02, -8.18196170e-02,\n",
       "         -6.37184137e-02],\n",
       "        [-8.93035745e-02, -4.26543886e-02, -8.93199694e-06,\n",
       "          6.75950885e-02, -2.16261338e-01,  8.39437763e-02,\n",
       "         -8.56560030e-02, -2.05018087e-01,  8.23335732e-02,\n",
       "         -9.42748160e-02, -1.57860197e-02, -4.96031825e-02,\n",
       "          1.42679372e-01, -1.50889354e-01, -1.88603210e-01,\n",
       "         -3.63411671e-03, -1.42138627e-01,  1.38409656e-01,\n",
       "         -1.30885790e-01, -1.54718248e-01, -4.36781658e-02,\n",
       "         -1.71249471e-01,  2.29569512e-02,  9.93710208e-02,\n",
       "         -7.34567563e-02,  2.18897383e-01, -1.31428676e-01,\n",
       "          2.61853917e-02, -1.55838337e-01, -1.32308944e-01,\n",
       "         -3.73170009e-02,  6.37255816e-03,  1.86970602e-01,\n",
       "         -5.21265784e-03, -7.78818602e-02, -1.47893132e-01,\n",
       "          1.36483900e-01,  4.23278430e-02,  7.31467610e-02,\n",
       "          3.10058640e-02, -2.85306267e-02, -4.85776494e-02,\n",
       "          7.30525473e-02, -1.85259609e-04, -5.46333703e-02,\n",
       "          1.43112382e-01, -2.18008396e-01,  4.62678250e-02,\n",
       "         -1.85315535e-01, -2.21837436e-01, -4.10807527e-02,\n",
       "          2.35688870e-01, -8.96777486e-02, -1.81623539e-01,\n",
       "         -2.41485942e-01, -1.22465585e-01,  3.58134987e-02,\n",
       "         -7.38350765e-02, -1.18672366e-02,  2.16380208e-01,\n",
       "         -1.86024247e-01, -9.87438922e-02,  1.56742603e-01,\n",
       "         -6.16081398e-04, -1.01650449e-01,  5.00842065e-02,\n",
       "          1.76209336e-01,  8.12750526e-02, -1.71329156e-01,\n",
       "          3.34786143e-02, -1.01369063e-01, -7.64801591e-02,\n",
       "         -2.81216673e-02, -2.03917140e-01,  2.13055941e-02,\n",
       "          6.10899462e-02,  1.71851261e-01,  1.57781374e-01,\n",
       "          2.16560282e-01, -2.23348997e-01,  7.04623029e-03,\n",
       "         -1.35869305e-01, -2.04205266e-01, -1.11273254e-01,\n",
       "          1.10935069e-01,  1.26353931e-01, -7.59695944e-02,\n",
       "          2.15134193e-01, -3.20890284e-02,  1.63601165e-01,\n",
       "          1.90843746e-01, -4.39777507e-02,  1.05195408e-02,\n",
       "         -1.92362091e-01, -2.52919086e-02,  1.84394652e-01,\n",
       "          5.74906772e-02, -1.56813312e-02, -3.39918106e-02,\n",
       "         -6.65449473e-04],\n",
       "        [ 2.25334182e-01, -5.33231648e-03, -1.26965373e-06,\n",
       "         -3.28073577e-01,  7.36521733e-02,  2.00837566e-01,\n",
       "         -4.63971104e-02,  2.87591873e-02, -1.04280863e-01,\n",
       "         -1.29919778e-01,  1.69945929e-01, -1.07909066e-01,\n",
       "          7.14983692e-02,  2.01821244e-01, -1.59764612e-01,\n",
       "         -5.76591129e-02,  1.71524526e-01, -2.72840082e-01,\n",
       "          2.01825689e-01,  9.55774517e-02, -1.83028089e-02,\n",
       "         -1.02509650e-02, -1.73946979e-02,  1.88429505e-01,\n",
       "         -1.70451606e-01, -2.71002389e-01, -4.90952119e-02,\n",
       "         -1.35463200e-02,  2.24099686e-01,  2.10102411e-01,\n",
       "         -6.89029494e-03,  2.86773938e-02,  2.26572453e-01,\n",
       "         -4.75119891e-02, -7.05274154e-03, -1.31353142e-01,\n",
       "         -1.09652649e-01, -3.68595423e-03,  3.65056516e-02,\n",
       "          5.83716462e-04,  5.84848862e-04,  1.86362257e-01,\n",
       "          9.67265475e-02, -5.93645029e-02,  1.62935933e-01,\n",
       "          2.09138430e-01, -1.62807240e-01,  1.67741445e-02,\n",
       "          5.13110944e-02, -1.09085485e-01, -8.87014734e-02,\n",
       "         -5.89042804e-02, -1.57415284e-01, -1.69421927e-01,\n",
       "         -2.08745973e-02,  1.55598450e-01, -1.23472895e-01,\n",
       "          5.85061945e-03,  2.29822708e-02, -5.10416603e-02,\n",
       "          2.23484809e-01,  5.42868425e-02,  1.27048095e-01,\n",
       "         -6.34063899e-02,  1.19774412e-01, -2.87845555e-01,\n",
       "          3.98983207e-04, -7.42197787e-02,  4.51388529e-02,\n",
       "         -1.07396394e-01, -1.58477579e-01, -7.49689596e-03,\n",
       "          1.24403329e-01,  1.21206563e-01, -1.50069138e-02,\n",
       "         -4.47698183e-02, -1.04612823e-01,  4.51546888e-02,\n",
       "          1.36032678e-01, -2.83571405e-02, -1.44304181e-01,\n",
       "         -1.42216910e-01, -1.24900541e-01, -5.96536865e-02,\n",
       "         -1.73289011e-01, -1.82736408e-01, -2.19800003e-05,\n",
       "          1.06855205e-01,  1.88825032e-01,  1.71014899e-01,\n",
       "         -7.38594812e-02,  2.05356067e-03, -1.95750545e-02,\n",
       "          1.53830471e-01,  7.98622735e-02,  8.03001480e-02,\n",
       "         -1.57993261e-01, -5.07456713e-02, -2.36916051e-02,\n",
       "         -2.04977616e-01],\n",
       "        [ 1.51901634e-02, -7.74710281e-02, -2.05629114e-01,\n",
       "         -1.37366410e-02,  1.82254072e-01,  2.10881205e-01,\n",
       "          1.98984078e-01, -5.43336320e-02, -4.92733390e-02,\n",
       "          1.06568747e-02, -7.35061054e-02,  7.73239176e-02,\n",
       "         -3.14619752e-02,  2.11886598e-01,  1.52714663e-01,\n",
       "          3.81619398e-02, -1.20236306e-02, -1.85310261e-01,\n",
       "         -1.95950821e-01, -2.97327642e-03,  6.18271212e-03,\n",
       "          1.21578548e-01, -1.44335498e-02, -1.82989614e-01,\n",
       "         -7.11461375e-03, -5.96476678e-03,  2.20459273e-01,\n",
       "         -2.73183500e-02, -2.89213866e-02, -9.03884851e-02,\n",
       "         -5.74738190e-02,  1.00467768e-02, -6.72463798e-02,\n",
       "          1.62867585e-01, -2.27560074e-01,  1.49653421e-01,\n",
       "         -8.10186300e-03, -7.15348288e-02, -7.76090591e-02,\n",
       "         -7.72374818e-02, -1.53661846e-02, -2.10319965e-03,\n",
       "         -3.26572475e-02, -6.68824907e-03, -1.23164935e-01,\n",
       "         -1.50803734e-01,  1.28002597e-01,  1.95271261e-01,\n",
       "          1.53275016e-01,  2.03136087e-01, -1.98144419e-01,\n",
       "          9.99341037e-03, -1.76835263e-01,  5.22713908e-02,\n",
       "         -1.74313973e-01, -5.32609875e-02,  1.23644017e-01,\n",
       "         -3.10711134e-02,  2.21450360e-01, -1.01869670e-01,\n",
       "          1.61900552e-01, -3.33696262e-02, -5.35258761e-02,\n",
       "          2.57461821e-03, -1.97382444e-01,  1.18796090e-01,\n",
       "          4.00261219e-02, -1.28048544e-01, -8.14487637e-02,\n",
       "          1.76971591e-01, -2.08727325e-01, -7.91574103e-02,\n",
       "         -9.43688620e-02,  9.96717091e-03, -2.10112896e-01,\n",
       "          2.15523859e-01,  5.46913350e-03, -4.32494115e-02,\n",
       "         -1.62665900e-01,  2.30417285e-01,  1.23477158e-01,\n",
       "          1.48965081e-01,  1.74669923e-01, -1.60878737e-01,\n",
       "          1.87978531e-01, -4.28997839e-02, -4.72631449e-02,\n",
       "          1.65447289e-01, -1.77580913e-01, -3.38209060e-03,\n",
       "          8.18420074e-03, -1.43457059e-03,  5.43893597e-03,\n",
       "          4.54049585e-02, -1.33477054e-01,  6.13041414e-02,\n",
       "          2.37211163e-01,  9.33802838e-02, -6.57250281e-02,\n",
       "         -9.50931245e-02],\n",
       "        [-1.52128615e-01, -6.43039268e-02, -1.75228676e-01,\n",
       "          8.41929754e-02, -1.92136669e-01, -1.83468417e-02,\n",
       "         -9.50460786e-03,  2.44957468e-01, -2.46821416e-01,\n",
       "          1.58509727e-01,  9.97636638e-02, -3.63275033e-02,\n",
       "          5.17345340e-02,  8.61054373e-02, -8.42003505e-02,\n",
       "         -2.85623060e-03, -9.84821506e-02, -3.71646941e-04,\n",
       "         -1.63195182e-01,  5.77907192e-02, -3.11299093e-02,\n",
       "         -1.82598397e-01, -6.85682251e-02,  4.25538238e-03,\n",
       "         -1.74086782e-01,  2.37881639e-01,  1.27849423e-02,\n",
       "         -4.57274428e-02,  5.55935590e-02, -1.20987289e-01,\n",
       "         -1.15468642e-01, -1.77927132e-01,  1.48285935e-01,\n",
       "         -7.93679440e-02, -2.70287747e-02, -1.53531106e-01,\n",
       "          2.00208895e-01,  6.48791762e-02,  2.54690763e-02,\n",
       "          5.71217693e-03, -8.34718361e-02,  1.40386177e-01,\n",
       "         -1.44109536e-01,  1.57470812e-02, -4.02711569e-03,\n",
       "         -3.27058574e-02, -7.81132047e-02, -1.46407998e-01,\n",
       "         -1.27285756e-01,  1.70365299e-01,  2.08239322e-01,\n",
       "          1.65510856e-01, -2.29732723e-01,  4.73961253e-02,\n",
       "         -1.38253216e-01,  1.19033202e-01,  2.02102091e-01,\n",
       "         -7.04040972e-04, -6.25449474e-02, -2.02601933e-02,\n",
       "         -1.05392544e-01, -2.93129217e-01,  1.57360111e-01,\n",
       "         -6.48898819e-03, -1.69309518e-01,  2.06636439e-01,\n",
       "         -1.23816138e-01,  3.09761835e-02,  5.24869211e-02,\n",
       "         -1.20440981e-01, -2.17675043e-01, -4.06350551e-02,\n",
       "          2.13663187e-02, -5.02402999e-02, -1.11736341e-01,\n",
       "         -2.47484567e-02, -4.27972749e-02, -7.35789586e-02,\n",
       "          1.93066765e-01,  2.36914974e-02, -7.16818144e-02,\n",
       "          1.49492539e-01, -1.70492420e-01,  1.06806589e-01,\n",
       "          1.37455004e-01, -1.90051471e-01,  9.50036008e-03,\n",
       "          1.62217761e-01,  1.72419022e-01,  1.65226001e-01,\n",
       "         -7.76605775e-02, -2.05238864e-03, -8.92630668e-03,\n",
       "         -1.75002581e-02,  2.29698328e-01,  2.35936429e-01,\n",
       "          2.03244523e-01,  4.80743965e-02,  1.26098667e-02,\n",
       "         -1.92102363e-01],\n",
       "        [-4.94619628e-02, -2.83274532e-03,  1.42930853e-01,\n",
       "          8.57070256e-02,  1.01826072e-01, -2.19274450e-01,\n",
       "         -2.01995025e-01,  2.17129258e-01,  6.19207642e-02,\n",
       "          2.18138209e-02,  1.23702156e-01, -2.49972849e-02,\n",
       "         -1.09626132e-01,  1.81596078e-01,  1.93939037e-01,\n",
       "         -8.23689386e-02, -1.18525962e-02,  1.74293874e-01,\n",
       "          8.70574556e-02, -1.35913624e-01, -8.29763273e-02,\n",
       "          1.23918551e-01,  1.21515419e-03,  2.24011863e-01,\n",
       "          1.73669811e-02, -7.86607673e-02,  1.75261098e-01,\n",
       "         -5.08001024e-02,  1.96183664e-01,  9.85166418e-02,\n",
       "          6.11649795e-02,  8.58225477e-02, -1.81155435e-01,\n",
       "         -2.83958949e-02,  7.66641362e-02,  6.40589038e-02,\n",
       "          3.73225283e-02,  2.30807727e-01,  2.16737350e-02,\n",
       "         -4.37278112e-02, -7.03145715e-02,  2.28878009e-01,\n",
       "         -2.41164884e-02,  1.49018414e-04, -3.21571853e-02,\n",
       "         -1.22433295e-01, -6.30115109e-02,  2.41936014e-01,\n",
       "          6.90873445e-02,  2.79287583e-02, -9.69067813e-02,\n",
       "          5.07319184e-02,  1.84166937e-01,  2.35302679e-01,\n",
       "          1.27375235e-01, -8.68226812e-02, -1.32928112e-01,\n",
       "         -2.88700616e-02, -9.74586480e-02,  2.33648778e-01,\n",
       "          3.72849206e-02,  1.47673622e-01,  1.56756433e-01,\n",
       "         -4.06927388e-02, -1.89561769e-01, -1.23116677e-02,\n",
       "         -1.67106730e-01,  2.37179660e-01,  2.88318461e-02,\n",
       "          1.09495373e-02, -2.16235400e-01,  7.32353557e-02,\n",
       "          1.17010375e-02,  2.15864048e-01,  1.92326815e-01,\n",
       "          8.40741842e-02,  2.73619026e-02,  5.66052955e-02,\n",
       "         -8.36539166e-02, -2.07806571e-02,  3.58698818e-02,\n",
       "          2.21812064e-01,  1.88537834e-01,  1.92565705e-01,\n",
       "         -5.42336542e-02,  2.15341629e-01,  9.38173748e-02,\n",
       "         -5.56076462e-02, -5.33635915e-02,  3.07720315e-02,\n",
       "         -1.53351489e-01, -1.11360275e-02, -1.93060973e-02,\n",
       "          1.45328700e-01, -1.64073724e-01,  5.79683282e-02,\n",
       "          2.03070230e-01,  2.40096492e-01,  9.97587820e-02,\n",
       "         -9.07718670e-03]]),\n",
       " array([[ 0.11290435],\n",
       "        [-0.00078271],\n",
       "        [ 0.10222234],\n",
       "        [ 0.1800664 ],\n",
       "        [ 0.21289929],\n",
       "        [ 0.05728368],\n",
       "        [ 0.18867216],\n",
       "        [ 0.08001856],\n",
       "        [-0.12493302],\n",
       "        [ 0.08882702],\n",
       "        [ 0.10709868],\n",
       "        [ 0.19490645],\n",
       "        [ 0.06987427],\n",
       "        [-0.17996318],\n",
       "        [ 0.06684399],\n",
       "        [ 0.04063265],\n",
       "        [ 0.17293441],\n",
       "        [ 0.04117905],\n",
       "        [-0.07604591],\n",
       "        [-0.08106595],\n",
       "        [ 0.01718236],\n",
       "        [-0.16371382],\n",
       "        [-0.07242757],\n",
       "        [ 0.10513721],\n",
       "        [ 0.13421504],\n",
       "        [-0.31749411],\n",
       "        [ 0.21698854],\n",
       "        [ 0.08420831],\n",
       "        [-0.21357239],\n",
       "        [-0.1777651 ],\n",
       "        [ 0.03488375],\n",
       "        [-0.2358226 ],\n",
       "        [-0.04366425],\n",
       "        [-0.24559744],\n",
       "        [-0.17283604],\n",
       "        [-0.05005944],\n",
       "        [-0.23687174],\n",
       "        [-0.28417272],\n",
       "        [ 0.13702038],\n",
       "        [-0.0434931 ],\n",
       "        [ 0.01543396],\n",
       "        [ 0.16197758],\n",
       "        [-0.07414723],\n",
       "        [ 0.03656483],\n",
       "        [ 0.19009734],\n",
       "        [ 0.03784447],\n",
       "        [-0.1632612 ],\n",
       "        [ 0.28530158],\n",
       "        [ 0.01817137],\n",
       "        [-0.2474763 ],\n",
       "        [ 0.01232377],\n",
       "        [ 0.01346317],\n",
       "        [-0.00655258],\n",
       "        [ 0.07779005],\n",
       "        [ 0.05398341],\n",
       "        [-0.03145019],\n",
       "        [-0.05777532],\n",
       "        [ 0.07824962],\n",
       "        [ 0.21539504],\n",
       "        [ 0.02614395],\n",
       "        [-0.16676413],\n",
       "        [ 0.08920215],\n",
       "        [ 0.07390462],\n",
       "        [ 0.07683442],\n",
       "        [ 0.00043708],\n",
       "        [ 0.06577095],\n",
       "        [-0.22109995],\n",
       "        [-0.3268103 ],\n",
       "        [ 0.09974997],\n",
       "        [-0.0543873 ],\n",
       "        [ 0.10752491],\n",
       "        [ 0.02352396],\n",
       "        [ 0.17197229],\n",
       "        [-0.06204792],\n",
       "        [ 0.15841105],\n",
       "        [ 0.07744296],\n",
       "        [ 0.16695426],\n",
       "        [ 0.21793092],\n",
       "        [-0.09629095],\n",
       "        [-0.06717295],\n",
       "        [-0.19743808],\n",
       "        [ 0.08188579],\n",
       "        [ 0.20876541],\n",
       "        [-0.08582789],\n",
       "        [ 0.25321332],\n",
       "        [-0.2090338 ],\n",
       "        [-0.21784981],\n",
       "        [-0.21164574],\n",
       "        [ 0.05052245],\n",
       "        [-0.04618627],\n",
       "        [ 0.14931854],\n",
       "        [-0.05005386],\n",
       "        [ 0.06456084],\n",
       "        [-0.13779562],\n",
       "        [-0.03519453],\n",
       "        [ 0.04725965],\n",
       "        [-0.14713713],\n",
       "        [ 0.03175522],\n",
       "        [-0.11975229],\n",
       "        [-0.19551257]])]"
      ]
     },
     "execution_count": 62,
     "metadata": {},
     "output_type": "execute_result"
    }
   ],
   "source": [
    "mlpc_model.coefs_ # bu sinir ağının kullanmıs olduğu farklı katmanlardaki farklı hücrelerin birbiriyle ilişkilerini ifade eden katsayılar"
   ]
  },
  {
   "cell_type": "code",
   "execution_count": 63,
   "metadata": {},
   "outputs": [],
   "source": [
    "?mlpc_model"
   ]
  },
  {
   "cell_type": "code",
   "execution_count": 64,
   "metadata": {},
   "outputs": [],
   "source": [
    "y_pred = mlpc_model.predict(X_test)"
   ]
  },
  {
   "cell_type": "code",
   "execution_count": 65,
   "metadata": {},
   "outputs": [
    {
     "data": {
      "text/plain": [
       "0.7229437229437229"
      ]
     },
     "execution_count": 65,
     "metadata": {},
     "output_type": "execute_result"
    }
   ],
   "source": [
    "accuracy_score(y_test, y_pred)"
   ]
  },
  {
   "cell_type": "markdown",
   "metadata": {},
   "source": [
    "# model tuning"
   ]
  },
  {
   "cell_type": "code",
   "execution_count": 66,
   "metadata": {},
   "outputs": [],
   "source": [
    "mlpc =  MLPClassifier()"
   ]
  },
  {
   "cell_type": "code",
   "execution_count": 67,
   "metadata": {},
   "outputs": [],
   "source": [
    "mlpc_params= {\"alpha\":[1,2,3,4,0.1,0.01,0.03,0.05,0.0001],\n",
    "             \"hidden_layer_sizes\":[(10,10),(100,100,100), (100,100), (3,5)]}"
   ]
  },
  {
   "cell_type": "code",
   "execution_count": 68,
   "metadata": {},
   "outputs": [],
   "source": [
    "mlpc = MLPClassifier(solver = \"lbfgs\", activation=\"logistic\")"
   ]
  },
  {
   "cell_type": "code",
   "execution_count": 69,
   "metadata": {},
   "outputs": [
    {
     "name": "stdout",
     "output_type": "stream",
     "text": [
      "Fitting 5 folds for each of 36 candidates, totalling 180 fits\n"
     ]
    },
    {
     "name": "stderr",
     "output_type": "stream",
     "text": [
      "[Parallel(n_jobs=-1)]: Using backend LokyBackend with 4 concurrent workers.\n",
      "[Parallel(n_jobs=-1)]: Done  33 tasks      | elapsed:    7.3s\n",
      "[Parallel(n_jobs=-1)]: Done 154 tasks      | elapsed:   41.9s\n",
      "[Parallel(n_jobs=-1)]: Done 180 out of 180 | elapsed:   48.7s finished\n",
      "C:\\Users\\Lenovo\\anaconda3\\lib\\site-packages\\sklearn\\neural_network\\_multilayer_perceptron.py:471: ConvergenceWarning: lbfgs failed to converge (status=1):\n",
      "STOP: TOTAL NO. of ITERATIONS REACHED LIMIT.\n",
      "\n",
      "Increase the number of iterations (max_iter) or scale the data as shown in:\n",
      "    https://scikit-learn.org/stable/modules/preprocessing.html\n",
      "  self.n_iter_ = _check_optimize_result(\"lbfgs\", opt_res, self.max_iter)\n"
     ]
    }
   ],
   "source": [
    "mlpc_cv_model = GridSearchCV(mlpc, mlpc_params, cv=5, n_jobs=-1, verbose=2).fit(X_train,y_train)"
   ]
  },
  {
   "cell_type": "code",
   "execution_count": 70,
   "metadata": {},
   "outputs": [
    {
     "data": {
      "text/plain": [
       "GridSearchCV(cv=5,\n",
       "             estimator=MLPClassifier(activation='logistic', solver='lbfgs'),\n",
       "             n_jobs=-1,\n",
       "             param_grid={'alpha': [1, 2, 3, 4, 0.1, 0.01, 0.03, 0.05, 0.0001],\n",
       "                         'hidden_layer_sizes': [(10, 10), (100, 100, 100),\n",
       "                                                (100, 100), (3, 5)]},\n",
       "             verbose=2)"
      ]
     },
     "execution_count": 70,
     "metadata": {},
     "output_type": "execute_result"
    }
   ],
   "source": [
    "mlpc_cv_model"
   ]
  },
  {
   "cell_type": "code",
   "execution_count": 71,
   "metadata": {},
   "outputs": [
    {
     "data": {
      "text/plain": [
       "{'alpha': 3, 'hidden_layer_sizes': (100, 100)}"
      ]
     },
     "execution_count": 71,
     "metadata": {},
     "output_type": "execute_result"
    }
   ],
   "source": [
    "mlpc_cv_model.best_params_"
   ]
  },
  {
   "cell_type": "markdown",
   "metadata": {},
   "source": [
    "# final model"
   ]
  },
  {
   "cell_type": "code",
   "execution_count": 72,
   "metadata": {},
   "outputs": [
    {
     "name": "stderr",
     "output_type": "stream",
     "text": [
      "C:\\Users\\Lenovo\\anaconda3\\lib\\site-packages\\sklearn\\neural_network\\_multilayer_perceptron.py:471: ConvergenceWarning: lbfgs failed to converge (status=1):\n",
      "STOP: TOTAL NO. of ITERATIONS REACHED LIMIT.\n",
      "\n",
      "Increase the number of iterations (max_iter) or scale the data as shown in:\n",
      "    https://scikit-learn.org/stable/modules/preprocessing.html\n",
      "  self.n_iter_ = _check_optimize_result(\"lbfgs\", opt_res, self.max_iter)\n"
     ]
    }
   ],
   "source": [
    "mlpc_tuned = MLPClassifier(solver = \"lbfgs\", alpha = 4, hidden_layer_sizes=(100,100)).fit(X_train, y_train)"
   ]
  },
  {
   "cell_type": "code",
   "execution_count": 73,
   "metadata": {},
   "outputs": [],
   "source": [
    "y_pred = mlpc_tuned.predict(X_test)"
   ]
  },
  {
   "cell_type": "code",
   "execution_count": 74,
   "metadata": {},
   "outputs": [
    {
     "data": {
      "text/plain": [
       "0.7186147186147186"
      ]
     },
     "execution_count": 74,
     "metadata": {},
     "output_type": "execute_result"
    }
   ],
   "source": [
    "accuracy_score(y_test,y_pred)"
   ]
  },
  {
   "cell_type": "markdown",
   "metadata": {},
   "source": [
    "# CART"
   ]
  },
  {
   "cell_type": "code",
   "execution_count": 75,
   "metadata": {},
   "outputs": [
    {
     "data": {
      "text/html": [
       "<div>\n",
       "<style scoped>\n",
       "    .dataframe tbody tr th:only-of-type {\n",
       "        vertical-align: middle;\n",
       "    }\n",
       "\n",
       "    .dataframe tbody tr th {\n",
       "        vertical-align: top;\n",
       "    }\n",
       "\n",
       "    .dataframe thead th {\n",
       "        text-align: right;\n",
       "    }\n",
       "</style>\n",
       "<table border=\"1\" class=\"dataframe\">\n",
       "  <thead>\n",
       "    <tr style=\"text-align: right;\">\n",
       "      <th></th>\n",
       "      <th>Pregnancies</th>\n",
       "      <th>Glucose</th>\n",
       "      <th>BloodPressure</th>\n",
       "      <th>SkinThickness</th>\n",
       "      <th>Insulin</th>\n",
       "      <th>BMI</th>\n",
       "      <th>DiabetesPedigreeFunction</th>\n",
       "      <th>Age</th>\n",
       "      <th>Outcome</th>\n",
       "    </tr>\n",
       "  </thead>\n",
       "  <tbody>\n",
       "    <tr>\n",
       "      <th>0</th>\n",
       "      <td>6</td>\n",
       "      <td>148</td>\n",
       "      <td>72</td>\n",
       "      <td>35</td>\n",
       "      <td>0</td>\n",
       "      <td>33.6</td>\n",
       "      <td>0.627</td>\n",
       "      <td>50</td>\n",
       "      <td>1</td>\n",
       "    </tr>\n",
       "    <tr>\n",
       "      <th>1</th>\n",
       "      <td>1</td>\n",
       "      <td>85</td>\n",
       "      <td>66</td>\n",
       "      <td>29</td>\n",
       "      <td>0</td>\n",
       "      <td>26.6</td>\n",
       "      <td>0.351</td>\n",
       "      <td>31</td>\n",
       "      <td>0</td>\n",
       "    </tr>\n",
       "    <tr>\n",
       "      <th>2</th>\n",
       "      <td>8</td>\n",
       "      <td>183</td>\n",
       "      <td>64</td>\n",
       "      <td>0</td>\n",
       "      <td>0</td>\n",
       "      <td>23.3</td>\n",
       "      <td>0.672</td>\n",
       "      <td>32</td>\n",
       "      <td>1</td>\n",
       "    </tr>\n",
       "    <tr>\n",
       "      <th>3</th>\n",
       "      <td>1</td>\n",
       "      <td>89</td>\n",
       "      <td>66</td>\n",
       "      <td>23</td>\n",
       "      <td>94</td>\n",
       "      <td>28.1</td>\n",
       "      <td>0.167</td>\n",
       "      <td>21</td>\n",
       "      <td>0</td>\n",
       "    </tr>\n",
       "    <tr>\n",
       "      <th>4</th>\n",
       "      <td>0</td>\n",
       "      <td>137</td>\n",
       "      <td>40</td>\n",
       "      <td>35</td>\n",
       "      <td>168</td>\n",
       "      <td>43.1</td>\n",
       "      <td>2.288</td>\n",
       "      <td>33</td>\n",
       "      <td>1</td>\n",
       "    </tr>\n",
       "  </tbody>\n",
       "</table>\n",
       "</div>"
      ],
      "text/plain": [
       "   Pregnancies  Glucose  BloodPressure  SkinThickness  Insulin   BMI  \\\n",
       "0            6      148             72             35        0  33.6   \n",
       "1            1       85             66             29        0  26.6   \n",
       "2            8      183             64              0        0  23.3   \n",
       "3            1       89             66             23       94  28.1   \n",
       "4            0      137             40             35      168  43.1   \n",
       "\n",
       "   DiabetesPedigreeFunction  Age  Outcome  \n",
       "0                     0.627   50        1  \n",
       "1                     0.351   31        0  \n",
       "2                     0.672   32        1  \n",
       "3                     0.167   21        0  \n",
       "4                     2.288   33        1  "
      ]
     },
     "execution_count": 75,
     "metadata": {},
     "output_type": "execute_result"
    }
   ],
   "source": [
    "df.head()"
   ]
  },
  {
   "cell_type": "code",
   "execution_count": 76,
   "metadata": {},
   "outputs": [],
   "source": [
    "X_train, X_test, y_train, y_test = train_test_split(X,\n",
    "                                                    y,\n",
    "                                                    test_size = 0.30,\n",
    "                                                    random_state = 42)"
   ]
  },
  {
   "cell_type": "markdown",
   "metadata": {},
   "source": [
    "# model & tahmin"
   ]
  },
  {
   "cell_type": "code",
   "execution_count": 77,
   "metadata": {},
   "outputs": [],
   "source": [
    "cart_model = DecisionTreeClassifier().fit(X_train, y_train)"
   ]
  },
  {
   "cell_type": "code",
   "execution_count": 78,
   "metadata": {},
   "outputs": [
    {
     "data": {
      "text/plain": [
       "DecisionTreeClassifier()"
      ]
     },
     "execution_count": 78,
     "metadata": {},
     "output_type": "execute_result"
    }
   ],
   "source": [
    "cart_model"
   ]
  },
  {
   "cell_type": "raw",
   "metadata": {},
   "source": [
    "y_pred=cart_model.predict(X_test)"
   ]
  },
  {
   "cell_type": "code",
   "execution_count": 79,
   "metadata": {},
   "outputs": [
    {
     "data": {
      "text/plain": [
       "0.7186147186147186"
      ]
     },
     "execution_count": 79,
     "metadata": {},
     "output_type": "execute_result"
    }
   ],
   "source": [
    "accuracy_score(y_test, y_pred)"
   ]
  },
  {
   "cell_type": "markdown",
   "metadata": {},
   "source": [
    "# model Tuning"
   ]
  },
  {
   "cell_type": "code",
   "execution_count": 80,
   "metadata": {},
   "outputs": [],
   "source": [
    "cart = DecisionTreeClassifier()"
   ]
  },
  {
   "cell_type": "code",
   "execution_count": 81,
   "metadata": {},
   "outputs": [],
   "source": [
    "cart_params = {\"max_depth\": [2,3,5,8,10],\n",
    "              \"min_samples_split\": [2,3,5,10,20,50]}"
   ]
  },
  {
   "cell_type": "code",
   "execution_count": 82,
   "metadata": {},
   "outputs": [
    {
     "name": "stdout",
     "output_type": "stream",
     "text": [
      "Fitting 5 folds for each of 30 candidates, totalling 150 fits\n"
     ]
    },
    {
     "name": "stderr",
     "output_type": "stream",
     "text": [
      "[Parallel(n_jobs=-1)]: Using backend LokyBackend with 4 concurrent workers.\n",
      "[Parallel(n_jobs=-1)]: Done 114 tasks      | elapsed:    0.3s\n",
      "[Parallel(n_jobs=-1)]: Done 150 out of 150 | elapsed:    0.4s finished\n"
     ]
    }
   ],
   "source": [
    "cart_cv_model = GridSearchCV(cart, cart_params, cv=5, n_jobs=-1, verbose=2).fit(X_train, y_train)"
   ]
  },
  {
   "cell_type": "code",
   "execution_count": 83,
   "metadata": {},
   "outputs": [
    {
     "data": {
      "text/plain": [
       "{'max_depth': 5, 'min_samples_split': 20}"
      ]
     },
     "execution_count": 83,
     "metadata": {},
     "output_type": "execute_result"
    }
   ],
   "source": [
    "cart_cv_model.best_params_"
   ]
  },
  {
   "cell_type": "markdown",
   "metadata": {},
   "source": [
    "# final model"
   ]
  },
  {
   "cell_type": "code",
   "execution_count": 84,
   "metadata": {},
   "outputs": [],
   "source": [
    "cart_tuned = DecisionTreeClassifier(max_depth = 5, min_samples_split=20).fit(X_train, y_train)"
   ]
  },
  {
   "cell_type": "code",
   "execution_count": 85,
   "metadata": {},
   "outputs": [],
   "source": [
    "y_pred = cart_tuned.predict(X_test)"
   ]
  },
  {
   "cell_type": "code",
   "execution_count": 86,
   "metadata": {},
   "outputs": [
    {
     "data": {
      "text/plain": [
       "0.7532467532467533"
      ]
     },
     "execution_count": 86,
     "metadata": {},
     "output_type": "execute_result"
    }
   ],
   "source": [
    "accuracy_score(y_test, y_pred)"
   ]
  },
  {
   "cell_type": "markdown",
   "metadata": {},
   "source": [
    "# Random Forest"
   ]
  },
  {
   "cell_type": "markdown",
   "metadata": {},
   "source": [
    "# model&tahmin"
   ]
  },
  {
   "cell_type": "code",
   "execution_count": 87,
   "metadata": {},
   "outputs": [],
   "source": [
    "rfs_model = RandomForestClassifier().fit(X_train, y_train)"
   ]
  },
  {
   "cell_type": "code",
   "execution_count": 88,
   "metadata": {},
   "outputs": [
    {
     "data": {
      "text/plain": [
       "RandomForestClassifier()"
      ]
     },
     "execution_count": 88,
     "metadata": {},
     "output_type": "execute_result"
    }
   ],
   "source": [
    "rfs_model"
   ]
  },
  {
   "cell_type": "code",
   "execution_count": 89,
   "metadata": {},
   "outputs": [],
   "source": [
    "y_pred = rfs_model.predict(X_test)"
   ]
  },
  {
   "cell_type": "code",
   "execution_count": 90,
   "metadata": {},
   "outputs": [
    {
     "data": {
      "text/plain": [
       "0.7402597402597403"
      ]
     },
     "execution_count": 90,
     "metadata": {},
     "output_type": "execute_result"
    }
   ],
   "source": [
    "accuracy_score(y_test, y_pred)"
   ]
  },
  {
   "cell_type": "markdown",
   "metadata": {},
   "source": [
    "# model tuning"
   ]
  },
  {
   "cell_type": "code",
   "execution_count": 91,
   "metadata": {},
   "outputs": [],
   "source": [
    "rfs = RandomForestClassifier()"
   ]
  },
  {
   "cell_type": "code",
   "execution_count": 92,
   "metadata": {},
   "outputs": [],
   "source": [
    "rfs_params = {\"n_estimators\": [100,200,500,1000],\n",
    "             \"max_features\": [3,5,7,8],\n",
    "             \"min_samples_split\":[2,5,10,20]}"
   ]
  },
  {
   "cell_type": "code",
   "execution_count": 93,
   "metadata": {},
   "outputs": [
    {
     "name": "stdout",
     "output_type": "stream",
     "text": [
      "Fitting 5 folds for each of 64 candidates, totalling 320 fits\n"
     ]
    },
    {
     "name": "stderr",
     "output_type": "stream",
     "text": [
      "[Parallel(n_jobs=-1)]: Using backend LokyBackend with 4 concurrent workers.\n",
      "[Parallel(n_jobs=-1)]: Done  33 tasks      | elapsed:   10.6s\n",
      "[Parallel(n_jobs=-1)]: Done 154 tasks      | elapsed:   57.1s\n",
      "[Parallel(n_jobs=-1)]: Done 320 out of 320 | elapsed:  2.2min finished\n"
     ]
    }
   ],
   "source": [
    "rfs_cv_model = GridSearchCV(rfs, rfs_params, cv=5, n_jobs=-1, verbose=2).fit(X_train, y_train)"
   ]
  },
  {
   "cell_type": "code",
   "execution_count": 94,
   "metadata": {},
   "outputs": [
    {
     "data": {
      "text/plain": [
       "{'max_features': 5, 'min_samples_split': 2, 'n_estimators': 200}"
      ]
     },
     "execution_count": 94,
     "metadata": {},
     "output_type": "execute_result"
    }
   ],
   "source": [
    "rfs_cv_model.best_params_"
   ]
  },
  {
   "cell_type": "markdown",
   "metadata": {},
   "source": [
    "# final model"
   ]
  },
  {
   "cell_type": "code",
   "execution_count": 95,
   "metadata": {},
   "outputs": [],
   "source": [
    "rfs_tuned =RandomForestClassifier(max_features=5,min_samples_split=5,n_estimators=500).fit(X_train, y_train)"
   ]
  },
  {
   "cell_type": "code",
   "execution_count": 96,
   "metadata": {},
   "outputs": [],
   "source": [
    "y_pred =  rfs_tuned.predict(X_test)"
   ]
  },
  {
   "cell_type": "code",
   "execution_count": 97,
   "metadata": {},
   "outputs": [
    {
     "data": {
      "text/plain": [
       "0.7489177489177489"
      ]
     },
     "execution_count": 97,
     "metadata": {},
     "output_type": "execute_result"
    }
   ],
   "source": [
    "accuracy_score(y_test, y_pred)"
   ]
  },
  {
   "cell_type": "markdown",
   "metadata": {},
   "source": [
    "# değişken önem düzeyleri"
   ]
  },
  {
   "cell_type": "code",
   "execution_count": 98,
   "metadata": {},
   "outputs": [
    {
     "data": {
      "text/plain": [
       "Text(0.5, 1.0, 'Değişken Önem Düzeyleri')"
      ]
     },
     "execution_count": 98,
     "metadata": {},
     "output_type": "execute_result"
    },
    {
     "data": {
      "image/png": "[encoded data removed]",
      "text/plain": [
       "<Figure size 432x288 with 1 Axes>"
      ]
     },
     "metadata": {
      "needs_background": "light"
     },
     "output_type": "display_data"
    }
   ],
   "source": [
    "feature_imp = pd.Series(rfs_tuned.feature_importances_,\n",
    "                       index=X_train.columns).sort_values(ascending=False)\n",
    "\n",
    "sns.barplot(x=feature_imp, y=feature_imp.index)\n",
    "plt.xlabel(\"Değişken Önem Skorları\")\n",
    "plt.ylabel(\"Değişkenler\")\n",
    "plt.title(\"Değişken Önem Düzeyleri\")"
   ]
  },
  {
   "cell_type": "markdown",
   "metadata": {},
   "source": [
    "# Gradient Boosting Machines (GBM)"
   ]
  },
  {
   "cell_type": "markdown",
   "metadata": {},
   "source": [
    "# model&tahmin"
   ]
  },
  {
   "cell_type": "code",
   "execution_count": 99,
   "metadata": {},
   "outputs": [],
   "source": [
    "gbm_model = GradientBoostingClassifier().fit(X_train, y_train)"
   ]
  },
  {
   "cell_type": "code",
   "execution_count": 100,
   "metadata": {},
   "outputs": [
    {
     "data": {
      "text/plain": [
       "GradientBoostingClassifier()"
      ]
     },
     "execution_count": 100,
     "metadata": {},
     "output_type": "execute_result"
    }
   ],
   "source": [
    "gbm_model"
   ]
  },
  {
   "cell_type": "code",
   "execution_count": 101,
   "metadata": {},
   "outputs": [],
   "source": [
    "y_pred = gbm_model.predict(X_test)"
   ]
  },
  {
   "cell_type": "code",
   "execution_count": 102,
   "metadata": {},
   "outputs": [
    {
     "data": {
      "text/plain": [
       "0.7489177489177489"
      ]
     },
     "execution_count": 102,
     "metadata": {},
     "output_type": "execute_result"
    }
   ],
   "source": [
    "accuracy_score(y_test, y_pred)"
   ]
  },
  {
   "cell_type": "markdown",
   "metadata": {},
   "source": [
    "# model tuning"
   ]
  },
  {
   "cell_type": "code",
   "execution_count": 103,
   "metadata": {},
   "outputs": [],
   "source": [
    "gbm = GradientBoostingClassifier()"
   ]
  },
  {
   "cell_type": "code",
   "execution_count": 104,
   "metadata": {},
   "outputs": [],
   "source": [
    "gbm_params = {\"learning_rate\": [0.1,0.01,0.001,0.05],\n",
    "             \"n_estimators\":[100,300,500,1000],\n",
    "             \"max_depth\":[2,3,5,8]}"
   ]
  },
  {
   "cell_type": "code",
   "execution_count": 105,
   "metadata": {},
   "outputs": [
    {
     "name": "stdout",
     "output_type": "stream",
     "text": [
      "Fitting 5 folds for each of 64 candidates, totalling 320 fits\n"
     ]
    },
    {
     "name": "stderr",
     "output_type": "stream",
     "text": [
      "[Parallel(n_jobs=-1)]: Using backend LokyBackend with 4 concurrent workers.\n",
      "[Parallel(n_jobs=-1)]: Done  53 tasks      | elapsed:   10.4s\n",
      "[Parallel(n_jobs=-1)]: Done 174 tasks      | elapsed:  1.1min\n",
      "[Parallel(n_jobs=-1)]: Done 320 out of 320 | elapsed:  2.1min finished\n"
     ]
    }
   ],
   "source": [
    "gbm_cv_model=GridSearchCV(gbm,gbm_params, cv=5, n_jobs=-1, verbose=2).fit(X_train,y_train)"
   ]
  },
  {
   "cell_type": "code",
   "execution_count": 106,
   "metadata": {},
   "outputs": [
    {
     "data": {
      "text/plain": [
       "{'learning_rate': 0.01, 'max_depth': 3, 'n_estimators': 500}"
      ]
     },
     "execution_count": 106,
     "metadata": {},
     "output_type": "execute_result"
    }
   ],
   "source": [
    "gbm_cv_model.best_params_"
   ]
  },
  {
   "cell_type": "markdown",
   "metadata": {},
   "source": [
    "# final model"
   ]
  },
  {
   "cell_type": "code",
   "execution_count": 107,
   "metadata": {},
   "outputs": [],
   "source": [
    "gbm_tuned = GradientBoostingClassifier(learning_rate=0.01,max_depth=3,n_estimators=500).fit(X_train, y_train)"
   ]
  },
  {
   "cell_type": "code",
   "execution_count": 108,
   "metadata": {},
   "outputs": [],
   "source": [
    "y_pred=gbm_tuned.predict(X_test)"
   ]
  },
  {
   "cell_type": "code",
   "execution_count": 109,
   "metadata": {},
   "outputs": [
    {
     "data": {
      "text/plain": [
       "0.7402597402597403"
      ]
     },
     "execution_count": 109,
     "metadata": {},
     "output_type": "execute_result"
    }
   ],
   "source": [
    "accuracy_score(y_test,y_pred)"
   ]
  },
  {
   "cell_type": "code",
   "execution_count": 110,
   "metadata": {},
   "outputs": [
    {
     "data": {
      "text/plain": [
       "Text(0.5, 1.0, 'Değişken Önem Düzeyleri')"
      ]
     },
     "execution_count": 110,
     "metadata": {},
     "output_type": "execute_result"
    },
    {
     "data": {
      "image/png": "[encoded data removed]",
      "text/plain": [
       "<Figure size 432x288 with 1 Axes>"
      ]
     },
     "metadata": {
      "needs_background": "light"
     },
     "output_type": "display_data"
    }
   ],
   "source": [
    "feature_imp = pd.Series(gbm_tuned.feature_importances_,\n",
    "                       index=X_train.columns).sort_values(ascending=False)\n",
    "\n",
    "sns.barplot(x=feature_imp, y=feature_imp.index)\n",
    "plt.xlabel(\"Değişken Önem Skorları\")\n",
    "plt.ylabel(\"Değişkenler\")\n",
    "plt.title(\"Değişken Önem Düzeyleri\")"
   ]
  },
  {
   "cell_type": "markdown",
   "metadata": {},
   "source": [
    "# XGBoost"
   ]
  },
  {
   "cell_type": "markdown",
   "metadata": {},
   "source": [
    "# model&tahmin"
   ]
  },
  {
   "cell_type": "code",
   "execution_count": 111,
   "metadata": {},
   "outputs": [
    {
     "name": "stdout",
     "output_type": "stream",
     "text": [
      "Requirement already satisfied: xgboost in c:\\users\\lenovo\\anaconda3\\lib\\site-packages (1.2.1)\n",
      "Requirement already satisfied: numpy in c:\\users\\lenovo\\anaconda3\\lib\\site-packages (from xgboost) (1.18.5)\n",
      "Requirement already satisfied: scipy in c:\\users\\lenovo\\anaconda3\\lib\\site-packages (from xgboost) (1.5.0)\n"
     ]
    }
   ],
   "source": [
    "!pip install xgboost"
   ]
  },
  {
   "cell_type": "code",
   "execution_count": 112,
   "metadata": {},
   "outputs": [],
   "source": [
    "from xgboost import XGBClassifier"
   ]
  },
  {
   "cell_type": "code",
   "execution_count": 113,
   "metadata": {},
   "outputs": [],
   "source": [
    "xgb_model = XGBClassifier().fit(X_train, y_train)"
   ]
  },
  {
   "cell_type": "code",
   "execution_count": 114,
   "metadata": {},
   "outputs": [
    {
     "data": {
      "text/plain": [
       "XGBClassifier(base_score=0.5, booster='gbtree', colsample_bylevel=1,\n",
       "              colsample_bynode=1, colsample_bytree=1, gamma=0, gpu_id=-1,\n",
       "              importance_type='gain', interaction_constraints='',\n",
       "              learning_rate=0.300000012, max_delta_step=0, max_depth=6,\n",
       "              min_child_weight=1, missing=nan, monotone_constraints='()',\n",
       "              n_estimators=100, n_jobs=0, num_parallel_tree=1, random_state=0,\n",
       "              reg_alpha=0, reg_lambda=1, scale_pos_weight=1, subsample=1,\n",
       "              tree_method='exact', validate_parameters=1, verbosity=None)"
      ]
     },
     "execution_count": 114,
     "metadata": {},
     "output_type": "execute_result"
    }
   ],
   "source": [
    "xgb_model"
   ]
  },
  {
   "cell_type": "code",
   "execution_count": 115,
   "metadata": {},
   "outputs": [],
   "source": [
    "?xgb_model"
   ]
  },
  {
   "cell_type": "code",
   "execution_count": 116,
   "metadata": {},
   "outputs": [],
   "source": [
    "y_pred=xgb_model.predict(X_test)"
   ]
  },
  {
   "cell_type": "code",
   "execution_count": 117,
   "metadata": {},
   "outputs": [
    {
     "data": {
      "text/plain": [
       "0.7359307359307359"
      ]
     },
     "execution_count": 117,
     "metadata": {},
     "output_type": "execute_result"
    }
   ],
   "source": [
    "accuracy_score(y_test,y_pred)"
   ]
  },
  {
   "cell_type": "markdown",
   "metadata": {},
   "source": [
    "# model tuning"
   ]
  },
  {
   "cell_type": "code",
   "execution_count": 118,
   "metadata": {},
   "outputs": [],
   "source": [
    "xgb=XGBClassifier()"
   ]
  },
  {
   "cell_type": "code",
   "execution_count": 119,
   "metadata": {},
   "outputs": [],
   "source": [
    "xgb_params= {\"n_estimators\":[100,500,1000,2000],\n",
    "            \"subsample\": [0.6,0.8,1],\n",
    "            \"max_depth\":[3,5,7],\n",
    "            \"learnin_rate\":[0.1,0.001,0.01]}"
   ]
  },
  {
   "cell_type": "code",
   "execution_count": 120,
   "metadata": {},
   "outputs": [
    {
     "name": "stdout",
     "output_type": "stream",
     "text": [
      "Fitting 5 folds for each of 108 candidates, totalling 540 fits\n"
     ]
    },
    {
     "name": "stderr",
     "output_type": "stream",
     "text": [
      "[Parallel(n_jobs=-1)]: Using backend LokyBackend with 4 concurrent workers.\n",
      "[Parallel(n_jobs=-1)]: Done  33 tasks      | elapsed:    2.6s\n",
      "[Parallel(n_jobs=-1)]: Done 154 tasks      | elapsed:   14.6s\n",
      "[Parallel(n_jobs=-1)]: Done 357 tasks      | elapsed:   36.5s\n"
     ]
    },
    {
     "name": "stdout",
     "output_type": "stream",
     "text": [
      "[19:55:03] WARNING: C:\\Users\\Administrator\\workspace\\xgboost-win64_release_1.2.0\\src\\learner.cc:516: \n",
      "Parameters: { learnin_rate } might not be used.\n",
      "\n",
      "  This may not be accurate due to some parameters are only used in language bindings but\n",
      "  passed down to XGBoost core.  Or some parameters are not used but slip through this\n",
      "  verification. Please open an issue if you find above cases.\n",
      "\n",
      "\n"
     ]
    },
    {
     "name": "stderr",
     "output_type": "stream",
     "text": [
      "[Parallel(n_jobs=-1)]: Done 540 out of 540 | elapsed:   56.2s finished\n"
     ]
    }
   ],
   "source": [
    "xgb_cv_model = GridSearchCV(xgb,xgb_params, cv=5,n_jobs=-1,verbose=2).fit(X_train, y_train)"
   ]
  },
  {
   "cell_type": "code",
   "execution_count": 121,
   "metadata": {},
   "outputs": [
    {
     "data": {
      "text/plain": [
       "{'learnin_rate': 0.1, 'max_depth': 3, 'n_estimators': 100, 'subsample': 0.6}"
      ]
     },
     "execution_count": 121,
     "metadata": {},
     "output_type": "execute_result"
    }
   ],
   "source": [
    "xgb_cv_model.best_params_"
   ]
  },
  {
   "cell_type": "markdown",
   "metadata": {},
   "source": [
    "# final model"
   ]
  },
  {
   "cell_type": "code",
   "execution_count": 122,
   "metadata": {},
   "outputs": [
    {
     "name": "stdout",
     "output_type": "stream",
     "text": [
      "[19:55:03] WARNING: C:\\Users\\Administrator\\workspace\\xgboost-win64_release_1.2.0\\src\\learner.cc:516: \n",
      "Parameters: { learnin_rate } might not be used.\n",
      "\n",
      "  This may not be accurate due to some parameters are only used in language bindings but\n",
      "  passed down to XGBoost core.  Or some parameters are not used but slip through this\n",
      "  verification. Please open an issue if you find above cases.\n",
      "\n",
      "\n"
     ]
    }
   ],
   "source": [
    "xgb_tuned =XGBClassifier(learnin_rate=0.1,max_depth=3,n_estimators=100,subsample=0.6).fit(X_train, y_train)"
   ]
  },
  {
   "cell_type": "code",
   "execution_count": 123,
   "metadata": {},
   "outputs": [],
   "source": [
    "y_pred = xgb_tuned.predict(X_test)"
   ]
  },
  {
   "cell_type": "code",
   "execution_count": 124,
   "metadata": {},
   "outputs": [
    {
     "data": {
      "text/plain": [
       "0.7272727272727273"
      ]
     },
     "execution_count": 124,
     "metadata": {},
     "output_type": "execute_result"
    }
   ],
   "source": [
    "accuracy_score(y_pred, y_test)"
   ]
  },
  {
   "cell_type": "code",
   "execution_count": 125,
   "metadata": {},
   "outputs": [
    {
     "data": {
      "text/plain": [
       "Text(0.5, 1.0, 'Değişken Önem Düzeyleri')"
      ]
     },
     "execution_count": 125,
     "metadata": {},
     "output_type": "execute_result"
    },
    {
     "data": {
      "image/png": "[encoded data removed]",
      "text/plain": [
       "<Figure size 432x288 with 1 Axes>"
      ]
     },
     "metadata": {
      "needs_background": "light"
     },
     "output_type": "display_data"
    }
   ],
   "source": [
    "feature_imp = pd.Series(xgb_tuned.feature_importances_,\n",
    "                       index=X_train.columns).sort_values(ascending=False)\n",
    "\n",
    "sns.barplot(x=feature_imp, y=feature_imp.index)\n",
    "plt.xlabel(\"Değişken Önem Skorları\")\n",
    "plt.ylabel(\"Değişkenler\")\n",
    "plt.title(\"Değişken Önem Düzeyleri\")"
   ]
  },
  {
   "cell_type": "markdown",
   "metadata": {},
   "source": [
    "# Light GBM"
   ]
  },
  {
   "cell_type": "code",
   "execution_count": 126,
   "metadata": {},
   "outputs": [
    {
     "name": "stdout",
     "output_type": "stream",
     "text": [
      "Requirement already satisfied: lightgbm in c:\\users\\lenovo\\anaconda3\\lib\\site-packages (3.1.0)\n",
      "Requirement already satisfied: scikit-learn!=0.22.0 in c:\\users\\lenovo\\anaconda3\\lib\\site-packages (from lightgbm) (0.23.1)\n",
      "Requirement already satisfied: numpy in c:\\users\\lenovo\\anaconda3\\lib\\site-packages (from lightgbm) (1.18.5)\n",
      "Requirement already satisfied: scipy in c:\\users\\lenovo\\anaconda3\\lib\\site-packages (from lightgbm) (1.5.0)\n",
      "Requirement already satisfied: threadpoolctl>=2.0.0 in c:\\users\\lenovo\\anaconda3\\lib\\site-packages (from scikit-learn!=0.22.0->lightgbm) (2.1.0)\n",
      "Requirement already satisfied: joblib>=0.11 in c:\\users\\lenovo\\anaconda3\\lib\\site-packages (from scikit-learn!=0.22.0->lightgbm) (0.16.0)\n"
     ]
    }
   ],
   "source": [
    "!pip install lightgbm"
   ]
  },
  {
   "cell_type": "code",
   "execution_count": 127,
   "metadata": {},
   "outputs": [],
   "source": [
    "from lightgbm import LGBMClassifier"
   ]
  },
  {
   "cell_type": "code",
   "execution_count": 128,
   "metadata": {},
   "outputs": [],
   "source": [
    "lgbm_model =LGBMClassifier().fit(X_train, y_train)"
   ]
  },
  {
   "cell_type": "code",
   "execution_count": 129,
   "metadata": {},
   "outputs": [
    {
     "data": {
      "text/plain": [
       "LGBMClassifier()"
      ]
     },
     "execution_count": 129,
     "metadata": {},
     "output_type": "execute_result"
    }
   ],
   "source": [
    "lgbm_model"
   ]
  },
  {
   "cell_type": "code",
   "execution_count": 130,
   "metadata": {},
   "outputs": [],
   "source": [
    "?lgbm_model"
   ]
  },
  {
   "cell_type": "code",
   "execution_count": 131,
   "metadata": {},
   "outputs": [],
   "source": [
    "y_pred=lgbm_model.predict(X_test)"
   ]
  },
  {
   "cell_type": "code",
   "execution_count": 132,
   "metadata": {},
   "outputs": [
    {
     "data": {
      "text/plain": [
       "0.7229437229437229"
      ]
     },
     "execution_count": 132,
     "metadata": {},
     "output_type": "execute_result"
    }
   ],
   "source": [
    "accuracy_score(y_test,y_pred)"
   ]
  },
  {
   "cell_type": "markdown",
   "metadata": {},
   "source": [
    "# model tuning"
   ]
  },
  {
   "cell_type": "code",
   "execution_count": 133,
   "metadata": {},
   "outputs": [],
   "source": [
    "lgbm=LGBMClassifier()"
   ]
  },
  {
   "cell_type": "code",
   "execution_count": 134,
   "metadata": {},
   "outputs": [],
   "source": [
    "lgbm_params = {\"learning_rate\":[0.001,0.01,0.1],\n",
    "              \"n_estimators\": [200,500,100],\n",
    "              \"max_depth\":[1,2,35,8]}"
   ]
  },
  {
   "cell_type": "code",
   "execution_count": 135,
   "metadata": {},
   "outputs": [
    {
     "name": "stdout",
     "output_type": "stream",
     "text": [
      "Fitting 5 folds for each of 36 candidates, totalling 180 fits\n"
     ]
    },
    {
     "name": "stderr",
     "output_type": "stream",
     "text": [
      "[Parallel(n_jobs=-1)]: Using backend LokyBackend with 4 concurrent workers.\n",
      "[Parallel(n_jobs=-1)]: Done  56 tasks      | elapsed:    1.8s\n"
     ]
    },
    {
     "name": "stdout",
     "output_type": "stream",
     "text": [
      "[LightGBM] [Warning] Accuracy may be bad since you didn't explicitly set num_leaves OR 2^max_depth > num_leaves. (num_leaves=31).\n"
     ]
    },
    {
     "name": "stderr",
     "output_type": "stream",
     "text": [
      "[Parallel(n_jobs=-1)]: Done 180 out of 180 | elapsed:    5.8s finished\n"
     ]
    }
   ],
   "source": [
    "lgbm_cv_model=GridSearchCV(lgbm,lgbm_params,cv=5,n_jobs=-1,verbose=2).fit(X_train,y_train)"
   ]
  },
  {
   "cell_type": "code",
   "execution_count": 136,
   "metadata": {},
   "outputs": [
    {
     "data": {
      "text/plain": [
       "{'learning_rate': 0.01, 'max_depth': 8, 'n_estimators': 100}"
      ]
     },
     "execution_count": 136,
     "metadata": {},
     "output_type": "execute_result"
    }
   ],
   "source": [
    "lgbm_cv_model.best_params_"
   ]
  },
  {
   "cell_type": "markdown",
   "metadata": {},
   "source": [
    "# final model"
   ]
  },
  {
   "cell_type": "code",
   "execution_count": 137,
   "metadata": {},
   "outputs": [],
   "source": [
    "lgbm_tuned=LGBMClassifier(learning_rate=0.01,max_depth=8,n_estimators=100).fit(X_train, y_train)"
   ]
  },
  {
   "cell_type": "code",
   "execution_count": 138,
   "metadata": {},
   "outputs": [],
   "source": [
    "y_pred=lgbm_tuned.predict(X_test)"
   ]
  },
  {
   "cell_type": "code",
   "execution_count": 139,
   "metadata": {},
   "outputs": [
    {
     "data": {
      "text/plain": [
       "0.7662337662337663"
      ]
     },
     "execution_count": 139,
     "metadata": {},
     "output_type": "execute_result"
    }
   ],
   "source": [
    "accuracy_score(y_test,y_pred)"
   ]
  },
  {
   "cell_type": "code",
   "execution_count": 140,
   "metadata": {},
   "outputs": [
    {
     "data": {
      "text/plain": [
       "Text(0.5, 1.0, 'Değişken Önem Düzeyleri')"
      ]
     },
     "execution_count": 140,
     "metadata": {},
     "output_type": "execute_result"
    },
    {
     "data": {
      "image/png": "[encoded data removed]",
      "text/plain": [
       "<Figure size 432x288 with 1 Axes>"
      ]
     },
     "metadata": {
      "needs_background": "light"
     },
     "output_type": "display_data"
    }
   ],
   "source": [
    "feature_imp = pd.Series(lgbm_tuned.feature_importances_,\n",
    "                       index=X_train.columns).sort_values(ascending=False)\n",
    "\n",
    "sns.barplot(x=feature_imp, y=feature_imp.index)\n",
    "plt.xlabel(\"Değişken Önem Skorları\")\n",
    "plt.ylabel(\"Değişkenler\")\n",
    "plt.title(\"Değişken Önem Düzeyleri\")"
   ]
  },
  {
   "cell_type": "markdown",
   "metadata": {},
   "source": [
    "# CatBoost"
   ]
  },
  {
   "cell_type": "markdown",
   "metadata": {},
   "source": [
    "# model&tahmin"
   ]
  },
  {
   "cell_type": "code",
   "execution_count": 141,
   "metadata": {},
   "outputs": [
    {
     "name": "stdout",
     "output_type": "stream",
     "text": [
      "Requirement already satisfied: catboost in c:\\users\\lenovo\\anaconda3\\lib\\site-packages (0.24.3)\n",
      "Requirement already satisfied: graphviz in c:\\users\\lenovo\\anaconda3\\lib\\site-packages (from catboost) (0.15)\n",
      "Requirement already satisfied: matplotlib in c:\\users\\lenovo\\anaconda3\\lib\\site-packages (from catboost) (3.2.2)\n",
      "Requirement already satisfied: six in c:\\users\\lenovo\\anaconda3\\lib\\site-packages (from catboost) (1.15.0)\n",
      "Requirement already satisfied: pandas>=0.24.0 in c:\\users\\lenovo\\anaconda3\\lib\\site-packages (from catboost) (1.0.5)\n",
      "Requirement already satisfied: plotly in c:\\users\\lenovo\\anaconda3\\lib\\site-packages (from catboost) (4.12.0)\n",
      "Requirement already satisfied: scipy in c:\\users\\lenovo\\anaconda3\\lib\\site-packages (from catboost) (1.5.0)\n",
      "Requirement already satisfied: numpy>=1.16.0 in c:\\users\\lenovo\\anaconda3\\lib\\site-packages (from catboost) (1.18.5)\n",
      "Requirement already satisfied: cycler>=0.10 in c:\\users\\lenovo\\anaconda3\\lib\\site-packages (from matplotlib->catboost) (0.10.0)\n",
      "Requirement already satisfied: kiwisolver>=1.0.1 in c:\\users\\lenovo\\anaconda3\\lib\\site-packages (from matplotlib->catboost) (1.2.0)\n",
      "Requirement already satisfied: python-dateutil>=2.1 in c:\\users\\lenovo\\anaconda3\\lib\\site-packages (from matplotlib->catboost) (2.8.1)\n",
      "Requirement already satisfied: pyparsing!=2.0.4,!=2.1.2,!=2.1.6,>=2.0.1 in c:\\users\\lenovo\\anaconda3\\lib\\site-packages (from matplotlib->catboost) (2.4.7)\n",
      "Requirement already satisfied: pytz>=2017.2 in c:\\users\\lenovo\\anaconda3\\lib\\site-packages (from pandas>=0.24.0->catboost) (2020.1)\n",
      "Requirement already satisfied: retrying>=1.3.3 in c:\\users\\lenovo\\anaconda3\\lib\\site-packages (from plotly->catboost) (1.3.3)\n"
     ]
    }
   ],
   "source": [
    "!pip install catboost"
   ]
  },
  {
   "cell_type": "code",
   "execution_count": 142,
   "metadata": {},
   "outputs": [],
   "source": [
    "from catboost import CatBoostClassifier"
   ]
  },
  {
   "cell_type": "code",
   "execution_count": 143,
   "metadata": {},
   "outputs": [
    {
     "name": "stdout",
     "output_type": "stream",
     "text": [
      "Learning rate set to 0.0079\n",
      "0:\tlearn: 0.6879822\ttotal: 78.4ms\tremaining: 1m 18s\n",
      "1:\tlearn: 0.6843544\ttotal: 83ms\tremaining: 41.4s\n",
      "2:\tlearn: 0.6805937\ttotal: 86.5ms\tremaining: 28.8s\n",
      "3:\tlearn: 0.6766011\ttotal: 90.3ms\tremaining: 22.5s\n",
      "4:\tlearn: 0.6721103\ttotal: 93.6ms\tremaining: 18.6s\n",
      "5:\tlearn: 0.6681927\ttotal: 96ms\tremaining: 15.9s\n",
      "6:\tlearn: 0.6642263\ttotal: 98ms\tremaining: 13.9s\n",
      "7:\tlearn: 0.6603263\ttotal: 100ms\tremaining: 12.4s\n",
      "8:\tlearn: 0.6563030\ttotal: 102ms\tremaining: 11.2s\n",
      "9:\tlearn: 0.6528911\ttotal: 105ms\tremaining: 10.4s\n",
      "10:\tlearn: 0.6488276\ttotal: 107ms\tremaining: 9.61s\n",
      "11:\tlearn: 0.6455457\ttotal: 109ms\tremaining: 8.98s\n",
      "12:\tlearn: 0.6419444\ttotal: 111ms\tremaining: 8.44s\n",
      "13:\tlearn: 0.6374939\ttotal: 113ms\tremaining: 7.98s\n",
      "14:\tlearn: 0.6340194\ttotal: 115ms\tremaining: 7.58s\n",
      "15:\tlearn: 0.6304776\ttotal: 117ms\tremaining: 7.22s\n",
      "16:\tlearn: 0.6267531\ttotal: 120ms\tremaining: 6.92s\n",
      "17:\tlearn: 0.6238199\ttotal: 122ms\tremaining: 6.63s\n",
      "18:\tlearn: 0.6204938\ttotal: 123ms\tremaining: 6.38s\n",
      "19:\tlearn: 0.6170669\ttotal: 125ms\tremaining: 6.14s\n",
      "20:\tlearn: 0.6133936\ttotal: 127ms\tremaining: 5.93s\n",
      "21:\tlearn: 0.6105467\ttotal: 129ms\tremaining: 5.75s\n",
      "22:\tlearn: 0.6070055\ttotal: 132ms\tremaining: 5.59s\n",
      "23:\tlearn: 0.6036988\ttotal: 135ms\tremaining: 5.47s\n",
      "24:\tlearn: 0.6005906\ttotal: 137ms\tremaining: 5.36s\n",
      "25:\tlearn: 0.5978029\ttotal: 140ms\tremaining: 5.25s\n",
      "26:\tlearn: 0.5948687\ttotal: 143ms\tremaining: 5.14s\n",
      "27:\tlearn: 0.5920321\ttotal: 146ms\tremaining: 5.07s\n",
      "28:\tlearn: 0.5885543\ttotal: 149ms\tremaining: 5s\n",
      "29:\tlearn: 0.5848739\ttotal: 152ms\tremaining: 4.92s\n",
      "30:\tlearn: 0.5814562\ttotal: 154ms\tremaining: 4.82s\n",
      "31:\tlearn: 0.5783158\ttotal: 156ms\tremaining: 4.72s\n",
      "32:\tlearn: 0.5754880\ttotal: 158ms\tremaining: 4.62s\n",
      "33:\tlearn: 0.5737960\ttotal: 160ms\tremaining: 4.54s\n",
      "34:\tlearn: 0.5713558\ttotal: 162ms\tremaining: 4.47s\n",
      "35:\tlearn: 0.5687880\ttotal: 165ms\tremaining: 4.42s\n",
      "36:\tlearn: 0.5660068\ttotal: 169ms\tremaining: 4.39s\n",
      "37:\tlearn: 0.5642053\ttotal: 172ms\tremaining: 4.35s\n",
      "38:\tlearn: 0.5618905\ttotal: 174ms\tremaining: 4.3s\n",
      "39:\tlearn: 0.5596534\ttotal: 177ms\tremaining: 4.25s\n",
      "40:\tlearn: 0.5576328\ttotal: 180ms\tremaining: 4.21s\n",
      "41:\tlearn: 0.5553185\ttotal: 183ms\tremaining: 4.16s\n",
      "42:\tlearn: 0.5531257\ttotal: 184ms\tremaining: 4.1s\n",
      "43:\tlearn: 0.5501080\ttotal: 186ms\tremaining: 4.05s\n",
      "44:\tlearn: 0.5479930\ttotal: 188ms\tremaining: 3.99s\n",
      "45:\tlearn: 0.5456177\ttotal: 190ms\tremaining: 3.94s\n",
      "46:\tlearn: 0.5438786\ttotal: 192ms\tremaining: 3.9s\n",
      "47:\tlearn: 0.5419967\ttotal: 195ms\tremaining: 3.86s\n",
      "48:\tlearn: 0.5394665\ttotal: 196ms\tremaining: 3.81s\n",
      "49:\tlearn: 0.5376058\ttotal: 198ms\tremaining: 3.76s\n",
      "50:\tlearn: 0.5352902\ttotal: 200ms\tremaining: 3.73s\n",
      "51:\tlearn: 0.5332041\ttotal: 202ms\tremaining: 3.69s\n",
      "52:\tlearn: 0.5306692\ttotal: 205ms\tremaining: 3.65s\n",
      "53:\tlearn: 0.5284961\ttotal: 208ms\tremaining: 3.64s\n",
      "54:\tlearn: 0.5266646\ttotal: 210ms\tremaining: 3.6s\n",
      "55:\tlearn: 0.5245416\ttotal: 212ms\tremaining: 3.57s\n",
      "56:\tlearn: 0.5225713\ttotal: 214ms\tremaining: 3.54s\n",
      "57:\tlearn: 0.5206087\ttotal: 216ms\tremaining: 3.51s\n",
      "58:\tlearn: 0.5182788\ttotal: 218ms\tremaining: 3.48s\n",
      "59:\tlearn: 0.5160537\ttotal: 221ms\tremaining: 3.46s\n",
      "60:\tlearn: 0.5146418\ttotal: 223ms\tremaining: 3.43s\n",
      "61:\tlearn: 0.5133434\ttotal: 225ms\tremaining: 3.4s\n",
      "62:\tlearn: 0.5120091\ttotal: 227ms\tremaining: 3.38s\n",
      "63:\tlearn: 0.5105931\ttotal: 229ms\tremaining: 3.35s\n",
      "64:\tlearn: 0.5082239\ttotal: 231ms\tremaining: 3.33s\n",
      "65:\tlearn: 0.5062303\ttotal: 235ms\tremaining: 3.33s\n",
      "66:\tlearn: 0.5046140\ttotal: 238ms\tremaining: 3.32s\n",
      "67:\tlearn: 0.5026774\ttotal: 240ms\tremaining: 3.29s\n",
      "68:\tlearn: 0.5014878\ttotal: 242ms\tremaining: 3.26s\n",
      "69:\tlearn: 0.5001072\ttotal: 244ms\tremaining: 3.24s\n",
      "70:\tlearn: 0.4986150\ttotal: 246ms\tremaining: 3.22s\n",
      "71:\tlearn: 0.4968047\ttotal: 250ms\tremaining: 3.22s\n",
      "72:\tlearn: 0.4953632\ttotal: 252ms\tremaining: 3.2s\n",
      "73:\tlearn: 0.4938498\ttotal: 254ms\tremaining: 3.18s\n",
      "74:\tlearn: 0.4922801\ttotal: 256ms\tremaining: 3.15s\n",
      "75:\tlearn: 0.4908261\ttotal: 258ms\tremaining: 3.13s\n",
      "76:\tlearn: 0.4892363\ttotal: 261ms\tremaining: 3.13s\n",
      "77:\tlearn: 0.4876098\ttotal: 264ms\tremaining: 3.12s\n",
      "78:\tlearn: 0.4862050\ttotal: 267ms\tremaining: 3.11s\n",
      "79:\tlearn: 0.4850063\ttotal: 268ms\tremaining: 3.09s\n",
      "80:\tlearn: 0.4839806\ttotal: 272ms\tremaining: 3.08s\n",
      "81:\tlearn: 0.4823197\ttotal: 275ms\tremaining: 3.07s\n",
      "82:\tlearn: 0.4806850\ttotal: 278ms\tremaining: 3.08s\n",
      "83:\tlearn: 0.4791040\ttotal: 281ms\tremaining: 3.07s\n",
      "84:\tlearn: 0.4776899\ttotal: 283ms\tremaining: 3.05s\n",
      "85:\tlearn: 0.4760505\ttotal: 286ms\tremaining: 3.04s\n",
      "86:\tlearn: 0.4750202\ttotal: 288ms\tremaining: 3.02s\n",
      "87:\tlearn: 0.4736074\ttotal: 290ms\tremaining: 3s\n",
      "88:\tlearn: 0.4721145\ttotal: 293ms\tremaining: 3s\n",
      "89:\tlearn: 0.4709314\ttotal: 295ms\tremaining: 2.98s\n",
      "90:\tlearn: 0.4693651\ttotal: 297ms\tremaining: 2.96s\n",
      "91:\tlearn: 0.4679810\ttotal: 299ms\tremaining: 2.95s\n",
      "92:\tlearn: 0.4665089\ttotal: 301ms\tremaining: 2.93s\n",
      "93:\tlearn: 0.4650662\ttotal: 303ms\tremaining: 2.92s\n",
      "94:\tlearn: 0.4638027\ttotal: 306ms\tremaining: 2.91s\n",
      "95:\tlearn: 0.4625580\ttotal: 308ms\tremaining: 2.9s\n",
      "96:\tlearn: 0.4611601\ttotal: 310ms\tremaining: 2.88s\n",
      "97:\tlearn: 0.4601908\ttotal: 312ms\tremaining: 2.87s\n",
      "98:\tlearn: 0.4589758\ttotal: 313ms\tremaining: 2.85s\n",
      "99:\tlearn: 0.4579517\ttotal: 315ms\tremaining: 2.84s\n",
      "100:\tlearn: 0.4568376\ttotal: 317ms\tremaining: 2.82s\n",
      "101:\tlearn: 0.4560033\ttotal: 319ms\tremaining: 2.81s\n",
      "102:\tlearn: 0.4550106\ttotal: 321ms\tremaining: 2.8s\n",
      "103:\tlearn: 0.4538100\ttotal: 323ms\tremaining: 2.78s\n",
      "104:\tlearn: 0.4525246\ttotal: 325ms\tremaining: 2.77s\n",
      "105:\tlearn: 0.4516290\ttotal: 327ms\tremaining: 2.76s\n",
      "106:\tlearn: 0.4505692\ttotal: 329ms\tremaining: 2.75s\n",
      "107:\tlearn: 0.4493491\ttotal: 331ms\tremaining: 2.73s\n",
      "108:\tlearn: 0.4484229\ttotal: 333ms\tremaining: 2.72s\n",
      "109:\tlearn: 0.4475237\ttotal: 335ms\tremaining: 2.71s\n",
      "110:\tlearn: 0.4462811\ttotal: 337ms\tremaining: 2.7s\n",
      "111:\tlearn: 0.4455498\ttotal: 339ms\tremaining: 2.69s\n",
      "112:\tlearn: 0.4447490\ttotal: 341ms\tremaining: 2.68s\n",
      "113:\tlearn: 0.4436312\ttotal: 343ms\tremaining: 2.67s\n",
      "114:\tlearn: 0.4426529\ttotal: 345ms\tremaining: 2.65s\n",
      "115:\tlearn: 0.4419532\ttotal: 347ms\tremaining: 2.64s\n",
      "116:\tlearn: 0.4408642\ttotal: 349ms\tremaining: 2.63s\n",
      "117:\tlearn: 0.4400705\ttotal: 351ms\tremaining: 2.62s\n",
      "118:\tlearn: 0.4392703\ttotal: 353ms\tremaining: 2.61s\n",
      "119:\tlearn: 0.4382235\ttotal: 355ms\tremaining: 2.6s\n",
      "120:\tlearn: 0.4373214\ttotal: 357ms\tremaining: 2.6s\n",
      "121:\tlearn: 0.4364590\ttotal: 360ms\tremaining: 2.59s\n",
      "122:\tlearn: 0.4358042\ttotal: 362ms\tremaining: 2.58s\n",
      "123:\tlearn: 0.4346576\ttotal: 364ms\tremaining: 2.57s\n",
      "124:\tlearn: 0.4334821\ttotal: 366ms\tremaining: 2.56s\n",
      "125:\tlearn: 0.4328019\ttotal: 368ms\tremaining: 2.55s\n",
      "126:\tlearn: 0.4319468\ttotal: 369ms\tremaining: 2.54s\n",
      "127:\tlearn: 0.4313707\ttotal: 371ms\tremaining: 2.53s\n",
      "128:\tlearn: 0.4305355\ttotal: 373ms\tremaining: 2.52s\n",
      "129:\tlearn: 0.4298462\ttotal: 375ms\tremaining: 2.51s\n",
      "130:\tlearn: 0.4292290\ttotal: 377ms\tremaining: 2.5s\n",
      "131:\tlearn: 0.4280695\ttotal: 379ms\tremaining: 2.49s\n",
      "132:\tlearn: 0.4270546\ttotal: 381ms\tremaining: 2.48s\n",
      "133:\tlearn: 0.4260827\ttotal: 383ms\tremaining: 2.47s\n",
      "134:\tlearn: 0.4253427\ttotal: 384ms\tremaining: 2.46s\n",
      "135:\tlearn: 0.4245101\ttotal: 386ms\tremaining: 2.45s\n",
      "136:\tlearn: 0.4237595\ttotal: 388ms\tremaining: 2.44s\n",
      "137:\tlearn: 0.4228898\ttotal: 390ms\tremaining: 2.44s\n",
      "138:\tlearn: 0.4221720\ttotal: 392ms\tremaining: 2.43s\n",
      "139:\tlearn: 0.4214328\ttotal: 394ms\tremaining: 2.42s\n",
      "140:\tlearn: 0.4206441\ttotal: 396ms\tremaining: 2.41s\n",
      "141:\tlearn: 0.4194387\ttotal: 397ms\tremaining: 2.4s\n",
      "142:\tlearn: 0.4190300\ttotal: 399ms\tremaining: 2.39s\n",
      "143:\tlearn: 0.4183890\ttotal: 401ms\tremaining: 2.38s\n",
      "144:\tlearn: 0.4178356\ttotal: 403ms\tremaining: 2.38s\n",
      "145:\tlearn: 0.4169107\ttotal: 405ms\tremaining: 2.37s\n",
      "146:\tlearn: 0.4165857\ttotal: 406ms\tremaining: 2.36s\n",
      "147:\tlearn: 0.4157928\ttotal: 408ms\tremaining: 2.35s\n",
      "148:\tlearn: 0.4151702\ttotal: 410ms\tremaining: 2.34s\n",
      "149:\tlearn: 0.4140647\ttotal: 412ms\tremaining: 2.33s\n",
      "150:\tlearn: 0.4134993\ttotal: 414ms\tremaining: 2.33s\n",
      "151:\tlearn: 0.4129717\ttotal: 415ms\tremaining: 2.32s\n",
      "152:\tlearn: 0.4118548\ttotal: 417ms\tremaining: 2.31s\n",
      "153:\tlearn: 0.4111608\ttotal: 420ms\tremaining: 2.31s\n",
      "154:\tlearn: 0.4104780\ttotal: 422ms\tremaining: 2.3s\n",
      "155:\tlearn: 0.4098930\ttotal: 424ms\tremaining: 2.29s\n",
      "156:\tlearn: 0.4089691\ttotal: 426ms\tremaining: 2.29s\n",
      "157:\tlearn: 0.4087054\ttotal: 428ms\tremaining: 2.28s\n",
      "158:\tlearn: 0.4077668\ttotal: 430ms\tremaining: 2.27s\n",
      "159:\tlearn: 0.4072638\ttotal: 431ms\tremaining: 2.26s\n",
      "160:\tlearn: 0.4067148\ttotal: 433ms\tremaining: 2.26s\n",
      "161:\tlearn: 0.4060385\ttotal: 436ms\tremaining: 2.25s\n",
      "162:\tlearn: 0.4055288\ttotal: 438ms\tremaining: 2.25s\n",
      "163:\tlearn: 0.4047306\ttotal: 439ms\tremaining: 2.24s\n",
      "164:\tlearn: 0.4037789\ttotal: 441ms\tremaining: 2.23s\n",
      "165:\tlearn: 0.4031834\ttotal: 443ms\tremaining: 2.23s\n",
      "166:\tlearn: 0.4026181\ttotal: 445ms\tremaining: 2.22s\n",
      "167:\tlearn: 0.4019249\ttotal: 447ms\tremaining: 2.21s\n",
      "168:\tlearn: 0.4011902\ttotal: 449ms\tremaining: 2.21s\n",
      "169:\tlearn: 0.4004675\ttotal: 451ms\tremaining: 2.2s\n",
      "170:\tlearn: 0.3998937\ttotal: 452ms\tremaining: 2.19s\n",
      "171:\tlearn: 0.3990494\ttotal: 454ms\tremaining: 2.19s\n",
      "172:\tlearn: 0.3984273\ttotal: 456ms\tremaining: 2.18s\n",
      "173:\tlearn: 0.3978255\ttotal: 458ms\tremaining: 2.17s\n",
      "174:\tlearn: 0.3969608\ttotal: 460ms\tremaining: 2.17s\n",
      "175:\tlearn: 0.3965716\ttotal: 461ms\tremaining: 2.16s\n",
      "176:\tlearn: 0.3958000\ttotal: 463ms\tremaining: 2.15s\n",
      "177:\tlearn: 0.3950526\ttotal: 465ms\tremaining: 2.15s\n",
      "178:\tlearn: 0.3943012\ttotal: 467ms\tremaining: 2.14s\n",
      "179:\tlearn: 0.3936510\ttotal: 469ms\tremaining: 2.14s\n",
      "180:\tlearn: 0.3931304\ttotal: 471ms\tremaining: 2.13s\n",
      "181:\tlearn: 0.3922809\ttotal: 473ms\tremaining: 2.12s\n",
      "182:\tlearn: 0.3916910\ttotal: 474ms\tremaining: 2.12s\n",
      "183:\tlearn: 0.3911177\ttotal: 476ms\tremaining: 2.11s\n",
      "184:\tlearn: 0.3902377\ttotal: 478ms\tremaining: 2.11s\n",
      "185:\tlearn: 0.3896318\ttotal: 480ms\tremaining: 2.1s\n",
      "186:\tlearn: 0.3889018\ttotal: 482ms\tremaining: 2.09s\n",
      "187:\tlearn: 0.3884345\ttotal: 483ms\tremaining: 2.09s\n",
      "188:\tlearn: 0.3880162\ttotal: 485ms\tremaining: 2.08s\n",
      "189:\tlearn: 0.3873354\ttotal: 487ms\tremaining: 2.08s\n"
     ]
    },
    {
     "name": "stdout",
     "output_type": "stream",
     "text": [
      "190:\tlearn: 0.3865013\ttotal: 489ms\tremaining: 2.07s\n",
      "191:\tlearn: 0.3858420\ttotal: 492ms\tremaining: 2.07s\n",
      "192:\tlearn: 0.3851892\ttotal: 494ms\tremaining: 2.07s\n",
      "193:\tlearn: 0.3846598\ttotal: 496ms\tremaining: 2.06s\n",
      "194:\tlearn: 0.3840737\ttotal: 498ms\tremaining: 2.06s\n",
      "195:\tlearn: 0.3837046\ttotal: 500ms\tremaining: 2.05s\n",
      "196:\tlearn: 0.3832085\ttotal: 502ms\tremaining: 2.04s\n",
      "197:\tlearn: 0.3827921\ttotal: 504ms\tremaining: 2.04s\n",
      "198:\tlearn: 0.3823105\ttotal: 506ms\tremaining: 2.03s\n",
      "199:\tlearn: 0.3818350\ttotal: 508ms\tremaining: 2.03s\n",
      "200:\tlearn: 0.3815497\ttotal: 509ms\tremaining: 2.02s\n",
      "201:\tlearn: 0.3809861\ttotal: 511ms\tremaining: 2.02s\n",
      "202:\tlearn: 0.3805201\ttotal: 514ms\tremaining: 2.02s\n",
      "203:\tlearn: 0.3800554\ttotal: 516ms\tremaining: 2.01s\n",
      "204:\tlearn: 0.3796176\ttotal: 519ms\tremaining: 2.01s\n",
      "205:\tlearn: 0.3791170\ttotal: 521ms\tremaining: 2.01s\n",
      "206:\tlearn: 0.3783718\ttotal: 524ms\tremaining: 2.01s\n",
      "207:\tlearn: 0.3780501\ttotal: 526ms\tremaining: 2s\n",
      "208:\tlearn: 0.3773893\ttotal: 528ms\tremaining: 2s\n",
      "209:\tlearn: 0.3766736\ttotal: 530ms\tremaining: 1.99s\n",
      "210:\tlearn: 0.3762009\ttotal: 532ms\tremaining: 1.99s\n",
      "211:\tlearn: 0.3754611\ttotal: 534ms\tremaining: 1.98s\n",
      "212:\tlearn: 0.3750611\ttotal: 536ms\tremaining: 1.98s\n",
      "213:\tlearn: 0.3744271\ttotal: 538ms\tremaining: 1.98s\n",
      "214:\tlearn: 0.3738456\ttotal: 541ms\tremaining: 1.97s\n",
      "215:\tlearn: 0.3730705\ttotal: 543ms\tremaining: 1.97s\n",
      "216:\tlearn: 0.3725167\ttotal: 544ms\tremaining: 1.96s\n",
      "217:\tlearn: 0.3718862\ttotal: 546ms\tremaining: 1.96s\n",
      "218:\tlearn: 0.3714487\ttotal: 548ms\tremaining: 1.96s\n",
      "219:\tlearn: 0.3709871\ttotal: 550ms\tremaining: 1.95s\n",
      "220:\tlearn: 0.3707378\ttotal: 552ms\tremaining: 1.95s\n",
      "221:\tlearn: 0.3704158\ttotal: 555ms\tremaining: 1.94s\n",
      "222:\tlearn: 0.3699811\ttotal: 556ms\tremaining: 1.94s\n",
      "223:\tlearn: 0.3695598\ttotal: 558ms\tremaining: 1.93s\n",
      "224:\tlearn: 0.3689447\ttotal: 561ms\tremaining: 1.93s\n",
      "225:\tlearn: 0.3685225\ttotal: 563ms\tremaining: 1.93s\n",
      "226:\tlearn: 0.3680421\ttotal: 565ms\tremaining: 1.92s\n",
      "227:\tlearn: 0.3676042\ttotal: 567ms\tremaining: 1.92s\n",
      "228:\tlearn: 0.3671906\ttotal: 570ms\tremaining: 1.92s\n",
      "229:\tlearn: 0.3668212\ttotal: 572ms\tremaining: 1.91s\n",
      "230:\tlearn: 0.3663692\ttotal: 573ms\tremaining: 1.91s\n",
      "231:\tlearn: 0.3659467\ttotal: 575ms\tremaining: 1.9s\n",
      "232:\tlearn: 0.3655393\ttotal: 577ms\tremaining: 1.9s\n",
      "233:\tlearn: 0.3651726\ttotal: 580ms\tremaining: 1.9s\n",
      "234:\tlearn: 0.3647837\ttotal: 582ms\tremaining: 1.89s\n",
      "235:\tlearn: 0.3641776\ttotal: 583ms\tremaining: 1.89s\n",
      "236:\tlearn: 0.3638442\ttotal: 585ms\tremaining: 1.88s\n",
      "237:\tlearn: 0.3635195\ttotal: 587ms\tremaining: 1.88s\n",
      "238:\tlearn: 0.3631796\ttotal: 589ms\tremaining: 1.88s\n",
      "239:\tlearn: 0.3626676\ttotal: 591ms\tremaining: 1.87s\n",
      "240:\tlearn: 0.3622121\ttotal: 593ms\tremaining: 1.87s\n",
      "241:\tlearn: 0.3619048\ttotal: 595ms\tremaining: 1.86s\n",
      "242:\tlearn: 0.3615063\ttotal: 597ms\tremaining: 1.86s\n",
      "243:\tlearn: 0.3612841\ttotal: 599ms\tremaining: 1.85s\n",
      "244:\tlearn: 0.3609073\ttotal: 601ms\tremaining: 1.85s\n",
      "245:\tlearn: 0.3604078\ttotal: 602ms\tremaining: 1.85s\n",
      "246:\tlearn: 0.3599520\ttotal: 604ms\tremaining: 1.84s\n",
      "247:\tlearn: 0.3595811\ttotal: 606ms\tremaining: 1.84s\n",
      "248:\tlearn: 0.3591317\ttotal: 608ms\tremaining: 1.83s\n",
      "249:\tlearn: 0.3588479\ttotal: 610ms\tremaining: 1.83s\n",
      "250:\tlearn: 0.3583543\ttotal: 612ms\tremaining: 1.82s\n",
      "251:\tlearn: 0.3581791\ttotal: 614ms\tremaining: 1.82s\n",
      "252:\tlearn: 0.3578163\ttotal: 615ms\tremaining: 1.82s\n",
      "253:\tlearn: 0.3575379\ttotal: 617ms\tremaining: 1.81s\n",
      "254:\tlearn: 0.3572027\ttotal: 619ms\tremaining: 1.81s\n",
      "255:\tlearn: 0.3567982\ttotal: 621ms\tremaining: 1.8s\n",
      "256:\tlearn: 0.3562229\ttotal: 623ms\tremaining: 1.8s\n",
      "257:\tlearn: 0.3558689\ttotal: 625ms\tremaining: 1.8s\n",
      "258:\tlearn: 0.3551774\ttotal: 627ms\tremaining: 1.79s\n",
      "259:\tlearn: 0.3548640\ttotal: 629ms\tremaining: 1.79s\n",
      "260:\tlearn: 0.3544581\ttotal: 631ms\tremaining: 1.79s\n",
      "261:\tlearn: 0.3540613\ttotal: 633ms\tremaining: 1.78s\n",
      "262:\tlearn: 0.3538128\ttotal: 636ms\tremaining: 1.78s\n",
      "263:\tlearn: 0.3532543\ttotal: 639ms\tremaining: 1.78s\n",
      "264:\tlearn: 0.3528296\ttotal: 641ms\tremaining: 1.78s\n",
      "265:\tlearn: 0.3524755\ttotal: 643ms\tremaining: 1.77s\n",
      "266:\tlearn: 0.3521389\ttotal: 645ms\tremaining: 1.77s\n",
      "267:\tlearn: 0.3518051\ttotal: 647ms\tremaining: 1.77s\n",
      "268:\tlearn: 0.3513371\ttotal: 649ms\tremaining: 1.76s\n",
      "269:\tlearn: 0.3509465\ttotal: 652ms\tremaining: 1.76s\n",
      "270:\tlearn: 0.3506477\ttotal: 654ms\tremaining: 1.76s\n",
      "271:\tlearn: 0.3502686\ttotal: 656ms\tremaining: 1.75s\n",
      "272:\tlearn: 0.3499996\ttotal: 658ms\tremaining: 1.75s\n",
      "273:\tlearn: 0.3494654\ttotal: 659ms\tremaining: 1.75s\n",
      "274:\tlearn: 0.3490672\ttotal: 661ms\tremaining: 1.74s\n",
      "275:\tlearn: 0.3487140\ttotal: 663ms\tremaining: 1.74s\n",
      "276:\tlearn: 0.3483148\ttotal: 665ms\tremaining: 1.74s\n",
      "277:\tlearn: 0.3479376\ttotal: 667ms\tremaining: 1.73s\n",
      "278:\tlearn: 0.3476559\ttotal: 669ms\tremaining: 1.73s\n",
      "279:\tlearn: 0.3475056\ttotal: 670ms\tremaining: 1.72s\n",
      "280:\tlearn: 0.3470299\ttotal: 672ms\tremaining: 1.72s\n",
      "281:\tlearn: 0.3465974\ttotal: 674ms\tremaining: 1.72s\n",
      "282:\tlearn: 0.3457104\ttotal: 676ms\tremaining: 1.71s\n",
      "283:\tlearn: 0.3453699\ttotal: 679ms\tremaining: 1.71s\n",
      "284:\tlearn: 0.3449194\ttotal: 681ms\tremaining: 1.71s\n",
      "285:\tlearn: 0.3445781\ttotal: 684ms\tremaining: 1.71s\n",
      "286:\tlearn: 0.3442549\ttotal: 686ms\tremaining: 1.7s\n",
      "287:\tlearn: 0.3436732\ttotal: 689ms\tremaining: 1.7s\n",
      "288:\tlearn: 0.3431971\ttotal: 691ms\tremaining: 1.7s\n",
      "289:\tlearn: 0.3430385\ttotal: 693ms\tremaining: 1.7s\n",
      "290:\tlearn: 0.3426125\ttotal: 695ms\tremaining: 1.69s\n",
      "291:\tlearn: 0.3423901\ttotal: 697ms\tremaining: 1.69s\n",
      "292:\tlearn: 0.3418502\ttotal: 700ms\tremaining: 1.69s\n",
      "293:\tlearn: 0.3413629\ttotal: 702ms\tremaining: 1.69s\n",
      "294:\tlearn: 0.3410155\ttotal: 704ms\tremaining: 1.68s\n",
      "295:\tlearn: 0.3406270\ttotal: 706ms\tremaining: 1.68s\n",
      "296:\tlearn: 0.3403616\ttotal: 709ms\tremaining: 1.68s\n",
      "297:\tlearn: 0.3400305\ttotal: 711ms\tremaining: 1.67s\n",
      "298:\tlearn: 0.3397938\ttotal: 713ms\tremaining: 1.67s\n",
      "299:\tlearn: 0.3395162\ttotal: 715ms\tremaining: 1.67s\n",
      "300:\tlearn: 0.3391135\ttotal: 717ms\tremaining: 1.66s\n",
      "301:\tlearn: 0.3387590\ttotal: 719ms\tremaining: 1.66s\n",
      "302:\tlearn: 0.3383585\ttotal: 721ms\tremaining: 1.66s\n",
      "303:\tlearn: 0.3379814\ttotal: 724ms\tremaining: 1.66s\n",
      "304:\tlearn: 0.3375277\ttotal: 726ms\tremaining: 1.65s\n",
      "305:\tlearn: 0.3372477\ttotal: 728ms\tremaining: 1.65s\n",
      "306:\tlearn: 0.3369210\ttotal: 730ms\tremaining: 1.65s\n",
      "307:\tlearn: 0.3367762\ttotal: 732ms\tremaining: 1.64s\n",
      "308:\tlearn: 0.3363929\ttotal: 734ms\tremaining: 1.64s\n",
      "309:\tlearn: 0.3361404\ttotal: 737ms\tremaining: 1.64s\n",
      "310:\tlearn: 0.3358016\ttotal: 739ms\tremaining: 1.64s\n",
      "311:\tlearn: 0.3354371\ttotal: 742ms\tremaining: 1.64s\n",
      "312:\tlearn: 0.3351281\ttotal: 743ms\tremaining: 1.63s\n",
      "313:\tlearn: 0.3349342\ttotal: 745ms\tremaining: 1.63s\n",
      "314:\tlearn: 0.3345681\ttotal: 747ms\tremaining: 1.62s\n",
      "315:\tlearn: 0.3341835\ttotal: 749ms\tremaining: 1.62s\n",
      "316:\tlearn: 0.3339848\ttotal: 752ms\tremaining: 1.62s\n",
      "317:\tlearn: 0.3334631\ttotal: 754ms\tremaining: 1.62s\n",
      "318:\tlearn: 0.3333090\ttotal: 756ms\tremaining: 1.61s\n",
      "319:\tlearn: 0.3331853\ttotal: 758ms\tremaining: 1.61s\n",
      "320:\tlearn: 0.3329144\ttotal: 760ms\tremaining: 1.61s\n",
      "321:\tlearn: 0.3325655\ttotal: 762ms\tremaining: 1.6s\n",
      "322:\tlearn: 0.3323911\ttotal: 764ms\tremaining: 1.6s\n",
      "323:\tlearn: 0.3321008\ttotal: 766ms\tremaining: 1.6s\n",
      "324:\tlearn: 0.3318429\ttotal: 768ms\tremaining: 1.59s\n",
      "325:\tlearn: 0.3313364\ttotal: 770ms\tremaining: 1.59s\n",
      "326:\tlearn: 0.3311141\ttotal: 772ms\tremaining: 1.59s\n",
      "327:\tlearn: 0.3306946\ttotal: 774ms\tremaining: 1.58s\n",
      "328:\tlearn: 0.3303195\ttotal: 776ms\tremaining: 1.58s\n",
      "329:\tlearn: 0.3299492\ttotal: 778ms\tremaining: 1.58s\n",
      "330:\tlearn: 0.3296295\ttotal: 780ms\tremaining: 1.58s\n",
      "331:\tlearn: 0.3292299\ttotal: 782ms\tremaining: 1.57s\n",
      "332:\tlearn: 0.3288012\ttotal: 784ms\tremaining: 1.57s\n",
      "333:\tlearn: 0.3284230\ttotal: 786ms\tremaining: 1.57s\n",
      "334:\tlearn: 0.3281356\ttotal: 788ms\tremaining: 1.56s\n",
      "335:\tlearn: 0.3278105\ttotal: 790ms\tremaining: 1.56s\n",
      "336:\tlearn: 0.3275766\ttotal: 793ms\tremaining: 1.56s\n",
      "337:\tlearn: 0.3272361\ttotal: 795ms\tremaining: 1.56s\n",
      "338:\tlearn: 0.3271448\ttotal: 797ms\tremaining: 1.55s\n",
      "339:\tlearn: 0.3270027\ttotal: 799ms\tremaining: 1.55s\n",
      "340:\tlearn: 0.3264515\ttotal: 801ms\tremaining: 1.55s\n",
      "341:\tlearn: 0.3261568\ttotal: 803ms\tremaining: 1.54s\n",
      "342:\tlearn: 0.3259076\ttotal: 804ms\tremaining: 1.54s\n",
      "343:\tlearn: 0.3257816\ttotal: 807ms\tremaining: 1.54s\n",
      "344:\tlearn: 0.3253372\ttotal: 810ms\tremaining: 1.54s\n",
      "345:\tlearn: 0.3249546\ttotal: 812ms\tremaining: 1.53s\n",
      "346:\tlearn: 0.3247155\ttotal: 814ms\tremaining: 1.53s\n",
      "347:\tlearn: 0.3242784\ttotal: 816ms\tremaining: 1.53s\n",
      "348:\tlearn: 0.3240593\ttotal: 818ms\tremaining: 1.53s\n",
      "349:\tlearn: 0.3236125\ttotal: 820ms\tremaining: 1.52s\n",
      "350:\tlearn: 0.3233139\ttotal: 823ms\tremaining: 1.52s\n",
      "351:\tlearn: 0.3230584\ttotal: 825ms\tremaining: 1.52s\n",
      "352:\tlearn: 0.3227589\ttotal: 827ms\tremaining: 1.51s\n",
      "353:\tlearn: 0.3226484\ttotal: 829ms\tremaining: 1.51s\n",
      "354:\tlearn: 0.3224708\ttotal: 831ms\tremaining: 1.51s\n",
      "355:\tlearn: 0.3222481\ttotal: 833ms\tremaining: 1.51s\n",
      "356:\tlearn: 0.3220751\ttotal: 835ms\tremaining: 1.5s\n",
      "357:\tlearn: 0.3217743\ttotal: 837ms\tremaining: 1.5s\n",
      "358:\tlearn: 0.3215696\ttotal: 839ms\tremaining: 1.5s\n",
      "359:\tlearn: 0.3213855\ttotal: 841ms\tremaining: 1.5s\n",
      "360:\tlearn: 0.3210040\ttotal: 843ms\tremaining: 1.49s\n",
      "361:\tlearn: 0.3206377\ttotal: 845ms\tremaining: 1.49s\n",
      "362:\tlearn: 0.3203844\ttotal: 847ms\tremaining: 1.49s\n",
      "363:\tlearn: 0.3199615\ttotal: 851ms\tremaining: 1.49s\n",
      "364:\tlearn: 0.3196000\ttotal: 853ms\tremaining: 1.48s\n",
      "365:\tlearn: 0.3192366\ttotal: 856ms\tremaining: 1.48s\n",
      "366:\tlearn: 0.3189433\ttotal: 858ms\tremaining: 1.48s\n",
      "367:\tlearn: 0.3187596\ttotal: 860ms\tremaining: 1.48s\n",
      "368:\tlearn: 0.3183334\ttotal: 862ms\tremaining: 1.47s\n",
      "369:\tlearn: 0.3181075\ttotal: 865ms\tremaining: 1.47s\n",
      "370:\tlearn: 0.3179868\ttotal: 867ms\tremaining: 1.47s\n",
      "371:\tlearn: 0.3177287\ttotal: 870ms\tremaining: 1.47s\n",
      "372:\tlearn: 0.3174213\ttotal: 872ms\tremaining: 1.47s\n",
      "373:\tlearn: 0.3173105\ttotal: 873ms\tremaining: 1.46s\n",
      "374:\tlearn: 0.3169930\ttotal: 875ms\tremaining: 1.46s\n",
      "375:\tlearn: 0.3167770\ttotal: 878ms\tremaining: 1.46s\n",
      "376:\tlearn: 0.3164586\ttotal: 880ms\tremaining: 1.45s\n",
      "377:\tlearn: 0.3162964\ttotal: 882ms\tremaining: 1.45s\n",
      "378:\tlearn: 0.3157005\ttotal: 884ms\tremaining: 1.45s\n",
      "379:\tlearn: 0.3154507\ttotal: 886ms\tremaining: 1.45s\n",
      "380:\tlearn: 0.3150930\ttotal: 888ms\tremaining: 1.44s\n",
      "381:\tlearn: 0.3147706\ttotal: 889ms\tremaining: 1.44s\n",
      "382:\tlearn: 0.3143755\ttotal: 892ms\tremaining: 1.44s\n",
      "383:\tlearn: 0.3139819\ttotal: 894ms\tremaining: 1.43s\n",
      "384:\tlearn: 0.3136702\ttotal: 896ms\tremaining: 1.43s\n",
      "385:\tlearn: 0.3134343\ttotal: 897ms\tremaining: 1.43s\n",
      "386:\tlearn: 0.3133741\ttotal: 899ms\tremaining: 1.42s\n",
      "387:\tlearn: 0.3130709\ttotal: 901ms\tremaining: 1.42s\n",
      "388:\tlearn: 0.3128360\ttotal: 902ms\tremaining: 1.42s\n",
      "389:\tlearn: 0.3124279\ttotal: 904ms\tremaining: 1.41s\n",
      "390:\tlearn: 0.3121571\ttotal: 906ms\tremaining: 1.41s\n",
      "391:\tlearn: 0.3118727\ttotal: 908ms\tremaining: 1.41s\n",
      "392:\tlearn: 0.3117433\ttotal: 910ms\tremaining: 1.41s\n",
      "393:\tlearn: 0.3113093\ttotal: 912ms\tremaining: 1.4s\n",
      "394:\tlearn: 0.3111498\ttotal: 914ms\tremaining: 1.4s\n",
      "395:\tlearn: 0.3108884\ttotal: 915ms\tremaining: 1.4s\n",
      "396:\tlearn: 0.3106935\ttotal: 917ms\tremaining: 1.39s\n",
      "397:\tlearn: 0.3104544\ttotal: 919ms\tremaining: 1.39s\n",
      "398:\tlearn: 0.3100203\ttotal: 921ms\tremaining: 1.39s\n",
      "399:\tlearn: 0.3097922\ttotal: 923ms\tremaining: 1.38s\n",
      "400:\tlearn: 0.3093006\ttotal: 924ms\tremaining: 1.38s\n",
      "401:\tlearn: 0.3090082\ttotal: 926ms\tremaining: 1.38s\n",
      "402:\tlearn: 0.3086350\ttotal: 928ms\tremaining: 1.38s\n",
      "403:\tlearn: 0.3085525\ttotal: 930ms\tremaining: 1.37s\n",
      "404:\tlearn: 0.3082926\ttotal: 931ms\tremaining: 1.37s\n",
      "405:\tlearn: 0.3079534\ttotal: 933ms\tremaining: 1.36s\n",
      "406:\tlearn: 0.3077615\ttotal: 935ms\tremaining: 1.36s\n",
      "407:\tlearn: 0.3076204\ttotal: 937ms\tremaining: 1.36s\n",
      "408:\tlearn: 0.3073705\ttotal: 939ms\tremaining: 1.36s\n",
      "409:\tlearn: 0.3072051\ttotal: 940ms\tremaining: 1.35s\n",
      "410:\tlearn: 0.3069296\ttotal: 942ms\tremaining: 1.35s\n",
      "411:\tlearn: 0.3067305\ttotal: 944ms\tremaining: 1.35s\n",
      "412:\tlearn: 0.3064667\ttotal: 946ms\tremaining: 1.34s\n",
      "413:\tlearn: 0.3062177\ttotal: 948ms\tremaining: 1.34s\n",
      "414:\tlearn: 0.3059366\ttotal: 949ms\tremaining: 1.34s\n",
      "415:\tlearn: 0.3057826\ttotal: 951ms\tremaining: 1.33s\n",
      "416:\tlearn: 0.3053670\ttotal: 953ms\tremaining: 1.33s\n",
      "417:\tlearn: 0.3052102\ttotal: 955ms\tremaining: 1.33s\n",
      "418:\tlearn: 0.3048241\ttotal: 956ms\tremaining: 1.33s\n",
      "419:\tlearn: 0.3043941\ttotal: 958ms\tremaining: 1.32s\n",
      "420:\tlearn: 0.3042906\ttotal: 960ms\tremaining: 1.32s\n",
      "421:\tlearn: 0.3042106\ttotal: 962ms\tremaining: 1.32s\n",
      "422:\tlearn: 0.3039127\ttotal: 964ms\tremaining: 1.31s\n",
      "423:\tlearn: 0.3036822\ttotal: 966ms\tremaining: 1.31s\n",
      "424:\tlearn: 0.3032348\ttotal: 968ms\tremaining: 1.31s\n",
      "425:\tlearn: 0.3030739\ttotal: 969ms\tremaining: 1.31s\n"
     ]
    },
    {
     "name": "stdout",
     "output_type": "stream",
     "text": [
      "426:\tlearn: 0.3027756\ttotal: 972ms\tremaining: 1.3s\n",
      "427:\tlearn: 0.3025508\ttotal: 974ms\tremaining: 1.3s\n",
      "428:\tlearn: 0.3022920\ttotal: 976ms\tremaining: 1.3s\n",
      "429:\tlearn: 0.3020336\ttotal: 977ms\tremaining: 1.29s\n",
      "430:\tlearn: 0.3018311\ttotal: 979ms\tremaining: 1.29s\n",
      "431:\tlearn: 0.3016490\ttotal: 981ms\tremaining: 1.29s\n",
      "432:\tlearn: 0.3014655\ttotal: 983ms\tremaining: 1.29s\n",
      "433:\tlearn: 0.3011402\ttotal: 985ms\tremaining: 1.28s\n",
      "434:\tlearn: 0.3008430\ttotal: 987ms\tremaining: 1.28s\n",
      "435:\tlearn: 0.3005948\ttotal: 989ms\tremaining: 1.28s\n",
      "436:\tlearn: 0.3003246\ttotal: 991ms\tremaining: 1.28s\n",
      "437:\tlearn: 0.2998332\ttotal: 994ms\tremaining: 1.27s\n",
      "438:\tlearn: 0.2995628\ttotal: 996ms\tremaining: 1.27s\n",
      "439:\tlearn: 0.2993476\ttotal: 998ms\tremaining: 1.27s\n",
      "440:\tlearn: 0.2992118\ttotal: 1s\tremaining: 1.27s\n",
      "441:\tlearn: 0.2989786\ttotal: 1s\tremaining: 1.26s\n",
      "442:\tlearn: 0.2987332\ttotal: 1s\tremaining: 1.26s\n",
      "443:\tlearn: 0.2983521\ttotal: 1.01s\tremaining: 1.26s\n",
      "444:\tlearn: 0.2981144\ttotal: 1.01s\tremaining: 1.26s\n",
      "445:\tlearn: 0.2979409\ttotal: 1.01s\tremaining: 1.25s\n",
      "446:\tlearn: 0.2976007\ttotal: 1.01s\tremaining: 1.25s\n",
      "447:\tlearn: 0.2974376\ttotal: 1.01s\tremaining: 1.25s\n",
      "448:\tlearn: 0.2971482\ttotal: 1.02s\tremaining: 1.25s\n",
      "449:\tlearn: 0.2970532\ttotal: 1.02s\tremaining: 1.24s\n",
      "450:\tlearn: 0.2968756\ttotal: 1.02s\tremaining: 1.24s\n",
      "451:\tlearn: 0.2966521\ttotal: 1.02s\tremaining: 1.24s\n",
      "452:\tlearn: 0.2963392\ttotal: 1.02s\tremaining: 1.24s\n",
      "453:\tlearn: 0.2962526\ttotal: 1.02s\tremaining: 1.23s\n",
      "454:\tlearn: 0.2959383\ttotal: 1.03s\tremaining: 1.23s\n",
      "455:\tlearn: 0.2957414\ttotal: 1.03s\tremaining: 1.23s\n",
      "456:\tlearn: 0.2954628\ttotal: 1.03s\tremaining: 1.22s\n",
      "457:\tlearn: 0.2951344\ttotal: 1.03s\tremaining: 1.22s\n",
      "458:\tlearn: 0.2949065\ttotal: 1.03s\tremaining: 1.22s\n",
      "459:\tlearn: 0.2948312\ttotal: 1.03s\tremaining: 1.22s\n",
      "460:\tlearn: 0.2946606\ttotal: 1.04s\tremaining: 1.21s\n",
      "461:\tlearn: 0.2944450\ttotal: 1.04s\tremaining: 1.21s\n",
      "462:\tlearn: 0.2942192\ttotal: 1.04s\tremaining: 1.21s\n",
      "463:\tlearn: 0.2940629\ttotal: 1.04s\tremaining: 1.2s\n",
      "464:\tlearn: 0.2936862\ttotal: 1.04s\tremaining: 1.2s\n",
      "465:\tlearn: 0.2934564\ttotal: 1.05s\tremaining: 1.2s\n",
      "466:\tlearn: 0.2931260\ttotal: 1.05s\tremaining: 1.2s\n",
      "467:\tlearn: 0.2927964\ttotal: 1.05s\tremaining: 1.19s\n",
      "468:\tlearn: 0.2926018\ttotal: 1.05s\tremaining: 1.19s\n",
      "469:\tlearn: 0.2923854\ttotal: 1.05s\tremaining: 1.19s\n",
      "470:\tlearn: 0.2921834\ttotal: 1.05s\tremaining: 1.19s\n",
      "471:\tlearn: 0.2919782\ttotal: 1.06s\tremaining: 1.18s\n",
      "472:\tlearn: 0.2917113\ttotal: 1.06s\tremaining: 1.18s\n",
      "473:\tlearn: 0.2912696\ttotal: 1.06s\tremaining: 1.18s\n",
      "474:\tlearn: 0.2910249\ttotal: 1.06s\tremaining: 1.17s\n",
      "475:\tlearn: 0.2907673\ttotal: 1.06s\tremaining: 1.17s\n",
      "476:\tlearn: 0.2904237\ttotal: 1.07s\tremaining: 1.17s\n",
      "477:\tlearn: 0.2902551\ttotal: 1.07s\tremaining: 1.17s\n",
      "478:\tlearn: 0.2899177\ttotal: 1.07s\tremaining: 1.17s\n",
      "479:\tlearn: 0.2897175\ttotal: 1.07s\tremaining: 1.16s\n",
      "480:\tlearn: 0.2896110\ttotal: 1.07s\tremaining: 1.16s\n",
      "481:\tlearn: 0.2892980\ttotal: 1.08s\tremaining: 1.16s\n",
      "482:\tlearn: 0.2889870\ttotal: 1.08s\tremaining: 1.15s\n",
      "483:\tlearn: 0.2887236\ttotal: 1.08s\tremaining: 1.15s\n",
      "484:\tlearn: 0.2885040\ttotal: 1.08s\tremaining: 1.15s\n",
      "485:\tlearn: 0.2881886\ttotal: 1.08s\tremaining: 1.15s\n",
      "486:\tlearn: 0.2880321\ttotal: 1.09s\tremaining: 1.14s\n",
      "487:\tlearn: 0.2877498\ttotal: 1.09s\tremaining: 1.14s\n",
      "488:\tlearn: 0.2874975\ttotal: 1.09s\tremaining: 1.14s\n",
      "489:\tlearn: 0.2870005\ttotal: 1.09s\tremaining: 1.14s\n",
      "490:\tlearn: 0.2867773\ttotal: 1.09s\tremaining: 1.13s\n",
      "491:\tlearn: 0.2866602\ttotal: 1.1s\tremaining: 1.13s\n",
      "492:\tlearn: 0.2864573\ttotal: 1.1s\tremaining: 1.13s\n",
      "493:\tlearn: 0.2862369\ttotal: 1.1s\tremaining: 1.13s\n",
      "494:\tlearn: 0.2860048\ttotal: 1.1s\tremaining: 1.13s\n",
      "495:\tlearn: 0.2858847\ttotal: 1.1s\tremaining: 1.12s\n",
      "496:\tlearn: 0.2856706\ttotal: 1.11s\tremaining: 1.12s\n",
      "497:\tlearn: 0.2853657\ttotal: 1.11s\tremaining: 1.12s\n",
      "498:\tlearn: 0.2851930\ttotal: 1.11s\tremaining: 1.12s\n",
      "499:\tlearn: 0.2848883\ttotal: 1.11s\tremaining: 1.11s\n",
      "500:\tlearn: 0.2847668\ttotal: 1.12s\tremaining: 1.11s\n",
      "501:\tlearn: 0.2846362\ttotal: 1.12s\tremaining: 1.11s\n",
      "502:\tlearn: 0.2843093\ttotal: 1.12s\tremaining: 1.11s\n",
      "503:\tlearn: 0.2841273\ttotal: 1.12s\tremaining: 1.1s\n",
      "504:\tlearn: 0.2839508\ttotal: 1.13s\tremaining: 1.1s\n",
      "505:\tlearn: 0.2838791\ttotal: 1.13s\tremaining: 1.1s\n",
      "506:\tlearn: 0.2835382\ttotal: 1.13s\tremaining: 1.1s\n",
      "507:\tlearn: 0.2832336\ttotal: 1.13s\tremaining: 1.1s\n",
      "508:\tlearn: 0.2830058\ttotal: 1.14s\tremaining: 1.09s\n",
      "509:\tlearn: 0.2828549\ttotal: 1.14s\tremaining: 1.09s\n",
      "510:\tlearn: 0.2826536\ttotal: 1.14s\tremaining: 1.09s\n",
      "511:\tlearn: 0.2821348\ttotal: 1.14s\tremaining: 1.09s\n",
      "512:\tlearn: 0.2817643\ttotal: 1.15s\tremaining: 1.09s\n",
      "513:\tlearn: 0.2817056\ttotal: 1.15s\tremaining: 1.08s\n",
      "514:\tlearn: 0.2815301\ttotal: 1.15s\tremaining: 1.08s\n",
      "515:\tlearn: 0.2812127\ttotal: 1.15s\tremaining: 1.08s\n",
      "516:\tlearn: 0.2811157\ttotal: 1.15s\tremaining: 1.08s\n",
      "517:\tlearn: 0.2810220\ttotal: 1.16s\tremaining: 1.07s\n",
      "518:\tlearn: 0.2808123\ttotal: 1.16s\tremaining: 1.07s\n",
      "519:\tlearn: 0.2804794\ttotal: 1.16s\tremaining: 1.07s\n",
      "520:\tlearn: 0.2802338\ttotal: 1.16s\tremaining: 1.07s\n",
      "521:\tlearn: 0.2800138\ttotal: 1.16s\tremaining: 1.07s\n",
      "522:\tlearn: 0.2798458\ttotal: 1.17s\tremaining: 1.06s\n",
      "523:\tlearn: 0.2795009\ttotal: 1.17s\tremaining: 1.06s\n",
      "524:\tlearn: 0.2792134\ttotal: 1.17s\tremaining: 1.06s\n",
      "525:\tlearn: 0.2789277\ttotal: 1.17s\tremaining: 1.06s\n",
      "526:\tlearn: 0.2787092\ttotal: 1.18s\tremaining: 1.06s\n",
      "527:\tlearn: 0.2785171\ttotal: 1.18s\tremaining: 1.05s\n",
      "528:\tlearn: 0.2782431\ttotal: 1.18s\tremaining: 1.05s\n",
      "529:\tlearn: 0.2780792\ttotal: 1.18s\tremaining: 1.05s\n",
      "530:\tlearn: 0.2778468\ttotal: 1.19s\tremaining: 1.05s\n",
      "531:\tlearn: 0.2776214\ttotal: 1.19s\tremaining: 1.04s\n",
      "532:\tlearn: 0.2775225\ttotal: 1.19s\tremaining: 1.04s\n",
      "533:\tlearn: 0.2772761\ttotal: 1.19s\tremaining: 1.04s\n",
      "534:\tlearn: 0.2770526\ttotal: 1.19s\tremaining: 1.04s\n",
      "535:\tlearn: 0.2768688\ttotal: 1.2s\tremaining: 1.04s\n",
      "536:\tlearn: 0.2767198\ttotal: 1.2s\tremaining: 1.03s\n",
      "537:\tlearn: 0.2763635\ttotal: 1.2s\tremaining: 1.03s\n",
      "538:\tlearn: 0.2761839\ttotal: 1.2s\tremaining: 1.03s\n",
      "539:\tlearn: 0.2760329\ttotal: 1.21s\tremaining: 1.03s\n",
      "540:\tlearn: 0.2758814\ttotal: 1.21s\tremaining: 1.02s\n",
      "541:\tlearn: 0.2756554\ttotal: 1.21s\tremaining: 1.02s\n",
      "542:\tlearn: 0.2753469\ttotal: 1.21s\tremaining: 1.02s\n",
      "543:\tlearn: 0.2751437\ttotal: 1.21s\tremaining: 1.02s\n",
      "544:\tlearn: 0.2749836\ttotal: 1.22s\tremaining: 1.02s\n",
      "545:\tlearn: 0.2748715\ttotal: 1.22s\tremaining: 1.01s\n",
      "546:\tlearn: 0.2748156\ttotal: 1.22s\tremaining: 1.01s\n",
      "547:\tlearn: 0.2746396\ttotal: 1.22s\tremaining: 1.01s\n",
      "548:\tlearn: 0.2742751\ttotal: 1.23s\tremaining: 1.01s\n",
      "549:\tlearn: 0.2740222\ttotal: 1.23s\tremaining: 1s\n",
      "550:\tlearn: 0.2737643\ttotal: 1.23s\tremaining: 1s\n",
      "551:\tlearn: 0.2735570\ttotal: 1.23s\tremaining: 1s\n",
      "552:\tlearn: 0.2732473\ttotal: 1.24s\tremaining: 999ms\n",
      "553:\tlearn: 0.2730397\ttotal: 1.24s\tremaining: 997ms\n",
      "554:\tlearn: 0.2726986\ttotal: 1.24s\tremaining: 995ms\n",
      "555:\tlearn: 0.2726207\ttotal: 1.24s\tremaining: 993ms\n",
      "556:\tlearn: 0.2724192\ttotal: 1.25s\tremaining: 990ms\n",
      "557:\tlearn: 0.2722507\ttotal: 1.25s\tremaining: 988ms\n",
      "558:\tlearn: 0.2718974\ttotal: 1.25s\tremaining: 986ms\n",
      "559:\tlearn: 0.2717007\ttotal: 1.25s\tremaining: 985ms\n",
      "560:\tlearn: 0.2714049\ttotal: 1.25s\tremaining: 983ms\n",
      "561:\tlearn: 0.2712418\ttotal: 1.26s\tremaining: 981ms\n",
      "562:\tlearn: 0.2709507\ttotal: 1.26s\tremaining: 978ms\n",
      "563:\tlearn: 0.2707628\ttotal: 1.26s\tremaining: 976ms\n",
      "564:\tlearn: 0.2705255\ttotal: 1.26s\tremaining: 975ms\n",
      "565:\tlearn: 0.2703786\ttotal: 1.27s\tremaining: 972ms\n",
      "566:\tlearn: 0.2702270\ttotal: 1.27s\tremaining: 970ms\n",
      "567:\tlearn: 0.2699564\ttotal: 1.27s\tremaining: 968ms\n",
      "568:\tlearn: 0.2697149\ttotal: 1.27s\tremaining: 966ms\n",
      "569:\tlearn: 0.2695101\ttotal: 1.28s\tremaining: 963ms\n",
      "570:\tlearn: 0.2693226\ttotal: 1.28s\tremaining: 961ms\n",
      "571:\tlearn: 0.2692401\ttotal: 1.28s\tremaining: 959ms\n",
      "572:\tlearn: 0.2690312\ttotal: 1.28s\tremaining: 957ms\n",
      "573:\tlearn: 0.2688283\ttotal: 1.29s\tremaining: 955ms\n",
      "574:\tlearn: 0.2685991\ttotal: 1.29s\tremaining: 952ms\n",
      "575:\tlearn: 0.2684519\ttotal: 1.29s\tremaining: 950ms\n",
      "576:\tlearn: 0.2681852\ttotal: 1.29s\tremaining: 948ms\n",
      "577:\tlearn: 0.2679966\ttotal: 1.29s\tremaining: 946ms\n",
      "578:\tlearn: 0.2678214\ttotal: 1.3s\tremaining: 943ms\n",
      "579:\tlearn: 0.2675508\ttotal: 1.3s\tremaining: 941ms\n",
      "580:\tlearn: 0.2672992\ttotal: 1.3s\tremaining: 939ms\n",
      "581:\tlearn: 0.2671163\ttotal: 1.3s\tremaining: 937ms\n",
      "582:\tlearn: 0.2669239\ttotal: 1.31s\tremaining: 934ms\n",
      "583:\tlearn: 0.2667451\ttotal: 1.31s\tremaining: 933ms\n",
      "584:\tlearn: 0.2665639\ttotal: 1.31s\tremaining: 930ms\n",
      "585:\tlearn: 0.2662928\ttotal: 1.31s\tremaining: 928ms\n",
      "586:\tlearn: 0.2659768\ttotal: 1.32s\tremaining: 926ms\n",
      "587:\tlearn: 0.2657706\ttotal: 1.32s\tremaining: 924ms\n",
      "588:\tlearn: 0.2656701\ttotal: 1.32s\tremaining: 922ms\n",
      "589:\tlearn: 0.2653913\ttotal: 1.32s\tremaining: 919ms\n",
      "590:\tlearn: 0.2652461\ttotal: 1.32s\tremaining: 917ms\n",
      "591:\tlearn: 0.2650850\ttotal: 1.33s\tremaining: 914ms\n",
      "592:\tlearn: 0.2649887\ttotal: 1.33s\tremaining: 911ms\n",
      "593:\tlearn: 0.2649084\ttotal: 1.33s\tremaining: 909ms\n",
      "594:\tlearn: 0.2647971\ttotal: 1.33s\tremaining: 906ms\n",
      "595:\tlearn: 0.2646760\ttotal: 1.33s\tremaining: 904ms\n",
      "596:\tlearn: 0.2643129\ttotal: 1.33s\tremaining: 902ms\n",
      "597:\tlearn: 0.2641118\ttotal: 1.34s\tremaining: 899ms\n",
      "598:\tlearn: 0.2638480\ttotal: 1.34s\tremaining: 897ms\n",
      "599:\tlearn: 0.2636756\ttotal: 1.34s\tremaining: 894ms\n",
      "600:\tlearn: 0.2634917\ttotal: 1.34s\tremaining: 892ms\n",
      "601:\tlearn: 0.2632788\ttotal: 1.34s\tremaining: 889ms\n",
      "602:\tlearn: 0.2630358\ttotal: 1.35s\tremaining: 887ms\n",
      "603:\tlearn: 0.2627907\ttotal: 1.35s\tremaining: 884ms\n",
      "604:\tlearn: 0.2626487\ttotal: 1.35s\tremaining: 882ms\n",
      "605:\tlearn: 0.2623086\ttotal: 1.35s\tremaining: 879ms\n",
      "606:\tlearn: 0.2622148\ttotal: 1.35s\tremaining: 877ms\n",
      "607:\tlearn: 0.2619977\ttotal: 1.35s\tremaining: 874ms\n",
      "608:\tlearn: 0.2618683\ttotal: 1.36s\tremaining: 872ms\n",
      "609:\tlearn: 0.2617262\ttotal: 1.36s\tremaining: 869ms\n",
      "610:\tlearn: 0.2614272\ttotal: 1.36s\tremaining: 866ms\n",
      "611:\tlearn: 0.2612679\ttotal: 1.36s\tremaining: 864ms\n",
      "612:\tlearn: 0.2610038\ttotal: 1.36s\tremaining: 861ms\n",
      "613:\tlearn: 0.2607667\ttotal: 1.37s\tremaining: 859ms\n",
      "614:\tlearn: 0.2605145\ttotal: 1.37s\tremaining: 856ms\n",
      "615:\tlearn: 0.2602892\ttotal: 1.37s\tremaining: 854ms\n",
      "616:\tlearn: 0.2599984\ttotal: 1.37s\tremaining: 851ms\n",
      "617:\tlearn: 0.2598193\ttotal: 1.37s\tremaining: 849ms\n",
      "618:\tlearn: 0.2596203\ttotal: 1.38s\tremaining: 847ms\n",
      "619:\tlearn: 0.2594357\ttotal: 1.38s\tremaining: 845ms\n",
      "620:\tlearn: 0.2590858\ttotal: 1.38s\tremaining: 842ms\n",
      "621:\tlearn: 0.2589773\ttotal: 1.38s\tremaining: 840ms\n",
      "622:\tlearn: 0.2585929\ttotal: 1.38s\tremaining: 837ms\n",
      "623:\tlearn: 0.2581706\ttotal: 1.39s\tremaining: 835ms\n",
      "624:\tlearn: 0.2578699\ttotal: 1.39s\tremaining: 832ms\n",
      "625:\tlearn: 0.2576291\ttotal: 1.39s\tremaining: 830ms\n",
      "626:\tlearn: 0.2574157\ttotal: 1.39s\tremaining: 827ms\n",
      "627:\tlearn: 0.2569596\ttotal: 1.39s\tremaining: 825ms\n",
      "628:\tlearn: 0.2566992\ttotal: 1.39s\tremaining: 822ms\n",
      "629:\tlearn: 0.2564773\ttotal: 1.4s\tremaining: 820ms\n",
      "630:\tlearn: 0.2563904\ttotal: 1.4s\tremaining: 817ms\n",
      "631:\tlearn: 0.2562541\ttotal: 1.4s\tremaining: 815ms\n",
      "632:\tlearn: 0.2560905\ttotal: 1.4s\tremaining: 813ms\n",
      "633:\tlearn: 0.2559196\ttotal: 1.4s\tremaining: 810ms\n",
      "634:\tlearn: 0.2556727\ttotal: 1.41s\tremaining: 808ms\n",
      "635:\tlearn: 0.2554610\ttotal: 1.41s\tremaining: 805ms\n",
      "636:\tlearn: 0.2553226\ttotal: 1.41s\tremaining: 803ms\n",
      "637:\tlearn: 0.2551740\ttotal: 1.41s\tremaining: 801ms\n",
      "638:\tlearn: 0.2549789\ttotal: 1.41s\tremaining: 799ms\n",
      "639:\tlearn: 0.2547121\ttotal: 1.42s\tremaining: 797ms\n",
      "640:\tlearn: 0.2546132\ttotal: 1.42s\tremaining: 795ms\n",
      "641:\tlearn: 0.2543087\ttotal: 1.42s\tremaining: 792ms\n",
      "642:\tlearn: 0.2541042\ttotal: 1.42s\tremaining: 790ms\n",
      "643:\tlearn: 0.2538693\ttotal: 1.42s\tremaining: 787ms\n",
      "644:\tlearn: 0.2535917\ttotal: 1.43s\tremaining: 785ms\n",
      "645:\tlearn: 0.2533902\ttotal: 1.43s\tremaining: 783ms\n",
      "646:\tlearn: 0.2532326\ttotal: 1.43s\tremaining: 780ms\n",
      "647:\tlearn: 0.2530459\ttotal: 1.43s\tremaining: 778ms\n",
      "648:\tlearn: 0.2528119\ttotal: 1.43s\tremaining: 776ms\n",
      "649:\tlearn: 0.2525547\ttotal: 1.44s\tremaining: 773ms\n",
      "650:\tlearn: 0.2524567\ttotal: 1.44s\tremaining: 771ms\n",
      "651:\tlearn: 0.2521524\ttotal: 1.44s\tremaining: 769ms\n",
      "652:\tlearn: 0.2518746\ttotal: 1.44s\tremaining: 766ms\n",
      "653:\tlearn: 0.2515442\ttotal: 1.44s\tremaining: 764ms\n",
      "654:\tlearn: 0.2513742\ttotal: 1.45s\tremaining: 762ms\n",
      "655:\tlearn: 0.2511759\ttotal: 1.45s\tremaining: 759ms\n",
      "656:\tlearn: 0.2508741\ttotal: 1.45s\tremaining: 757ms\n",
      "657:\tlearn: 0.2507077\ttotal: 1.45s\tremaining: 755ms\n",
      "658:\tlearn: 0.2505781\ttotal: 1.46s\tremaining: 754ms\n"
     ]
    },
    {
     "name": "stdout",
     "output_type": "stream",
     "text": [
      "659:\tlearn: 0.2505100\ttotal: 1.46s\tremaining: 752ms\n",
      "660:\tlearn: 0.2501853\ttotal: 1.46s\tremaining: 750ms\n",
      "661:\tlearn: 0.2500339\ttotal: 1.46s\tremaining: 747ms\n",
      "662:\tlearn: 0.2498808\ttotal: 1.47s\tremaining: 745ms\n",
      "663:\tlearn: 0.2496646\ttotal: 1.47s\tremaining: 743ms\n",
      "664:\tlearn: 0.2493293\ttotal: 1.47s\tremaining: 741ms\n",
      "665:\tlearn: 0.2491573\ttotal: 1.47s\tremaining: 738ms\n",
      "666:\tlearn: 0.2489233\ttotal: 1.47s\tremaining: 736ms\n",
      "667:\tlearn: 0.2488568\ttotal: 1.48s\tremaining: 734ms\n",
      "668:\tlearn: 0.2486144\ttotal: 1.48s\tremaining: 732ms\n",
      "669:\tlearn: 0.2483773\ttotal: 1.48s\tremaining: 730ms\n",
      "670:\tlearn: 0.2482201\ttotal: 1.48s\tremaining: 727ms\n",
      "671:\tlearn: 0.2481445\ttotal: 1.49s\tremaining: 725ms\n",
      "672:\tlearn: 0.2480453\ttotal: 1.49s\tremaining: 723ms\n",
      "673:\tlearn: 0.2478585\ttotal: 1.49s\tremaining: 720ms\n",
      "674:\tlearn: 0.2477204\ttotal: 1.49s\tremaining: 719ms\n",
      "675:\tlearn: 0.2476415\ttotal: 1.5s\tremaining: 717ms\n",
      "676:\tlearn: 0.2473815\ttotal: 1.5s\tremaining: 715ms\n",
      "677:\tlearn: 0.2471798\ttotal: 1.5s\tremaining: 712ms\n",
      "678:\tlearn: 0.2470178\ttotal: 1.5s\tremaining: 711ms\n",
      "679:\tlearn: 0.2468595\ttotal: 1.5s\tremaining: 708ms\n",
      "680:\tlearn: 0.2465018\ttotal: 1.51s\tremaining: 706ms\n",
      "681:\tlearn: 0.2463322\ttotal: 1.51s\tremaining: 704ms\n",
      "682:\tlearn: 0.2461881\ttotal: 1.51s\tremaining: 702ms\n",
      "683:\tlearn: 0.2460320\ttotal: 1.51s\tremaining: 700ms\n",
      "684:\tlearn: 0.2459155\ttotal: 1.52s\tremaining: 698ms\n",
      "685:\tlearn: 0.2457787\ttotal: 1.52s\tremaining: 695ms\n",
      "686:\tlearn: 0.2455912\ttotal: 1.52s\tremaining: 693ms\n",
      "687:\tlearn: 0.2453303\ttotal: 1.52s\tremaining: 691ms\n",
      "688:\tlearn: 0.2451950\ttotal: 1.53s\tremaining: 689ms\n",
      "689:\tlearn: 0.2450738\ttotal: 1.53s\tremaining: 687ms\n",
      "690:\tlearn: 0.2448890\ttotal: 1.53s\tremaining: 685ms\n",
      "691:\tlearn: 0.2445965\ttotal: 1.53s\tremaining: 682ms\n",
      "692:\tlearn: 0.2444868\ttotal: 1.53s\tremaining: 680ms\n",
      "693:\tlearn: 0.2443674\ttotal: 1.54s\tremaining: 678ms\n",
      "694:\tlearn: 0.2442138\ttotal: 1.54s\tremaining: 675ms\n",
      "695:\tlearn: 0.2439370\ttotal: 1.54s\tremaining: 673ms\n",
      "696:\tlearn: 0.2438278\ttotal: 1.54s\tremaining: 671ms\n",
      "697:\tlearn: 0.2435801\ttotal: 1.54s\tremaining: 669ms\n",
      "698:\tlearn: 0.2434457\ttotal: 1.55s\tremaining: 666ms\n",
      "699:\tlearn: 0.2432475\ttotal: 1.55s\tremaining: 664ms\n",
      "700:\tlearn: 0.2428014\ttotal: 1.55s\tremaining: 662ms\n",
      "701:\tlearn: 0.2424086\ttotal: 1.55s\tremaining: 660ms\n",
      "702:\tlearn: 0.2423574\ttotal: 1.56s\tremaining: 657ms\n",
      "703:\tlearn: 0.2422899\ttotal: 1.56s\tremaining: 656ms\n",
      "704:\tlearn: 0.2420831\ttotal: 1.56s\tremaining: 654ms\n",
      "705:\tlearn: 0.2418675\ttotal: 1.56s\tremaining: 652ms\n",
      "706:\tlearn: 0.2417139\ttotal: 1.57s\tremaining: 650ms\n",
      "707:\tlearn: 0.2416066\ttotal: 1.57s\tremaining: 648ms\n",
      "708:\tlearn: 0.2413955\ttotal: 1.57s\tremaining: 645ms\n",
      "709:\tlearn: 0.2412798\ttotal: 1.57s\tremaining: 643ms\n",
      "710:\tlearn: 0.2409843\ttotal: 1.58s\tremaining: 641ms\n",
      "711:\tlearn: 0.2405534\ttotal: 1.58s\tremaining: 639ms\n",
      "712:\tlearn: 0.2403035\ttotal: 1.58s\tremaining: 637ms\n",
      "713:\tlearn: 0.2401702\ttotal: 1.58s\tremaining: 634ms\n",
      "714:\tlearn: 0.2399140\ttotal: 1.58s\tremaining: 632ms\n",
      "715:\tlearn: 0.2397337\ttotal: 1.59s\tremaining: 630ms\n",
      "716:\tlearn: 0.2396964\ttotal: 1.59s\tremaining: 628ms\n",
      "717:\tlearn: 0.2395390\ttotal: 1.59s\tremaining: 625ms\n",
      "718:\tlearn: 0.2392122\ttotal: 1.59s\tremaining: 623ms\n",
      "719:\tlearn: 0.2390619\ttotal: 1.6s\tremaining: 621ms\n",
      "720:\tlearn: 0.2389439\ttotal: 1.6s\tremaining: 619ms\n",
      "721:\tlearn: 0.2385429\ttotal: 1.6s\tremaining: 616ms\n",
      "722:\tlearn: 0.2383707\ttotal: 1.6s\tremaining: 614ms\n",
      "723:\tlearn: 0.2382535\ttotal: 1.61s\tremaining: 612ms\n",
      "724:\tlearn: 0.2381393\ttotal: 1.61s\tremaining: 610ms\n",
      "725:\tlearn: 0.2379856\ttotal: 1.61s\tremaining: 608ms\n",
      "726:\tlearn: 0.2377765\ttotal: 1.61s\tremaining: 606ms\n",
      "727:\tlearn: 0.2376745\ttotal: 1.61s\tremaining: 604ms\n",
      "728:\tlearn: 0.2375429\ttotal: 1.62s\tremaining: 601ms\n",
      "729:\tlearn: 0.2373491\ttotal: 1.62s\tremaining: 599ms\n",
      "730:\tlearn: 0.2370027\ttotal: 1.62s\tremaining: 597ms\n",
      "731:\tlearn: 0.2368848\ttotal: 1.62s\tremaining: 595ms\n",
      "732:\tlearn: 0.2367762\ttotal: 1.63s\tremaining: 593ms\n",
      "733:\tlearn: 0.2366998\ttotal: 1.63s\tremaining: 591ms\n",
      "734:\tlearn: 0.2364429\ttotal: 1.63s\tremaining: 589ms\n",
      "735:\tlearn: 0.2363494\ttotal: 1.64s\tremaining: 587ms\n",
      "736:\tlearn: 0.2361932\ttotal: 1.64s\tremaining: 584ms\n",
      "737:\tlearn: 0.2358759\ttotal: 1.64s\tremaining: 582ms\n",
      "738:\tlearn: 0.2356413\ttotal: 1.64s\tremaining: 580ms\n",
      "739:\tlearn: 0.2354374\ttotal: 1.64s\tremaining: 578ms\n",
      "740:\tlearn: 0.2353556\ttotal: 1.65s\tremaining: 575ms\n",
      "741:\tlearn: 0.2352407\ttotal: 1.65s\tremaining: 573ms\n",
      "742:\tlearn: 0.2350888\ttotal: 1.65s\tremaining: 571ms\n",
      "743:\tlearn: 0.2348339\ttotal: 1.65s\tremaining: 568ms\n",
      "744:\tlearn: 0.2344997\ttotal: 1.65s\tremaining: 566ms\n",
      "745:\tlearn: 0.2343514\ttotal: 1.66s\tremaining: 564ms\n",
      "746:\tlearn: 0.2341343\ttotal: 1.66s\tremaining: 562ms\n",
      "747:\tlearn: 0.2337582\ttotal: 1.66s\tremaining: 560ms\n",
      "748:\tlearn: 0.2335933\ttotal: 1.66s\tremaining: 558ms\n",
      "749:\tlearn: 0.2334627\ttotal: 1.67s\tremaining: 555ms\n",
      "750:\tlearn: 0.2332623\ttotal: 1.67s\tremaining: 553ms\n",
      "751:\tlearn: 0.2331015\ttotal: 1.67s\tremaining: 551ms\n",
      "752:\tlearn: 0.2330066\ttotal: 1.67s\tremaining: 549ms\n",
      "753:\tlearn: 0.2328590\ttotal: 1.67s\tremaining: 546ms\n",
      "754:\tlearn: 0.2327142\ttotal: 1.68s\tremaining: 544ms\n",
      "755:\tlearn: 0.2323644\ttotal: 1.68s\tremaining: 542ms\n",
      "756:\tlearn: 0.2320818\ttotal: 1.68s\tremaining: 539ms\n",
      "757:\tlearn: 0.2319190\ttotal: 1.68s\tremaining: 537ms\n",
      "758:\tlearn: 0.2315921\ttotal: 1.68s\tremaining: 535ms\n",
      "759:\tlearn: 0.2314518\ttotal: 1.69s\tremaining: 532ms\n",
      "760:\tlearn: 0.2312555\ttotal: 1.69s\tremaining: 530ms\n",
      "761:\tlearn: 0.2310545\ttotal: 1.69s\tremaining: 528ms\n",
      "762:\tlearn: 0.2309143\ttotal: 1.69s\tremaining: 526ms\n",
      "763:\tlearn: 0.2307787\ttotal: 1.69s\tremaining: 523ms\n",
      "764:\tlearn: 0.2303175\ttotal: 1.7s\tremaining: 521ms\n",
      "765:\tlearn: 0.2300101\ttotal: 1.7s\tremaining: 519ms\n",
      "766:\tlearn: 0.2298963\ttotal: 1.7s\tremaining: 517ms\n",
      "767:\tlearn: 0.2296899\ttotal: 1.7s\tremaining: 514ms\n",
      "768:\tlearn: 0.2295813\ttotal: 1.7s\tremaining: 512ms\n",
      "769:\tlearn: 0.2292246\ttotal: 1.71s\tremaining: 510ms\n",
      "770:\tlearn: 0.2290453\ttotal: 1.71s\tremaining: 508ms\n",
      "771:\tlearn: 0.2289676\ttotal: 1.71s\tremaining: 506ms\n",
      "772:\tlearn: 0.2286484\ttotal: 1.71s\tremaining: 503ms\n",
      "773:\tlearn: 0.2284585\ttotal: 1.72s\tremaining: 501ms\n",
      "774:\tlearn: 0.2282500\ttotal: 1.72s\tremaining: 499ms\n",
      "775:\tlearn: 0.2281407\ttotal: 1.72s\tremaining: 496ms\n",
      "776:\tlearn: 0.2279219\ttotal: 1.72s\tremaining: 494ms\n",
      "777:\tlearn: 0.2276128\ttotal: 1.72s\tremaining: 492ms\n",
      "778:\tlearn: 0.2274184\ttotal: 1.73s\tremaining: 490ms\n",
      "779:\tlearn: 0.2271612\ttotal: 1.73s\tremaining: 488ms\n",
      "780:\tlearn: 0.2269394\ttotal: 1.73s\tremaining: 485ms\n",
      "781:\tlearn: 0.2268496\ttotal: 1.73s\tremaining: 483ms\n",
      "782:\tlearn: 0.2267682\ttotal: 1.74s\tremaining: 481ms\n",
      "783:\tlearn: 0.2266919\ttotal: 1.74s\tremaining: 479ms\n",
      "784:\tlearn: 0.2264667\ttotal: 1.74s\tremaining: 476ms\n",
      "785:\tlearn: 0.2261897\ttotal: 1.74s\tremaining: 474ms\n",
      "786:\tlearn: 0.2261238\ttotal: 1.74s\tremaining: 472ms\n",
      "787:\tlearn: 0.2260221\ttotal: 1.74s\tremaining: 469ms\n",
      "788:\tlearn: 0.2259542\ttotal: 1.75s\tremaining: 467ms\n",
      "789:\tlearn: 0.2257492\ttotal: 1.75s\tremaining: 465ms\n",
      "790:\tlearn: 0.2255727\ttotal: 1.75s\tremaining: 463ms\n",
      "791:\tlearn: 0.2254361\ttotal: 1.75s\tremaining: 460ms\n",
      "792:\tlearn: 0.2251975\ttotal: 1.75s\tremaining: 458ms\n",
      "793:\tlearn: 0.2251099\ttotal: 1.76s\tremaining: 456ms\n",
      "794:\tlearn: 0.2250267\ttotal: 1.76s\tremaining: 454ms\n",
      "795:\tlearn: 0.2249045\ttotal: 1.76s\tremaining: 451ms\n",
      "796:\tlearn: 0.2246708\ttotal: 1.76s\tremaining: 449ms\n",
      "797:\tlearn: 0.2244320\ttotal: 1.76s\tremaining: 447ms\n",
      "798:\tlearn: 0.2242313\ttotal: 1.77s\tremaining: 445ms\n",
      "799:\tlearn: 0.2238984\ttotal: 1.77s\tremaining: 442ms\n",
      "800:\tlearn: 0.2234516\ttotal: 1.77s\tremaining: 440ms\n",
      "801:\tlearn: 0.2233933\ttotal: 1.77s\tremaining: 438ms\n",
      "802:\tlearn: 0.2232868\ttotal: 1.77s\tremaining: 436ms\n",
      "803:\tlearn: 0.2230518\ttotal: 1.78s\tremaining: 434ms\n",
      "804:\tlearn: 0.2228824\ttotal: 1.78s\tremaining: 431ms\n",
      "805:\tlearn: 0.2226697\ttotal: 1.78s\tremaining: 429ms\n",
      "806:\tlearn: 0.2225086\ttotal: 1.78s\tremaining: 427ms\n",
      "807:\tlearn: 0.2223386\ttotal: 1.79s\tremaining: 425ms\n",
      "808:\tlearn: 0.2221959\ttotal: 1.79s\tremaining: 422ms\n",
      "809:\tlearn: 0.2219787\ttotal: 1.79s\tremaining: 420ms\n",
      "810:\tlearn: 0.2216724\ttotal: 1.79s\tremaining: 418ms\n",
      "811:\tlearn: 0.2214549\ttotal: 1.79s\tremaining: 415ms\n",
      "812:\tlearn: 0.2211909\ttotal: 1.79s\tremaining: 413ms\n",
      "813:\tlearn: 0.2208207\ttotal: 1.8s\tremaining: 411ms\n",
      "814:\tlearn: 0.2206241\ttotal: 1.8s\tremaining: 409ms\n",
      "815:\tlearn: 0.2204944\ttotal: 1.8s\tremaining: 406ms\n",
      "816:\tlearn: 0.2203338\ttotal: 1.8s\tremaining: 404ms\n",
      "817:\tlearn: 0.2202234\ttotal: 1.81s\tremaining: 402ms\n",
      "818:\tlearn: 0.2199347\ttotal: 1.81s\tremaining: 400ms\n",
      "819:\tlearn: 0.2197637\ttotal: 1.81s\tremaining: 398ms\n",
      "820:\tlearn: 0.2196321\ttotal: 1.81s\tremaining: 395ms\n",
      "821:\tlearn: 0.2195166\ttotal: 1.81s\tremaining: 393ms\n",
      "822:\tlearn: 0.2193558\ttotal: 1.82s\tremaining: 391ms\n",
      "823:\tlearn: 0.2192363\ttotal: 1.82s\tremaining: 389ms\n",
      "824:\tlearn: 0.2190681\ttotal: 1.82s\tremaining: 387ms\n",
      "825:\tlearn: 0.2188877\ttotal: 1.82s\tremaining: 385ms\n",
      "826:\tlearn: 0.2188229\ttotal: 1.83s\tremaining: 382ms\n",
      "827:\tlearn: 0.2187377\ttotal: 1.83s\tremaining: 380ms\n",
      "828:\tlearn: 0.2185021\ttotal: 1.83s\tremaining: 378ms\n",
      "829:\tlearn: 0.2184467\ttotal: 1.83s\tremaining: 376ms\n",
      "830:\tlearn: 0.2182458\ttotal: 1.84s\tremaining: 374ms\n",
      "831:\tlearn: 0.2179170\ttotal: 1.84s\tremaining: 371ms\n",
      "832:\tlearn: 0.2177744\ttotal: 1.84s\tremaining: 369ms\n",
      "833:\tlearn: 0.2176498\ttotal: 1.84s\tremaining: 367ms\n",
      "834:\tlearn: 0.2174674\ttotal: 1.84s\tremaining: 365ms\n",
      "835:\tlearn: 0.2171573\ttotal: 1.85s\tremaining: 363ms\n",
      "836:\tlearn: 0.2170428\ttotal: 1.85s\tremaining: 360ms\n",
      "837:\tlearn: 0.2168558\ttotal: 1.85s\tremaining: 358ms\n",
      "838:\tlearn: 0.2167658\ttotal: 1.85s\tremaining: 356ms\n",
      "839:\tlearn: 0.2165640\ttotal: 1.86s\tremaining: 354ms\n",
      "840:\tlearn: 0.2164665\ttotal: 1.86s\tremaining: 351ms\n",
      "841:\tlearn: 0.2163036\ttotal: 1.86s\tremaining: 349ms\n",
      "842:\tlearn: 0.2161783\ttotal: 1.86s\tremaining: 347ms\n",
      "843:\tlearn: 0.2160460\ttotal: 1.86s\tremaining: 345ms\n",
      "844:\tlearn: 0.2159027\ttotal: 1.87s\tremaining: 343ms\n",
      "845:\tlearn: 0.2157109\ttotal: 1.87s\tremaining: 340ms\n",
      "846:\tlearn: 0.2156211\ttotal: 1.87s\tremaining: 338ms\n",
      "847:\tlearn: 0.2155515\ttotal: 1.87s\tremaining: 336ms\n",
      "848:\tlearn: 0.2154780\ttotal: 1.88s\tremaining: 334ms\n",
      "849:\tlearn: 0.2152790\ttotal: 1.88s\tremaining: 332ms\n",
      "850:\tlearn: 0.2151652\ttotal: 1.88s\tremaining: 329ms\n",
      "851:\tlearn: 0.2151018\ttotal: 1.88s\tremaining: 327ms\n",
      "852:\tlearn: 0.2149208\ttotal: 1.89s\tremaining: 325ms\n",
      "853:\tlearn: 0.2147438\ttotal: 1.89s\tremaining: 323ms\n",
      "854:\tlearn: 0.2145937\ttotal: 1.89s\tremaining: 320ms\n",
      "855:\tlearn: 0.2145381\ttotal: 1.89s\tremaining: 318ms\n",
      "856:\tlearn: 0.2144657\ttotal: 1.89s\tremaining: 316ms\n",
      "857:\tlearn: 0.2141945\ttotal: 1.9s\tremaining: 314ms\n",
      "858:\tlearn: 0.2141378\ttotal: 1.9s\tremaining: 312ms\n",
      "859:\tlearn: 0.2140764\ttotal: 1.9s\tremaining: 309ms\n",
      "860:\tlearn: 0.2139788\ttotal: 1.9s\tremaining: 307ms\n",
      "861:\tlearn: 0.2138364\ttotal: 1.91s\tremaining: 305ms\n",
      "862:\tlearn: 0.2136299\ttotal: 1.91s\tremaining: 303ms\n",
      "863:\tlearn: 0.2134113\ttotal: 1.91s\tremaining: 301ms\n",
      "864:\tlearn: 0.2132956\ttotal: 1.91s\tremaining: 299ms\n",
      "865:\tlearn: 0.2130691\ttotal: 1.92s\tremaining: 296ms\n",
      "866:\tlearn: 0.2128784\ttotal: 1.92s\tremaining: 294ms\n",
      "867:\tlearn: 0.2126727\ttotal: 1.92s\tremaining: 292ms\n",
      "868:\tlearn: 0.2125340\ttotal: 1.92s\tremaining: 290ms\n"
     ]
    },
    {
     "name": "stdout",
     "output_type": "stream",
     "text": [
      "869:\tlearn: 0.2122840\ttotal: 1.93s\tremaining: 288ms\n",
      "870:\tlearn: 0.2120469\ttotal: 1.93s\tremaining: 286ms\n",
      "871:\tlearn: 0.2118639\ttotal: 1.93s\tremaining: 284ms\n",
      "872:\tlearn: 0.2117496\ttotal: 1.93s\tremaining: 281ms\n",
      "873:\tlearn: 0.2114516\ttotal: 1.94s\tremaining: 279ms\n",
      "874:\tlearn: 0.2111775\ttotal: 1.94s\tremaining: 277ms\n",
      "875:\tlearn: 0.2110101\ttotal: 1.94s\tremaining: 275ms\n",
      "876:\tlearn: 0.2107460\ttotal: 1.94s\tremaining: 273ms\n",
      "877:\tlearn: 0.2106560\ttotal: 1.95s\tremaining: 270ms\n",
      "878:\tlearn: 0.2104605\ttotal: 1.95s\tremaining: 268ms\n",
      "879:\tlearn: 0.2103590\ttotal: 1.95s\tremaining: 266ms\n",
      "880:\tlearn: 0.2103160\ttotal: 1.95s\tremaining: 264ms\n",
      "881:\tlearn: 0.2102141\ttotal: 1.95s\tremaining: 261ms\n",
      "882:\tlearn: 0.2098803\ttotal: 1.96s\tremaining: 259ms\n",
      "883:\tlearn: 0.2097233\ttotal: 1.96s\tremaining: 257ms\n",
      "884:\tlearn: 0.2095986\ttotal: 1.96s\tremaining: 255ms\n",
      "885:\tlearn: 0.2094989\ttotal: 1.96s\tremaining: 252ms\n",
      "886:\tlearn: 0.2092139\ttotal: 1.96s\tremaining: 250ms\n",
      "887:\tlearn: 0.2090122\ttotal: 1.97s\tremaining: 248ms\n",
      "888:\tlearn: 0.2088416\ttotal: 1.97s\tremaining: 246ms\n",
      "889:\tlearn: 0.2087120\ttotal: 1.97s\tremaining: 243ms\n",
      "890:\tlearn: 0.2085946\ttotal: 1.97s\tremaining: 241ms\n",
      "891:\tlearn: 0.2084567\ttotal: 1.97s\tremaining: 239ms\n",
      "892:\tlearn: 0.2083637\ttotal: 1.97s\tremaining: 237ms\n",
      "893:\tlearn: 0.2082819\ttotal: 1.98s\tremaining: 234ms\n",
      "894:\tlearn: 0.2081431\ttotal: 1.98s\tremaining: 232ms\n",
      "895:\tlearn: 0.2079990\ttotal: 1.98s\tremaining: 230ms\n",
      "896:\tlearn: 0.2078031\ttotal: 1.98s\tremaining: 228ms\n",
      "897:\tlearn: 0.2076147\ttotal: 1.99s\tremaining: 226ms\n",
      "898:\tlearn: 0.2074966\ttotal: 1.99s\tremaining: 223ms\n",
      "899:\tlearn: 0.2074233\ttotal: 1.99s\tremaining: 221ms\n",
      "900:\tlearn: 0.2073176\ttotal: 1.99s\tremaining: 219ms\n",
      "901:\tlearn: 0.2071963\ttotal: 1.99s\tremaining: 217ms\n",
      "902:\tlearn: 0.2070281\ttotal: 2s\tremaining: 214ms\n",
      "903:\tlearn: 0.2068952\ttotal: 2s\tremaining: 212ms\n",
      "904:\tlearn: 0.2067909\ttotal: 2s\tremaining: 210ms\n",
      "905:\tlearn: 0.2065923\ttotal: 2s\tremaining: 208ms\n",
      "906:\tlearn: 0.2064879\ttotal: 2s\tremaining: 205ms\n",
      "907:\tlearn: 0.2062348\ttotal: 2s\tremaining: 203ms\n",
      "908:\tlearn: 0.2061212\ttotal: 2.01s\tremaining: 201ms\n",
      "909:\tlearn: 0.2059688\ttotal: 2.01s\tremaining: 199ms\n",
      "910:\tlearn: 0.2057464\ttotal: 2.01s\tremaining: 196ms\n",
      "911:\tlearn: 0.2056163\ttotal: 2.01s\tremaining: 194ms\n",
      "912:\tlearn: 0.2055138\ttotal: 2.01s\tremaining: 192ms\n",
      "913:\tlearn: 0.2054613\ttotal: 2.02s\tremaining: 190ms\n",
      "914:\tlearn: 0.2053515\ttotal: 2.02s\tremaining: 187ms\n",
      "915:\tlearn: 0.2052184\ttotal: 2.02s\tremaining: 185ms\n",
      "916:\tlearn: 0.2050330\ttotal: 2.02s\tremaining: 183ms\n",
      "917:\tlearn: 0.2049049\ttotal: 2.02s\tremaining: 181ms\n",
      "918:\tlearn: 0.2046657\ttotal: 2.02s\tremaining: 178ms\n",
      "919:\tlearn: 0.2043994\ttotal: 2.03s\tremaining: 176ms\n",
      "920:\tlearn: 0.2043421\ttotal: 2.03s\tremaining: 174ms\n",
      "921:\tlearn: 0.2040999\ttotal: 2.03s\tremaining: 172ms\n",
      "922:\tlearn: 0.2039345\ttotal: 2.03s\tremaining: 170ms\n",
      "923:\tlearn: 0.2037581\ttotal: 2.03s\tremaining: 167ms\n",
      "924:\tlearn: 0.2036368\ttotal: 2.04s\tremaining: 165ms\n",
      "925:\tlearn: 0.2035197\ttotal: 2.04s\tremaining: 163ms\n",
      "926:\tlearn: 0.2033980\ttotal: 2.04s\tremaining: 161ms\n",
      "927:\tlearn: 0.2032414\ttotal: 2.04s\tremaining: 158ms\n",
      "928:\tlearn: 0.2030566\ttotal: 2.04s\tremaining: 156ms\n",
      "929:\tlearn: 0.2027728\ttotal: 2.04s\tremaining: 154ms\n",
      "930:\tlearn: 0.2025859\ttotal: 2.05s\tremaining: 152ms\n",
      "931:\tlearn: 0.2025003\ttotal: 2.05s\tremaining: 149ms\n",
      "932:\tlearn: 0.2023148\ttotal: 2.05s\tremaining: 147ms\n",
      "933:\tlearn: 0.2022241\ttotal: 2.05s\tremaining: 145ms\n",
      "934:\tlearn: 0.2021301\ttotal: 2.05s\tremaining: 143ms\n",
      "935:\tlearn: 0.2020509\ttotal: 2.06s\tremaining: 141ms\n",
      "936:\tlearn: 0.2019055\ttotal: 2.06s\tremaining: 138ms\n",
      "937:\tlearn: 0.2018676\ttotal: 2.06s\tremaining: 136ms\n",
      "938:\tlearn: 0.2016924\ttotal: 2.06s\tremaining: 134ms\n",
      "939:\tlearn: 0.2016378\ttotal: 2.06s\tremaining: 132ms\n",
      "940:\tlearn: 0.2014014\ttotal: 2.06s\tremaining: 129ms\n",
      "941:\tlearn: 0.2012791\ttotal: 2.06s\tremaining: 127ms\n",
      "942:\tlearn: 0.2012014\ttotal: 2.07s\tremaining: 125ms\n",
      "943:\tlearn: 0.2010983\ttotal: 2.07s\tremaining: 123ms\n",
      "944:\tlearn: 0.2009464\ttotal: 2.07s\tremaining: 121ms\n",
      "945:\tlearn: 0.2008588\ttotal: 2.07s\tremaining: 118ms\n",
      "946:\tlearn: 0.2007579\ttotal: 2.07s\tremaining: 116ms\n",
      "947:\tlearn: 0.2006770\ttotal: 2.08s\tremaining: 114ms\n",
      "948:\tlearn: 0.2005245\ttotal: 2.08s\tremaining: 112ms\n",
      "949:\tlearn: 0.2004856\ttotal: 2.08s\tremaining: 109ms\n",
      "950:\tlearn: 0.2004359\ttotal: 2.08s\tremaining: 107ms\n",
      "951:\tlearn: 0.2001823\ttotal: 2.08s\tremaining: 105ms\n",
      "952:\tlearn: 0.1999742\ttotal: 2.08s\tremaining: 103ms\n",
      "953:\tlearn: 0.1998538\ttotal: 2.09s\tremaining: 101ms\n",
      "954:\tlearn: 0.1997505\ttotal: 2.09s\tremaining: 98.5ms\n",
      "955:\tlearn: 0.1996788\ttotal: 2.09s\tremaining: 96.3ms\n",
      "956:\tlearn: 0.1994983\ttotal: 2.09s\tremaining: 94.1ms\n",
      "957:\tlearn: 0.1993423\ttotal: 2.1s\tremaining: 91.9ms\n",
      "958:\tlearn: 0.1992059\ttotal: 2.1s\tremaining: 89.7ms\n",
      "959:\tlearn: 0.1989424\ttotal: 2.1s\tremaining: 87.5ms\n",
      "960:\tlearn: 0.1987826\ttotal: 2.1s\tremaining: 85.3ms\n",
      "961:\tlearn: 0.1986675\ttotal: 2.1s\tremaining: 83.1ms\n",
      "962:\tlearn: 0.1986389\ttotal: 2.1s\tremaining: 80.9ms\n",
      "963:\tlearn: 0.1985507\ttotal: 2.11s\tremaining: 78.7ms\n",
      "964:\tlearn: 0.1984114\ttotal: 2.11s\tremaining: 76.5ms\n",
      "965:\tlearn: 0.1983626\ttotal: 2.11s\tremaining: 74.3ms\n",
      "966:\tlearn: 0.1981922\ttotal: 2.11s\tremaining: 72.1ms\n",
      "967:\tlearn: 0.1979989\ttotal: 2.12s\tremaining: 69.9ms\n",
      "968:\tlearn: 0.1979202\ttotal: 2.12s\tremaining: 67.7ms\n",
      "969:\tlearn: 0.1977933\ttotal: 2.12s\tremaining: 65.5ms\n",
      "970:\tlearn: 0.1976935\ttotal: 2.12s\tremaining: 63.3ms\n",
      "971:\tlearn: 0.1975237\ttotal: 2.12s\tremaining: 61.2ms\n",
      "972:\tlearn: 0.1974117\ttotal: 2.13s\tremaining: 59ms\n",
      "973:\tlearn: 0.1972646\ttotal: 2.13s\tremaining: 56.8ms\n",
      "974:\tlearn: 0.1971243\ttotal: 2.13s\tremaining: 54.7ms\n",
      "975:\tlearn: 0.1969940\ttotal: 2.13s\tremaining: 52.5ms\n",
      "976:\tlearn: 0.1969432\ttotal: 2.14s\tremaining: 50.3ms\n",
      "977:\tlearn: 0.1967682\ttotal: 2.14s\tremaining: 48.1ms\n",
      "978:\tlearn: 0.1966439\ttotal: 2.14s\tremaining: 45.9ms\n",
      "979:\tlearn: 0.1965434\ttotal: 2.15s\tremaining: 43.8ms\n",
      "980:\tlearn: 0.1964754\ttotal: 2.15s\tremaining: 41.6ms\n",
      "981:\tlearn: 0.1963268\ttotal: 2.15s\tremaining: 39.4ms\n",
      "982:\tlearn: 0.1961554\ttotal: 2.15s\tremaining: 37.2ms\n",
      "983:\tlearn: 0.1958981\ttotal: 2.16s\tremaining: 35.1ms\n",
      "984:\tlearn: 0.1958360\ttotal: 2.16s\tremaining: 32.9ms\n",
      "985:\tlearn: 0.1955453\ttotal: 2.16s\tremaining: 30.7ms\n",
      "986:\tlearn: 0.1954170\ttotal: 2.16s\tremaining: 28.5ms\n",
      "987:\tlearn: 0.1952517\ttotal: 2.17s\tremaining: 26.3ms\n",
      "988:\tlearn: 0.1950590\ttotal: 2.17s\tremaining: 24.1ms\n",
      "989:\tlearn: 0.1948965\ttotal: 2.17s\tremaining: 21.9ms\n",
      "990:\tlearn: 0.1947814\ttotal: 2.17s\tremaining: 19.7ms\n",
      "991:\tlearn: 0.1945362\ttotal: 2.17s\tremaining: 17.5ms\n",
      "992:\tlearn: 0.1944756\ttotal: 2.18s\tremaining: 15.3ms\n",
      "993:\tlearn: 0.1943506\ttotal: 2.18s\tremaining: 13.2ms\n",
      "994:\tlearn: 0.1942585\ttotal: 2.18s\tremaining: 11ms\n",
      "995:\tlearn: 0.1941885\ttotal: 2.18s\tremaining: 8.77ms\n",
      "996:\tlearn: 0.1939930\ttotal: 2.19s\tremaining: 6.58ms\n",
      "997:\tlearn: 0.1938128\ttotal: 2.19s\tremaining: 4.39ms\n",
      "998:\tlearn: 0.1936294\ttotal: 2.19s\tremaining: 2.19ms\n",
      "999:\tlearn: 0.1935149\ttotal: 2.19s\tremaining: 0us\n"
     ]
    }
   ],
   "source": [
    "catb_model = CatBoostClassifier().fit(X_train, y_train)"
   ]
  },
  {
   "cell_type": "code",
   "execution_count": 144,
   "metadata": {},
   "outputs": [],
   "source": [
    "y_pred=catb_model.predict(X_test)"
   ]
  },
  {
   "cell_type": "code",
   "execution_count": 145,
   "metadata": {},
   "outputs": [
    {
     "data": {
      "text/plain": [
       "0.7402597402597403"
      ]
     },
     "execution_count": 145,
     "metadata": {},
     "output_type": "execute_result"
    }
   ],
   "source": [
    "accuracy_score(y_test,y_pred)"
   ]
  },
  {
   "cell_type": "markdown",
   "metadata": {},
   "source": [
    "# model tuning"
   ]
  },
  {
   "cell_type": "code",
   "execution_count": 146,
   "metadata": {},
   "outputs": [],
   "source": [
    "catb=CatBoostClassifier()"
   ]
  },
  {
   "cell_type": "code",
   "execution_count": 147,
   "metadata": {},
   "outputs": [],
   "source": [
    "catb_params={\"iterations\":[200,500,1000],\n",
    "            \"learning_rate\":[0.01,0.03,0.1],\n",
    "            \"depth\":[4,5,8]}"
   ]
  },
  {
   "cell_type": "code",
   "execution_count": 148,
   "metadata": {},
   "outputs": [
    {
     "name": "stdout",
     "output_type": "stream",
     "text": [
      "Fitting 5 folds for each of 27 candidates, totalling 135 fits\n"
     ]
    },
    {
     "name": "stderr",
     "output_type": "stream",
     "text": [
      "[Parallel(n_jobs=-1)]: Using backend LokyBackend with 4 concurrent workers.\n",
      "[Parallel(n_jobs=-1)]: Done  33 tasks      | elapsed:   15.3s\n",
      "[Parallel(n_jobs=-1)]: Done 135 out of 135 | elapsed:  2.4min finished\n"
     ]
    },
    {
     "name": "stdout",
     "output_type": "stream",
     "text": [
      "0:\tlearn: 0.6730562\ttotal: 5ms\tremaining: 996ms\n",
      "1:\tlearn: 0.6583303\ttotal: 9.27ms\tremaining: 918ms\n",
      "2:\tlearn: 0.6413852\ttotal: 13.3ms\tremaining: 871ms\n",
      "3:\tlearn: 0.6268405\ttotal: 17.1ms\tremaining: 838ms\n",
      "4:\tlearn: 0.6150883\ttotal: 21ms\tremaining: 817ms\n",
      "5:\tlearn: 0.5989093\ttotal: 24.7ms\tremaining: 799ms\n",
      "6:\tlearn: 0.5861303\ttotal: 28.7ms\tremaining: 793ms\n",
      "7:\tlearn: 0.5735117\ttotal: 32.5ms\tremaining: 780ms\n",
      "8:\tlearn: 0.5616370\ttotal: 36.3ms\tremaining: 771ms\n",
      "9:\tlearn: 0.5507706\ttotal: 40.5ms\tremaining: 770ms\n",
      "10:\tlearn: 0.5388394\ttotal: 44.6ms\tremaining: 766ms\n",
      "11:\tlearn: 0.5264516\ttotal: 48.9ms\tremaining: 766ms\n",
      "12:\tlearn: 0.5191660\ttotal: 53ms\tremaining: 763ms\n",
      "13:\tlearn: 0.5104459\ttotal: 57.3ms\tremaining: 761ms\n",
      "14:\tlearn: 0.5017018\ttotal: 61.1ms\tremaining: 754ms\n",
      "15:\tlearn: 0.4954928\ttotal: 64.9ms\tremaining: 746ms\n",
      "16:\tlearn: 0.4896817\ttotal: 68.8ms\tremaining: 740ms\n",
      "17:\tlearn: 0.4808546\ttotal: 72.6ms\tremaining: 734ms\n",
      "18:\tlearn: 0.4724010\ttotal: 76.8ms\tremaining: 732ms\n",
      "19:\tlearn: 0.4657244\ttotal: 81.1ms\tremaining: 730ms\n",
      "20:\tlearn: 0.4613432\ttotal: 85.3ms\tremaining: 727ms\n",
      "21:\tlearn: 0.4537068\ttotal: 89.2ms\tremaining: 722ms\n",
      "22:\tlearn: 0.4488883\ttotal: 93.4ms\tremaining: 718ms\n",
      "23:\tlearn: 0.4438466\ttotal: 97.5ms\tremaining: 715ms\n",
      "24:\tlearn: 0.4372028\ttotal: 101ms\tremaining: 709ms\n",
      "25:\tlearn: 0.4327993\ttotal: 105ms\tremaining: 703ms\n",
      "26:\tlearn: 0.4274812\ttotal: 109ms\tremaining: 701ms\n",
      "27:\tlearn: 0.4215002\ttotal: 113ms\tremaining: 697ms\n",
      "28:\tlearn: 0.4161126\ttotal: 117ms\tremaining: 691ms\n",
      "29:\tlearn: 0.4116830\ttotal: 121ms\tremaining: 686ms\n",
      "30:\tlearn: 0.4074000\ttotal: 125ms\tremaining: 683ms\n",
      "31:\tlearn: 0.4012367\ttotal: 130ms\tremaining: 685ms\n",
      "32:\tlearn: 0.3971203\ttotal: 135ms\tremaining: 685ms\n",
      "33:\tlearn: 0.3909248\ttotal: 140ms\tremaining: 684ms\n",
      "34:\tlearn: 0.3868997\ttotal: 145ms\tremaining: 684ms\n",
      "35:\tlearn: 0.3836984\ttotal: 150ms\tremaining: 682ms\n",
      "36:\tlearn: 0.3800295\ttotal: 155ms\tremaining: 683ms\n",
      "37:\tlearn: 0.3768893\ttotal: 163ms\tremaining: 693ms\n",
      "38:\tlearn: 0.3726886\ttotal: 168ms\tremaining: 692ms\n",
      "39:\tlearn: 0.3692111\ttotal: 175ms\tremaining: 699ms\n",
      "40:\tlearn: 0.3656284\ttotal: 181ms\tremaining: 701ms\n",
      "41:\tlearn: 0.3617278\ttotal: 187ms\tremaining: 704ms\n",
      "42:\tlearn: 0.3580843\ttotal: 193ms\tremaining: 706ms\n",
      "43:\tlearn: 0.3556401\ttotal: 200ms\tremaining: 709ms\n",
      "44:\tlearn: 0.3520825\ttotal: 205ms\tremaining: 707ms\n",
      "45:\tlearn: 0.3493779\ttotal: 212ms\tremaining: 708ms\n",
      "46:\tlearn: 0.3456837\ttotal: 219ms\tremaining: 712ms\n",
      "47:\tlearn: 0.3432794\ttotal: 223ms\tremaining: 707ms\n",
      "48:\tlearn: 0.3401259\ttotal: 227ms\tremaining: 701ms\n",
      "49:\tlearn: 0.3353722\ttotal: 233ms\tremaining: 699ms\n",
      "50:\tlearn: 0.3334148\ttotal: 238ms\tremaining: 695ms\n",
      "51:\tlearn: 0.3299847\ttotal: 242ms\tremaining: 689ms\n",
      "52:\tlearn: 0.3280110\ttotal: 246ms\tremaining: 682ms\n",
      "53:\tlearn: 0.3252961\ttotal: 251ms\tremaining: 678ms\n",
      "54:\tlearn: 0.3233621\ttotal: 255ms\tremaining: 672ms\n",
      "55:\tlearn: 0.3207172\ttotal: 259ms\tremaining: 666ms\n",
      "56:\tlearn: 0.3181249\ttotal: 263ms\tremaining: 661ms\n",
      "57:\tlearn: 0.3161254\ttotal: 268ms\tremaining: 656ms\n",
      "58:\tlearn: 0.3140861\ttotal: 272ms\tremaining: 651ms\n",
      "59:\tlearn: 0.3127501\ttotal: 276ms\tremaining: 645ms\n",
      "60:\tlearn: 0.3110175\ttotal: 280ms\tremaining: 638ms\n",
      "61:\tlearn: 0.3082383\ttotal: 284ms\tremaining: 632ms\n",
      "62:\tlearn: 0.3058924\ttotal: 288ms\tremaining: 625ms\n",
      "63:\tlearn: 0.3034503\ttotal: 291ms\tremaining: 619ms\n",
      "64:\tlearn: 0.3007585\ttotal: 296ms\tremaining: 614ms\n",
      "65:\tlearn: 0.2989303\ttotal: 300ms\tremaining: 608ms\n",
      "66:\tlearn: 0.2974695\ttotal: 304ms\tremaining: 603ms\n",
      "67:\tlearn: 0.2952234\ttotal: 308ms\tremaining: 597ms\n",
      "68:\tlearn: 0.2917672\ttotal: 311ms\tremaining: 591ms\n",
      "69:\tlearn: 0.2904015\ttotal: 313ms\tremaining: 582ms\n",
      "70:\tlearn: 0.2882877\ttotal: 317ms\tremaining: 576ms\n",
      "71:\tlearn: 0.2864031\ttotal: 321ms\tremaining: 571ms\n",
      "72:\tlearn: 0.2847410\ttotal: 325ms\tremaining: 566ms\n",
      "73:\tlearn: 0.2831286\ttotal: 329ms\tremaining: 560ms\n",
      "74:\tlearn: 0.2805571\ttotal: 333ms\tremaining: 555ms\n",
      "75:\tlearn: 0.2788848\ttotal: 337ms\tremaining: 550ms\n",
      "76:\tlearn: 0.2761907\ttotal: 341ms\tremaining: 545ms\n",
      "77:\tlearn: 0.2749625\ttotal: 346ms\tremaining: 542ms\n",
      "78:\tlearn: 0.2733984\ttotal: 351ms\tremaining: 538ms\n",
      "79:\tlearn: 0.2723307\ttotal: 356ms\tremaining: 534ms\n",
      "80:\tlearn: 0.2710214\ttotal: 360ms\tremaining: 530ms\n",
      "81:\tlearn: 0.2699080\ttotal: 366ms\tremaining: 526ms\n",
      "82:\tlearn: 0.2683451\ttotal: 370ms\tremaining: 522ms\n",
      "83:\tlearn: 0.2669487\ttotal: 375ms\tremaining: 518ms\n",
      "84:\tlearn: 0.2647716\ttotal: 381ms\tremaining: 515ms\n",
      "85:\tlearn: 0.2634680\ttotal: 385ms\tremaining: 510ms\n",
      "86:\tlearn: 0.2622303\ttotal: 389ms\tremaining: 506ms\n",
      "87:\tlearn: 0.2605533\ttotal: 394ms\tremaining: 501ms\n",
      "88:\tlearn: 0.2595138\ttotal: 399ms\tremaining: 498ms\n",
      "89:\tlearn: 0.2585753\ttotal: 404ms\tremaining: 494ms\n",
      "90:\tlearn: 0.2569455\ttotal: 408ms\tremaining: 489ms\n",
      "91:\tlearn: 0.2560611\ttotal: 413ms\tremaining: 484ms\n",
      "92:\tlearn: 0.2544070\ttotal: 417ms\tremaining: 479ms\n",
      "93:\tlearn: 0.2517868\ttotal: 420ms\tremaining: 474ms\n",
      "94:\tlearn: 0.2507386\ttotal: 425ms\tremaining: 469ms\n",
      "95:\tlearn: 0.2495004\ttotal: 429ms\tremaining: 464ms\n",
      "96:\tlearn: 0.2474200\ttotal: 433ms\tremaining: 460ms\n",
      "97:\tlearn: 0.2461638\ttotal: 437ms\tremaining: 455ms\n",
      "98:\tlearn: 0.2450345\ttotal: 441ms\tremaining: 450ms\n",
      "99:\tlearn: 0.2444111\ttotal: 445ms\tremaining: 445ms\n",
      "100:\tlearn: 0.2437353\ttotal: 449ms\tremaining: 440ms\n",
      "101:\tlearn: 0.2431478\ttotal: 453ms\tremaining: 435ms\n",
      "102:\tlearn: 0.2418609\ttotal: 457ms\tremaining: 430ms\n",
      "103:\tlearn: 0.2410050\ttotal: 461ms\tremaining: 425ms\n",
      "104:\tlearn: 0.2404146\ttotal: 464ms\tremaining: 420ms\n",
      "105:\tlearn: 0.2383649\ttotal: 468ms\tremaining: 415ms\n",
      "106:\tlearn: 0.2375381\ttotal: 472ms\tremaining: 411ms\n",
      "107:\tlearn: 0.2356240\ttotal: 477ms\tremaining: 406ms\n",
      "108:\tlearn: 0.2348428\ttotal: 480ms\tremaining: 401ms\n",
      "109:\tlearn: 0.2339522\ttotal: 483ms\tremaining: 395ms\n",
      "110:\tlearn: 0.2323986\ttotal: 487ms\tremaining: 391ms\n",
      "111:\tlearn: 0.2311732\ttotal: 491ms\tremaining: 386ms\n",
      "112:\tlearn: 0.2300730\ttotal: 495ms\tremaining: 381ms\n",
      "113:\tlearn: 0.2292724\ttotal: 499ms\tremaining: 377ms\n",
      "114:\tlearn: 0.2286512\ttotal: 503ms\tremaining: 372ms\n",
      "115:\tlearn: 0.2267089\ttotal: 507ms\tremaining: 367ms\n",
      "116:\tlearn: 0.2256888\ttotal: 511ms\tremaining: 363ms\n",
      "117:\tlearn: 0.2250617\ttotal: 517ms\tremaining: 359ms\n",
      "118:\tlearn: 0.2242462\ttotal: 521ms\tremaining: 355ms\n",
      "119:\tlearn: 0.2233604\ttotal: 526ms\tremaining: 351ms\n",
      "120:\tlearn: 0.2222975\ttotal: 531ms\tremaining: 347ms\n",
      "121:\tlearn: 0.2217859\ttotal: 535ms\tremaining: 342ms\n",
      "122:\tlearn: 0.2206889\ttotal: 540ms\tremaining: 338ms\n",
      "123:\tlearn: 0.2184409\ttotal: 545ms\tremaining: 334ms\n",
      "124:\tlearn: 0.2175196\ttotal: 549ms\tremaining: 329ms\n",
      "125:\tlearn: 0.2156052\ttotal: 556ms\tremaining: 326ms\n",
      "126:\tlearn: 0.2149540\ttotal: 560ms\tremaining: 322ms\n",
      "127:\tlearn: 0.2133339\ttotal: 565ms\tremaining: 318ms\n",
      "128:\tlearn: 0.2120956\ttotal: 570ms\tremaining: 314ms\n",
      "129:\tlearn: 0.2102807\ttotal: 576ms\tremaining: 310ms\n",
      "130:\tlearn: 0.2091413\ttotal: 580ms\tremaining: 305ms\n",
      "131:\tlearn: 0.2083858\ttotal: 584ms\tremaining: 301ms\n",
      "132:\tlearn: 0.2082139\ttotal: 585ms\tremaining: 295ms\n",
      "133:\tlearn: 0.2075806\ttotal: 590ms\tremaining: 290ms\n",
      "134:\tlearn: 0.2065749\ttotal: 594ms\tremaining: 286ms\n",
      "135:\tlearn: 0.2056529\ttotal: 598ms\tremaining: 282ms\n",
      "136:\tlearn: 0.2050428\ttotal: 603ms\tremaining: 277ms\n",
      "137:\tlearn: 0.2044387\ttotal: 608ms\tremaining: 273ms\n",
      "138:\tlearn: 0.2039460\ttotal: 612ms\tremaining: 269ms\n",
      "139:\tlearn: 0.2023206\ttotal: 617ms\tremaining: 265ms\n",
      "140:\tlearn: 0.2013544\ttotal: 621ms\tremaining: 260ms\n",
      "141:\tlearn: 0.2001691\ttotal: 625ms\tremaining: 255ms\n",
      "142:\tlearn: 0.1991756\ttotal: 632ms\tremaining: 252ms\n",
      "143:\tlearn: 0.1982775\ttotal: 636ms\tremaining: 247ms\n",
      "144:\tlearn: 0.1972000\ttotal: 640ms\tremaining: 243ms\n",
      "145:\tlearn: 0.1954370\ttotal: 644ms\tremaining: 238ms\n",
      "146:\tlearn: 0.1943625\ttotal: 648ms\tremaining: 234ms\n",
      "147:\tlearn: 0.1933603\ttotal: 652ms\tremaining: 229ms\n",
      "148:\tlearn: 0.1923451\ttotal: 656ms\tremaining: 224ms\n",
      "149:\tlearn: 0.1909043\ttotal: 660ms\tremaining: 220ms\n",
      "150:\tlearn: 0.1900798\ttotal: 664ms\tremaining: 215ms\n",
      "151:\tlearn: 0.1896075\ttotal: 668ms\tremaining: 211ms\n",
      "152:\tlearn: 0.1886362\ttotal: 673ms\tremaining: 207ms\n",
      "153:\tlearn: 0.1879743\ttotal: 677ms\tremaining: 202ms\n",
      "154:\tlearn: 0.1872903\ttotal: 681ms\tremaining: 198ms\n",
      "155:\tlearn: 0.1858487\ttotal: 687ms\tremaining: 194ms\n",
      "156:\tlearn: 0.1847557\ttotal: 692ms\tremaining: 189ms\n",
      "157:\tlearn: 0.1834748\ttotal: 697ms\tremaining: 185ms\n",
      "158:\tlearn: 0.1827393\ttotal: 702ms\tremaining: 181ms\n",
      "159:\tlearn: 0.1820029\ttotal: 707ms\tremaining: 177ms\n",
      "160:\tlearn: 0.1814870\ttotal: 712ms\tremaining: 172ms\n",
      "161:\tlearn: 0.1807143\ttotal: 716ms\tremaining: 168ms\n",
      "162:\tlearn: 0.1788792\ttotal: 720ms\tremaining: 164ms\n",
      "163:\tlearn: 0.1781223\ttotal: 724ms\tremaining: 159ms\n",
      "164:\tlearn: 0.1778573\ttotal: 729ms\tremaining: 155ms\n",
      "165:\tlearn: 0.1774994\ttotal: 732ms\tremaining: 150ms\n",
      "166:\tlearn: 0.1766472\ttotal: 736ms\tremaining: 146ms\n",
      "167:\tlearn: 0.1753854\ttotal: 741ms\tremaining: 141ms\n",
      "168:\tlearn: 0.1740620\ttotal: 744ms\tremaining: 137ms\n",
      "169:\tlearn: 0.1731421\ttotal: 749ms\tremaining: 132ms\n",
      "170:\tlearn: 0.1723542\ttotal: 752ms\tremaining: 128ms\n",
      "171:\tlearn: 0.1716360\ttotal: 757ms\tremaining: 123ms\n",
      "172:\tlearn: 0.1705085\ttotal: 761ms\tremaining: 119ms\n",
      "173:\tlearn: 0.1694723\ttotal: 764ms\tremaining: 114ms\n",
      "174:\tlearn: 0.1688626\ttotal: 768ms\tremaining: 110ms\n",
      "175:\tlearn: 0.1682950\ttotal: 772ms\tremaining: 105ms\n",
      "176:\tlearn: 0.1674069\ttotal: 776ms\tremaining: 101ms\n",
      "177:\tlearn: 0.1672303\ttotal: 780ms\tremaining: 96.4ms\n",
      "178:\tlearn: 0.1666822\ttotal: 784ms\tremaining: 92ms\n",
      "179:\tlearn: 0.1660508\ttotal: 788ms\tremaining: 87.6ms\n",
      "180:\tlearn: 0.1653085\ttotal: 792ms\tremaining: 83.1ms\n",
      "181:\tlearn: 0.1643963\ttotal: 796ms\tremaining: 78.7ms\n",
      "182:\tlearn: 0.1635574\ttotal: 800ms\tremaining: 74.3ms\n",
      "183:\tlearn: 0.1627505\ttotal: 804ms\tremaining: 69.9ms\n",
      "184:\tlearn: 0.1620530\ttotal: 808ms\tremaining: 65.5ms\n",
      "185:\tlearn: 0.1616087\ttotal: 812ms\tremaining: 61.1ms\n",
      "186:\tlearn: 0.1606996\ttotal: 816ms\tremaining: 56.7ms\n",
      "187:\tlearn: 0.1597629\ttotal: 819ms\tremaining: 52.3ms\n",
      "188:\tlearn: 0.1590408\ttotal: 823ms\tremaining: 47.9ms\n",
      "189:\tlearn: 0.1586038\ttotal: 827ms\tremaining: 43.5ms\n",
      "190:\tlearn: 0.1578480\ttotal: 831ms\tremaining: 39.2ms\n",
      "191:\tlearn: 0.1571188\ttotal: 835ms\tremaining: 34.8ms\n",
      "192:\tlearn: 0.1561423\ttotal: 839ms\tremaining: 30.4ms\n",
      "193:\tlearn: 0.1555195\ttotal: 843ms\tremaining: 26.1ms\n",
      "194:\tlearn: 0.1541191\ttotal: 847ms\tremaining: 21.7ms\n",
      "195:\tlearn: 0.1528584\ttotal: 851ms\tremaining: 17.4ms\n"
     ]
    },
    {
     "name": "stdout",
     "output_type": "stream",
     "text": [
      "196:\tlearn: 0.1519591\ttotal: 860ms\tremaining: 13.1ms\n",
      "197:\tlearn: 0.1513487\ttotal: 864ms\tremaining: 8.73ms\n",
      "198:\tlearn: 0.1508775\ttotal: 869ms\tremaining: 4.37ms\n",
      "199:\tlearn: 0.1496718\ttotal: 875ms\tremaining: 0us\n"
     ]
    }
   ],
   "source": [
    "catb_cv_model=GridSearchCV(catb,catb_params, cv=5, n_jobs=-1,  verbose=2).fit(X_train,y_train)"
   ]
  },
  {
   "cell_type": "code",
   "execution_count": 149,
   "metadata": {},
   "outputs": [
    {
     "data": {
      "text/plain": [
       "{'depth': 8, 'iterations': 200, 'learning_rate': 0.03}"
      ]
     },
     "execution_count": 149,
     "metadata": {},
     "output_type": "execute_result"
    }
   ],
   "source": [
    "catb_cv_model.best_params_"
   ]
  },
  {
   "cell_type": "markdown",
   "metadata": {},
   "source": [
    "# final model"
   ]
  },
  {
   "cell_type": "code",
   "execution_count": 150,
   "metadata": {},
   "outputs": [
    {
     "name": "stdout",
     "output_type": "stream",
     "text": [
      "0:\tlearn: 0.6730562\ttotal: 18.6ms\tremaining: 3.7s\n",
      "1:\tlearn: 0.6583303\ttotal: 36.8ms\tremaining: 3.64s\n",
      "2:\tlearn: 0.6413852\ttotal: 54.3ms\tremaining: 3.57s\n",
      "3:\tlearn: 0.6268405\ttotal: 61.6ms\tremaining: 3.02s\n",
      "4:\tlearn: 0.6150883\ttotal: 67.4ms\tremaining: 2.63s\n",
      "5:\tlearn: 0.5989093\ttotal: 72.7ms\tremaining: 2.35s\n",
      "6:\tlearn: 0.5861303\ttotal: 77ms\tremaining: 2.12s\n",
      "7:\tlearn: 0.5735117\ttotal: 81.6ms\tremaining: 1.96s\n",
      "8:\tlearn: 0.5616370\ttotal: 85.9ms\tremaining: 1.82s\n",
      "9:\tlearn: 0.5507706\ttotal: 90.1ms\tremaining: 1.71s\n",
      "10:\tlearn: 0.5388394\ttotal: 94.6ms\tremaining: 1.63s\n",
      "11:\tlearn: 0.5264516\ttotal: 99.2ms\tremaining: 1.55s\n",
      "12:\tlearn: 0.5191660\ttotal: 103ms\tremaining: 1.49s\n",
      "13:\tlearn: 0.5104459\ttotal: 107ms\tremaining: 1.43s\n",
      "14:\tlearn: 0.5017018\ttotal: 111ms\tremaining: 1.37s\n",
      "15:\tlearn: 0.4954928\ttotal: 116ms\tremaining: 1.33s\n",
      "16:\tlearn: 0.4896817\ttotal: 120ms\tremaining: 1.29s\n",
      "17:\tlearn: 0.4808546\ttotal: 124ms\tremaining: 1.25s\n",
      "18:\tlearn: 0.4724010\ttotal: 128ms\tremaining: 1.22s\n",
      "19:\tlearn: 0.4657244\ttotal: 132ms\tremaining: 1.19s\n",
      "20:\tlearn: 0.4613432\ttotal: 136ms\tremaining: 1.16s\n",
      "21:\tlearn: 0.4537068\ttotal: 141ms\tremaining: 1.14s\n",
      "22:\tlearn: 0.4488883\ttotal: 147ms\tremaining: 1.13s\n",
      "23:\tlearn: 0.4438466\ttotal: 151ms\tremaining: 1.11s\n",
      "24:\tlearn: 0.4372028\ttotal: 155ms\tremaining: 1.09s\n",
      "25:\tlearn: 0.4327993\ttotal: 160ms\tremaining: 1.07s\n",
      "26:\tlearn: 0.4274812\ttotal: 164ms\tremaining: 1.05s\n",
      "27:\tlearn: 0.4215002\ttotal: 168ms\tremaining: 1.03s\n",
      "28:\tlearn: 0.4161126\ttotal: 172ms\tremaining: 1.02s\n",
      "29:\tlearn: 0.4116830\ttotal: 177ms\tremaining: 1s\n",
      "30:\tlearn: 0.4074000\ttotal: 181ms\tremaining: 988ms\n",
      "31:\tlearn: 0.4012367\ttotal: 185ms\tremaining: 972ms\n",
      "32:\tlearn: 0.3971203\ttotal: 191ms\tremaining: 967ms\n",
      "33:\tlearn: 0.3909248\ttotal: 196ms\tremaining: 957ms\n",
      "34:\tlearn: 0.3868997\ttotal: 201ms\tremaining: 947ms\n",
      "35:\tlearn: 0.3836984\ttotal: 206ms\tremaining: 938ms\n",
      "36:\tlearn: 0.3800295\ttotal: 211ms\tremaining: 928ms\n",
      "37:\tlearn: 0.3768893\ttotal: 216ms\tremaining: 919ms\n",
      "38:\tlearn: 0.3726886\ttotal: 220ms\tremaining: 908ms\n",
      "39:\tlearn: 0.3692111\ttotal: 225ms\tremaining: 899ms\n",
      "40:\tlearn: 0.3656284\ttotal: 231ms\tremaining: 896ms\n",
      "41:\tlearn: 0.3617278\ttotal: 236ms\tremaining: 886ms\n",
      "42:\tlearn: 0.3580843\ttotal: 240ms\tremaining: 876ms\n",
      "43:\tlearn: 0.3556401\ttotal: 245ms\tremaining: 867ms\n",
      "44:\tlearn: 0.3520825\ttotal: 248ms\tremaining: 856ms\n",
      "45:\tlearn: 0.3493779\ttotal: 253ms\tremaining: 848ms\n",
      "46:\tlearn: 0.3456837\ttotal: 258ms\tremaining: 840ms\n",
      "47:\tlearn: 0.3432794\ttotal: 262ms\tremaining: 831ms\n",
      "48:\tlearn: 0.3401259\ttotal: 267ms\tremaining: 822ms\n",
      "49:\tlearn: 0.3353722\ttotal: 271ms\tremaining: 813ms\n",
      "50:\tlearn: 0.3334148\ttotal: 275ms\tremaining: 804ms\n",
      "51:\tlearn: 0.3299847\ttotal: 279ms\tremaining: 795ms\n",
      "52:\tlearn: 0.3280110\ttotal: 284ms\tremaining: 787ms\n",
      "53:\tlearn: 0.3252961\ttotal: 288ms\tremaining: 778ms\n",
      "54:\tlearn: 0.3233621\ttotal: 292ms\tremaining: 769ms\n",
      "55:\tlearn: 0.3207172\ttotal: 296ms\tremaining: 761ms\n",
      "56:\tlearn: 0.3181249\ttotal: 300ms\tremaining: 753ms\n",
      "57:\tlearn: 0.3161254\ttotal: 304ms\tremaining: 744ms\n",
      "58:\tlearn: 0.3140861\ttotal: 308ms\tremaining: 737ms\n",
      "59:\tlearn: 0.3127501\ttotal: 312ms\tremaining: 729ms\n",
      "60:\tlearn: 0.3110175\ttotal: 316ms\tremaining: 721ms\n",
      "61:\tlearn: 0.3082383\ttotal: 321ms\tremaining: 714ms\n",
      "62:\tlearn: 0.3058924\ttotal: 325ms\tremaining: 706ms\n",
      "63:\tlearn: 0.3034503\ttotal: 328ms\tremaining: 698ms\n",
      "64:\tlearn: 0.3007585\ttotal: 333ms\tremaining: 692ms\n",
      "65:\tlearn: 0.2989303\ttotal: 337ms\tremaining: 685ms\n",
      "66:\tlearn: 0.2974695\ttotal: 341ms\tremaining: 678ms\n",
      "67:\tlearn: 0.2952234\ttotal: 346ms\tremaining: 671ms\n",
      "68:\tlearn: 0.2917672\ttotal: 350ms\tremaining: 664ms\n",
      "69:\tlearn: 0.2904015\ttotal: 352ms\tremaining: 653ms\n",
      "70:\tlearn: 0.2882877\ttotal: 358ms\tremaining: 650ms\n",
      "71:\tlearn: 0.2864031\ttotal: 362ms\tremaining: 644ms\n",
      "72:\tlearn: 0.2847410\ttotal: 367ms\tremaining: 639ms\n",
      "73:\tlearn: 0.2831286\ttotal: 375ms\tremaining: 639ms\n",
      "74:\tlearn: 0.2805571\ttotal: 380ms\tremaining: 634ms\n",
      "75:\tlearn: 0.2788848\ttotal: 386ms\tremaining: 630ms\n",
      "76:\tlearn: 0.2761907\ttotal: 391ms\tremaining: 625ms\n",
      "77:\tlearn: 0.2749625\ttotal: 397ms\tremaining: 620ms\n",
      "78:\tlearn: 0.2733984\ttotal: 401ms\tremaining: 615ms\n",
      "79:\tlearn: 0.2723307\ttotal: 406ms\tremaining: 609ms\n",
      "80:\tlearn: 0.2710214\ttotal: 410ms\tremaining: 603ms\n",
      "81:\tlearn: 0.2699080\ttotal: 415ms\tremaining: 597ms\n",
      "82:\tlearn: 0.2683451\ttotal: 419ms\tremaining: 591ms\n",
      "83:\tlearn: 0.2669487\ttotal: 424ms\tremaining: 585ms\n",
      "84:\tlearn: 0.2647716\ttotal: 427ms\tremaining: 578ms\n",
      "85:\tlearn: 0.2634680\ttotal: 432ms\tremaining: 572ms\n",
      "86:\tlearn: 0.2622303\ttotal: 436ms\tremaining: 566ms\n",
      "87:\tlearn: 0.2605533\ttotal: 440ms\tremaining: 560ms\n",
      "88:\tlearn: 0.2595138\ttotal: 444ms\tremaining: 553ms\n",
      "89:\tlearn: 0.2585753\ttotal: 448ms\tremaining: 547ms\n",
      "90:\tlearn: 0.2569455\ttotal: 452ms\tremaining: 541ms\n",
      "91:\tlearn: 0.2560611\ttotal: 456ms\tremaining: 535ms\n",
      "92:\tlearn: 0.2544070\ttotal: 460ms\tremaining: 530ms\n",
      "93:\tlearn: 0.2517868\ttotal: 464ms\tremaining: 524ms\n",
      "94:\tlearn: 0.2507386\ttotal: 469ms\tremaining: 518ms\n",
      "95:\tlearn: 0.2495004\ttotal: 473ms\tremaining: 512ms\n",
      "96:\tlearn: 0.2474200\ttotal: 477ms\tremaining: 506ms\n",
      "97:\tlearn: 0.2461638\ttotal: 481ms\tremaining: 501ms\n",
      "98:\tlearn: 0.2450345\ttotal: 485ms\tremaining: 495ms\n",
      "99:\tlearn: 0.2444111\ttotal: 489ms\tremaining: 489ms\n",
      "100:\tlearn: 0.2437353\ttotal: 493ms\tremaining: 483ms\n",
      "101:\tlearn: 0.2431478\ttotal: 497ms\tremaining: 477ms\n",
      "102:\tlearn: 0.2418609\ttotal: 500ms\tremaining: 471ms\n",
      "103:\tlearn: 0.2410050\ttotal: 504ms\tremaining: 466ms\n",
      "104:\tlearn: 0.2404146\ttotal: 508ms\tremaining: 460ms\n",
      "105:\tlearn: 0.2383649\ttotal: 513ms\tremaining: 455ms\n",
      "106:\tlearn: 0.2375381\ttotal: 516ms\tremaining: 449ms\n",
      "107:\tlearn: 0.2356240\ttotal: 520ms\tremaining: 443ms\n",
      "108:\tlearn: 0.2348428\ttotal: 524ms\tremaining: 438ms\n",
      "109:\tlearn: 0.2339522\ttotal: 528ms\tremaining: 432ms\n",
      "110:\tlearn: 0.2323986\ttotal: 533ms\tremaining: 427ms\n",
      "111:\tlearn: 0.2311732\ttotal: 538ms\tremaining: 423ms\n",
      "112:\tlearn: 0.2300730\ttotal: 543ms\tremaining: 418ms\n",
      "113:\tlearn: 0.2292724\ttotal: 548ms\tremaining: 413ms\n",
      "114:\tlearn: 0.2286512\ttotal: 553ms\tremaining: 408ms\n",
      "115:\tlearn: 0.2267089\ttotal: 557ms\tremaining: 404ms\n",
      "116:\tlearn: 0.2256888\ttotal: 562ms\tremaining: 398ms\n",
      "117:\tlearn: 0.2250617\ttotal: 568ms\tremaining: 395ms\n",
      "118:\tlearn: 0.2242462\ttotal: 574ms\tremaining: 391ms\n",
      "119:\tlearn: 0.2233604\ttotal: 579ms\tremaining: 386ms\n",
      "120:\tlearn: 0.2222975\ttotal: 584ms\tremaining: 381ms\n",
      "121:\tlearn: 0.2217859\ttotal: 590ms\tremaining: 377ms\n",
      "122:\tlearn: 0.2206889\ttotal: 594ms\tremaining: 372ms\n",
      "123:\tlearn: 0.2184409\ttotal: 598ms\tremaining: 367ms\n",
      "124:\tlearn: 0.2175196\ttotal: 604ms\tremaining: 362ms\n",
      "125:\tlearn: 0.2156052\ttotal: 610ms\tremaining: 358ms\n",
      "126:\tlearn: 0.2149540\ttotal: 616ms\tremaining: 354ms\n",
      "127:\tlearn: 0.2133339\ttotal: 621ms\tremaining: 349ms\n",
      "128:\tlearn: 0.2120956\ttotal: 626ms\tremaining: 345ms\n",
      "129:\tlearn: 0.2102807\ttotal: 634ms\tremaining: 341ms\n",
      "130:\tlearn: 0.2091413\ttotal: 639ms\tremaining: 336ms\n",
      "131:\tlearn: 0.2083858\ttotal: 644ms\tremaining: 332ms\n",
      "132:\tlearn: 0.2082139\ttotal: 647ms\tremaining: 326ms\n",
      "133:\tlearn: 0.2075806\ttotal: 652ms\tremaining: 321ms\n",
      "134:\tlearn: 0.2065749\ttotal: 657ms\tremaining: 317ms\n",
      "135:\tlearn: 0.2056529\ttotal: 663ms\tremaining: 312ms\n",
      "136:\tlearn: 0.2050428\ttotal: 668ms\tremaining: 307ms\n",
      "137:\tlearn: 0.2044387\ttotal: 673ms\tremaining: 302ms\n",
      "138:\tlearn: 0.2039460\ttotal: 678ms\tremaining: 297ms\n",
      "139:\tlearn: 0.2023206\ttotal: 683ms\tremaining: 293ms\n",
      "140:\tlearn: 0.2013544\ttotal: 687ms\tremaining: 287ms\n",
      "141:\tlearn: 0.2001691\ttotal: 691ms\tremaining: 282ms\n",
      "142:\tlearn: 0.1991756\ttotal: 695ms\tremaining: 277ms\n",
      "143:\tlearn: 0.1982775\ttotal: 701ms\tremaining: 273ms\n",
      "144:\tlearn: 0.1972000\ttotal: 706ms\tremaining: 268ms\n",
      "145:\tlearn: 0.1954370\ttotal: 711ms\tremaining: 263ms\n",
      "146:\tlearn: 0.1943625\ttotal: 716ms\tremaining: 258ms\n",
      "147:\tlearn: 0.1933603\ttotal: 721ms\tremaining: 253ms\n",
      "148:\tlearn: 0.1923451\ttotal: 727ms\tremaining: 249ms\n",
      "149:\tlearn: 0.1909043\ttotal: 731ms\tremaining: 244ms\n",
      "150:\tlearn: 0.1900798\ttotal: 735ms\tremaining: 239ms\n",
      "151:\tlearn: 0.1896075\ttotal: 740ms\tremaining: 234ms\n",
      "152:\tlearn: 0.1886362\ttotal: 745ms\tremaining: 229ms\n",
      "153:\tlearn: 0.1879743\ttotal: 749ms\tremaining: 224ms\n",
      "154:\tlearn: 0.1872903\ttotal: 753ms\tremaining: 219ms\n",
      "155:\tlearn: 0.1858487\ttotal: 758ms\tremaining: 214ms\n",
      "156:\tlearn: 0.1847557\ttotal: 762ms\tremaining: 209ms\n",
      "157:\tlearn: 0.1834748\ttotal: 766ms\tremaining: 204ms\n",
      "158:\tlearn: 0.1827393\ttotal: 771ms\tremaining: 199ms\n",
      "159:\tlearn: 0.1820029\ttotal: 775ms\tremaining: 194ms\n",
      "160:\tlearn: 0.1814870\ttotal: 780ms\tremaining: 189ms\n",
      "161:\tlearn: 0.1807143\ttotal: 785ms\tremaining: 184ms\n",
      "162:\tlearn: 0.1788792\ttotal: 789ms\tremaining: 179ms\n",
      "163:\tlearn: 0.1781223\ttotal: 793ms\tremaining: 174ms\n",
      "164:\tlearn: 0.1778573\ttotal: 798ms\tremaining: 169ms\n",
      "165:\tlearn: 0.1774994\ttotal: 802ms\tremaining: 164ms\n",
      "166:\tlearn: 0.1766472\ttotal: 807ms\tremaining: 159ms\n",
      "167:\tlearn: 0.1753854\ttotal: 811ms\tremaining: 154ms\n",
      "168:\tlearn: 0.1740620\ttotal: 815ms\tremaining: 150ms\n",
      "169:\tlearn: 0.1731421\ttotal: 820ms\tremaining: 145ms\n",
      "170:\tlearn: 0.1723542\ttotal: 824ms\tremaining: 140ms\n",
      "171:\tlearn: 0.1716360\ttotal: 830ms\tremaining: 135ms\n",
      "172:\tlearn: 0.1705085\ttotal: 835ms\tremaining: 130ms\n",
      "173:\tlearn: 0.1694723\ttotal: 840ms\tremaining: 126ms\n",
      "174:\tlearn: 0.1688626\ttotal: 846ms\tremaining: 121ms\n",
      "175:\tlearn: 0.1682950\ttotal: 850ms\tremaining: 116ms\n",
      "176:\tlearn: 0.1674069\ttotal: 855ms\tremaining: 111ms\n",
      "177:\tlearn: 0.1672303\ttotal: 860ms\tremaining: 106ms\n",
      "178:\tlearn: 0.1666822\ttotal: 865ms\tremaining: 102ms\n"
     ]
    },
    {
     "name": "stdout",
     "output_type": "stream",
     "text": [
      "179:\tlearn: 0.1660508\ttotal: 872ms\tremaining: 96.9ms\n",
      "180:\tlearn: 0.1653085\ttotal: 877ms\tremaining: 92.1ms\n",
      "181:\tlearn: 0.1643963\ttotal: 882ms\tremaining: 87.2ms\n",
      "182:\tlearn: 0.1635574\ttotal: 887ms\tremaining: 82.4ms\n",
      "183:\tlearn: 0.1627505\ttotal: 892ms\tremaining: 77.6ms\n",
      "184:\tlearn: 0.1620530\ttotal: 898ms\tremaining: 72.8ms\n",
      "185:\tlearn: 0.1616087\ttotal: 902ms\tremaining: 67.9ms\n",
      "186:\tlearn: 0.1606996\ttotal: 907ms\tremaining: 63ms\n",
      "187:\tlearn: 0.1597629\ttotal: 911ms\tremaining: 58.1ms\n",
      "188:\tlearn: 0.1590408\ttotal: 915ms\tremaining: 53.3ms\n",
      "189:\tlearn: 0.1586038\ttotal: 919ms\tremaining: 48.4ms\n",
      "190:\tlearn: 0.1578480\ttotal: 924ms\tremaining: 43.5ms\n",
      "191:\tlearn: 0.1571188\ttotal: 928ms\tremaining: 38.7ms\n",
      "192:\tlearn: 0.1561423\ttotal: 933ms\tremaining: 33.8ms\n",
      "193:\tlearn: 0.1555195\ttotal: 939ms\tremaining: 29ms\n",
      "194:\tlearn: 0.1541191\ttotal: 944ms\tremaining: 24.2ms\n",
      "195:\tlearn: 0.1528584\ttotal: 949ms\tremaining: 19.4ms\n",
      "196:\tlearn: 0.1519591\ttotal: 954ms\tremaining: 14.5ms\n",
      "197:\tlearn: 0.1513487\ttotal: 958ms\tremaining: 9.68ms\n",
      "198:\tlearn: 0.1508775\ttotal: 963ms\tremaining: 4.84ms\n",
      "199:\tlearn: 0.1496718\ttotal: 968ms\tremaining: 0us\n"
     ]
    }
   ],
   "source": [
    "catb_tuned =CatBoostClassifier(depth=8,iterations=200,learning_rate=0.03).fit(X_train, y_train)"
   ]
  },
  {
   "cell_type": "code",
   "execution_count": 151,
   "metadata": {},
   "outputs": [],
   "source": [
    "y_pred=catb_tuned.predict(X_test)"
   ]
  },
  {
   "cell_type": "code",
   "execution_count": 152,
   "metadata": {},
   "outputs": [
    {
     "data": {
      "text/plain": [
       "0.7489177489177489"
      ]
     },
     "execution_count": 152,
     "metadata": {},
     "output_type": "execute_result"
    }
   ],
   "source": [
    "accuracy_score(y_test, y_pred)"
   ]
  },
  {
   "cell_type": "code",
   "execution_count": 153,
   "metadata": {},
   "outputs": [
    {
     "data": {
      "text/plain": [
       "Text(0.5, 1.0, 'Değişken Önem Düzeyleri')"
      ]
     },
     "execution_count": 153,
     "metadata": {},
     "output_type": "execute_result"
    },
    {
     "data": {
      "image/png": "[encoded data removed]",
      "text/plain": [
       "<Figure size 432x288 with 1 Axes>"
      ]
     },
     "metadata": {
      "needs_background": "light"
     },
     "output_type": "display_data"
    }
   ],
   "source": [
    "feature_imp = pd.Series(catb_tuned.feature_importances_,\n",
    "                       index=X_train.columns).sort_values(ascending=False)\n",
    "\n",
    "sns.barplot(x=feature_imp, y=feature_imp.index)\n",
    "plt.xlabel(\"Değişken Önem Skorları\")\n",
    "plt.ylabel(\"Değişkenler\")\n",
    "plt.title(\"Değişken Önem Düzeyleri\")"
   ]
  },
  {
   "cell_type": "markdown",
   "metadata": {},
   "source": [
    "# TÜM MODELLERİN KARŞILAŞTIRMASI"
   ]
  },
  {
   "cell_type": "code",
   "execution_count": 154,
   "metadata": {},
   "outputs": [],
   "source": [
    "modeller = [\n",
    "    knn_tuned,\n",
    "    loj_model,\n",
    "    svm_tuned,\n",
    "    mlpc_tuned,\n",
    "    cart_tuned,\n",
    "    rfs_tuned,\n",
    "    gbm_tuned,\n",
    "    catb_tuned,\n",
    "    lgbm_tuned,\n",
    "    xgb_tuned]\n",
    "\n",
    "sonuc = []\n",
    "sonuclar = pd.DataFrame(columns= [\"Modeller\",\"Accuracy\"])\n",
    "\n",
    "for model in modeller:\n",
    "    isimler = model.__class__.__name__\n",
    "    y_pred = model.predict(X_test)\n",
    "    dogruluk = accuracy_score(y_test, y_pred)\n",
    "    sonuc = pd.DataFrame([[isimler, dogruluk * 100]], columns = [\"Modeller\",\"Accuracy\"])\n",
    "    sonuclar = sonuclar.append(sonuc)"
   ]
  },
  {
   "cell_type": "code",
   "execution_count": 155,
   "metadata": {},
   "outputs": [
    {
     "data": {
      "text/html": [
       "<div>\n",
       "<style scoped>\n",
       "    .dataframe tbody tr th:only-of-type {\n",
       "        vertical-align: middle;\n",
       "    }\n",
       "\n",
       "    .dataframe tbody tr th {\n",
       "        vertical-align: top;\n",
       "    }\n",
       "\n",
       "    .dataframe thead th {\n",
       "        text-align: right;\n",
       "    }\n",
       "</style>\n",
       "<table border=\"1\" class=\"dataframe\">\n",
       "  <thead>\n",
       "    <tr style=\"text-align: right;\">\n",
       "      <th></th>\n",
       "      <th>Modeller</th>\n",
       "      <th>Accuracy</th>\n",
       "    </tr>\n",
       "  </thead>\n",
       "  <tbody>\n",
       "    <tr>\n",
       "      <th>0</th>\n",
       "      <td>KNeighborsClassifier</td>\n",
       "      <td>73.160173</td>\n",
       "    </tr>\n",
       "    <tr>\n",
       "      <th>0</th>\n",
       "      <td>LogisticRegression</td>\n",
       "      <td>75.324675</td>\n",
       "    </tr>\n",
       "    <tr>\n",
       "      <th>0</th>\n",
       "      <td>SVC</td>\n",
       "      <td>74.458874</td>\n",
       "    </tr>\n",
       "    <tr>\n",
       "      <th>0</th>\n",
       "      <td>MLPClassifier</td>\n",
       "      <td>71.861472</td>\n",
       "    </tr>\n",
       "    <tr>\n",
       "      <th>0</th>\n",
       "      <td>DecisionTreeClassifier</td>\n",
       "      <td>75.324675</td>\n",
       "    </tr>\n",
       "    <tr>\n",
       "      <th>0</th>\n",
       "      <td>RandomForestClassifier</td>\n",
       "      <td>74.891775</td>\n",
       "    </tr>\n",
       "    <tr>\n",
       "      <th>0</th>\n",
       "      <td>GradientBoostingClassifier</td>\n",
       "      <td>74.025974</td>\n",
       "    </tr>\n",
       "    <tr>\n",
       "      <th>0</th>\n",
       "      <td>CatBoostClassifier</td>\n",
       "      <td>74.891775</td>\n",
       "    </tr>\n",
       "    <tr>\n",
       "      <th>0</th>\n",
       "      <td>LGBMClassifier</td>\n",
       "      <td>76.623377</td>\n",
       "    </tr>\n",
       "    <tr>\n",
       "      <th>0</th>\n",
       "      <td>XGBClassifier</td>\n",
       "      <td>72.727273</td>\n",
       "    </tr>\n",
       "  </tbody>\n",
       "</table>\n",
       "</div>"
      ],
      "text/plain": [
       "                     Modeller   Accuracy\n",
       "0        KNeighborsClassifier  73.160173\n",
       "0          LogisticRegression  75.324675\n",
       "0                         SVC  74.458874\n",
       "0               MLPClassifier  71.861472\n",
       "0      DecisionTreeClassifier  75.324675\n",
       "0      RandomForestClassifier  74.891775\n",
       "0  GradientBoostingClassifier  74.025974\n",
       "0          CatBoostClassifier  74.891775\n",
       "0              LGBMClassifier  76.623377\n",
       "0               XGBClassifier  72.727273"
      ]
     },
     "execution_count": 155,
     "metadata": {},
     "output_type": "execute_result"
    }
   ],
   "source": [
    "sonuclar"
   ]
  },
  {
   "cell_type": "code",
   "execution_count": 156,
   "metadata": {},
   "outputs": [
    {
     "data": {
      "image/png": "[encoded data removed]",
      "text/plain": [
       "<Figure size 432x288 with 1 Axes>"
      ]
     },
     "metadata": {
      "needs_background": "light"
     },
     "output_type": "display_data"
    }
   ],
   "source": [
    "sns.barplot(x = \"Accuracy\", y = \"Modeller\", data=sonuclar, color=\"r\")\n",
    "plt.xlabel(\"Accuracy %\")\n",
    "plt.title(\"Modellerin Doğruluk Oranları\");"
   ]
  },
  {
   "cell_type": "code",
   "execution_count": null,
   "metadata": {},
   "outputs": [],
   "source": []
  }
 ],
 "metadata": {
  "kernelspec": {
   "display_name": "Python 3",
   "language": "python",
   "name": "python3"
  },
  "language_info": {
   "codemirror_mode": {
    "name": "ipython",
    "version": 3
   },
   "file_extension": ".py",
   "mimetype": "text/x-python",
   "name": "python",
   "nbconvert_exporter": "python",
   "pygments_lexer": "ipython3",
   "version": "3.8.3"
  }
 },
 "nbformat": 4,
 "nbformat_minor": 4
}
